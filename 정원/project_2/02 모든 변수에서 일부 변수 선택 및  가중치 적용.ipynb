{
 "cells": [
  {
   "cell_type": "code",
   "execution_count": 9,
   "metadata": {},
   "outputs": [],
   "source": [
    "import pandas as pd"
   ]
  },
  {
   "cell_type": "code",
   "execution_count": 6,
   "metadata": {},
   "outputs": [],
   "source": [
    "from sklearn.preprocessing import MinMaxScaler"
   ]
  },
  {
   "cell_type": "code",
   "execution_count": 7,
   "metadata": {},
   "outputs": [],
   "source": [
    "pd.options.display.float_format = '{:.2f}'.format"
   ]
  },
  {
   "cell_type": "markdown",
   "metadata": {},
   "source": [
    "# 사용한 변수 및 가중치 가져오기"
   ]
  },
  {
   "cell_type": "code",
   "execution_count": 11,
   "metadata": {},
   "outputs": [
    {
     "data": {
      "text/plain": [
       "dict_keys(['사업체수', '신고사건접수건수', '근로감독건수', '정기감독실시업체', '안전보건진단·개선계획수립명령건수(개선계획)'])"
      ]
     },
     "execution_count": 11,
     "metadata": {},
     "output_type": "execute_result"
    }
   ],
   "source": [
    "df_tmp = pd.read_excel(\"./변수 및 가중치 입력.xlsx\", usecols=['변수', '가중치'])\n",
    "df_tmp = df_tmp[df_tmp['가중치'] > 0].reset_index(drop=True)   # 가중치가 있는 변수만 추리기\n",
    "useValsLst = dict(zip(df_tmp['변수'], df_tmp['가중치']))\n",
    "useValsLst.keys()"
   ]
  },
  {
   "cell_type": "code",
   "execution_count": 12,
   "metadata": {},
   "outputs": [
    {
     "data": {
      "text/plain": [
       "['사업체수', '신고사건접수건수', '근로감독건수', '정기감독실시업체', '안전보건진단·개선계획수립명령건수(개선계획)']"
      ]
     },
     "execution_count": 12,
     "metadata": {},
     "output_type": "execute_result"
    }
   ],
   "source": [
    "list(useValsLst.keys())"
   ]
  },
  {
   "cell_type": "code",
   "execution_count": 13,
   "metadata": {},
   "outputs": [
    {
     "data": {
      "text/plain": [
       "['기관명',\n",
       " '과수(전체)',\n",
       " '전체정원',\n",
       " '감독관',\n",
       " '사업체수',\n",
       " '신고사건접수건수',\n",
       " '근로감독건수',\n",
       " '정기감독실시업체',\n",
       " '안전보건진단·개선계획수립명령건수(개선계획)']"
      ]
     },
     "execution_count": 13,
     "metadata": {},
     "output_type": "execute_result"
    }
   ],
   "source": [
    "['기관명','과수(전체)','전체정원','감독관'] +  list(useValsLst.keys())"
   ]
  },
  {
   "cell_type": "code",
   "execution_count": null,
   "metadata": {},
   "outputs": [],
   "source": []
  },
  {
   "cell_type": "markdown",
   "metadata": {},
   "source": [
    "# 사용자가 입력한 변수만 가져오기"
   ]
  },
  {
   "cell_type": "code",
   "execution_count": 15,
   "metadata": {},
   "outputs": [],
   "source": [
    "df_org = pd.read_csv(\"./(250617)근로감독관 충원 RAW DATA(v0.2).csv\",  \n",
    "                     usecols = ['기관명','과수(전체)','전체정원','감독관'] +  list(useValsLst.keys()),\n",
    "                     encoding = 'cp949')"
   ]
  },
  {
   "cell_type": "code",
   "execution_count": 16,
   "metadata": {},
   "outputs": [
    {
     "data": {
      "text/html": [
       "<div>\n",
       "<style scoped>\n",
       "    .dataframe tbody tr th:only-of-type {\n",
       "        vertical-align: middle;\n",
       "    }\n",
       "\n",
       "    .dataframe tbody tr th {\n",
       "        vertical-align: top;\n",
       "    }\n",
       "\n",
       "    .dataframe thead th {\n",
       "        text-align: right;\n",
       "    }\n",
       "</style>\n",
       "<table border=\"1\" class=\"dataframe\">\n",
       "  <thead>\n",
       "    <tr style=\"text-align: right;\">\n",
       "      <th></th>\n",
       "      <th>기관명</th>\n",
       "      <th>과수(전체)</th>\n",
       "      <th>전체정원</th>\n",
       "      <th>감독관</th>\n",
       "      <th>사업체수</th>\n",
       "      <th>신고사건접수건수</th>\n",
       "      <th>근로감독건수</th>\n",
       "      <th>정기감독실시업체</th>\n",
       "      <th>안전보건진단·개선계획수립명령건수(개선계획)</th>\n",
       "    </tr>\n",
       "  </thead>\n",
       "  <tbody>\n",
       "    <tr>\n",
       "      <th>0</th>\n",
       "      <td>서울청</td>\n",
       "      <td>17</td>\n",
       "      <td>297</td>\n",
       "      <td>146</td>\n",
       "      <td>96342</td>\n",
       "      <td>11789</td>\n",
       "      <td>1357</td>\n",
       "      <td>1136</td>\n",
       "      <td>NaN</td>\n",
       "    </tr>\n",
       "    <tr>\n",
       "      <th>1</th>\n",
       "      <td>서울강남지청</td>\n",
       "      <td>8</td>\n",
       "      <td>161</td>\n",
       "      <td>88</td>\n",
       "      <td>60696</td>\n",
       "      <td>12226</td>\n",
       "      <td>865</td>\n",
       "      <td>741</td>\n",
       "      <td>NaN</td>\n",
       "    </tr>\n",
       "    <tr>\n",
       "      <th>2</th>\n",
       "      <td>서울동부지청</td>\n",
       "      <td>8</td>\n",
       "      <td>187</td>\n",
       "      <td>82</td>\n",
       "      <td>73619</td>\n",
       "      <td>10836</td>\n",
       "      <td>749</td>\n",
       "      <td>656</td>\n",
       "      <td>NaN</td>\n",
       "    </tr>\n",
       "    <tr>\n",
       "      <th>3</th>\n",
       "      <td>서울서부지청</td>\n",
       "      <td>7</td>\n",
       "      <td>176</td>\n",
       "      <td>71</td>\n",
       "      <td>52899</td>\n",
       "      <td>8233</td>\n",
       "      <td>642</td>\n",
       "      <td>582</td>\n",
       "      <td>NaN</td>\n",
       "    </tr>\n",
       "    <tr>\n",
       "      <th>4</th>\n",
       "      <td>서울남부지청</td>\n",
       "      <td>8</td>\n",
       "      <td>180</td>\n",
       "      <td>75</td>\n",
       "      <td>60319</td>\n",
       "      <td>9804</td>\n",
       "      <td>745</td>\n",
       "      <td>620</td>\n",
       "      <td>1.00</td>\n",
       "    </tr>\n",
       "  </tbody>\n",
       "</table>\n",
       "</div>"
      ],
      "text/plain": [
       "      기관명  과수(전체)  전체정원  감독관   사업체수  신고사건접수건수  근로감독건수  정기감독실시업체  \\\n",
       "0     서울청      17   297  146  96342     11789    1357      1136   \n",
       "1  서울강남지청       8   161   88  60696     12226     865       741   \n",
       "2  서울동부지청       8   187   82  73619     10836     749       656   \n",
       "3  서울서부지청       7   176   71  52899      8233     642       582   \n",
       "4  서울남부지청       8   180   75  60319      9804     745       620   \n",
       "\n",
       "   안전보건진단·개선계획수립명령건수(개선계획)  \n",
       "0                      NaN  \n",
       "1                      NaN  \n",
       "2                      NaN  \n",
       "3                      NaN  \n",
       "4                     1.00  "
      ]
     },
     "execution_count": 16,
     "metadata": {},
     "output_type": "execute_result"
    }
   ],
   "source": [
    "df_org.head()"
   ]
  },
  {
   "cell_type": "code",
   "execution_count": 17,
   "metadata": {},
   "outputs": [
    {
     "data": {
      "text/plain": [
       "기관명                         object\n",
       "과수(전체)                       int64\n",
       "전체정원                         int64\n",
       "감독관                          int64\n",
       "사업체수                         int64\n",
       "신고사건접수건수                     int64\n",
       "근로감독건수                       int64\n",
       "정기감독실시업체                     int64\n",
       "안전보건진단·개선계획수립명령건수(개선계획)    float64\n",
       "dtype: object"
      ]
     },
     "execution_count": 17,
     "metadata": {},
     "output_type": "execute_result"
    }
   ],
   "source": [
    "df_org.dtypes"
   ]
  },
  {
   "cell_type": "markdown",
   "metadata": {},
   "source": [
    "# 감독관 100명 증원"
   ]
  },
  {
   "cell_type": "markdown",
   "metadata": {},
   "source": [
    "##### 프로세스 설명 : 1.감독관 1인당 담당량을 계산  2. 1인당 담당량이 가장 만은 지청에 감독관 1명을 증원  3.  1,2 반복\n"
   ]
  },
  {
   "cell_type": "code",
   "execution_count": 18,
   "metadata": {},
   "outputs": [],
   "source": [
    "df_증원 = df_org.copy()\n",
    "df_증원['반복회수'] = 0\n",
    "df_증원 = df_증원[['반복회수'] + [col for col in df_증원.columns if col != '반복회수']]\n",
    "plus_arr = []\n",
    "df_증원log = pd.DataFrame(columns = df_증원.columns)\n",
    "df_증원기관 = pd.DataFrame(columns = ['반복회차', '기관명', '현감독관', '작업후_감독관'])"
   ]
  },
  {
   "cell_type": "code",
   "execution_count": 20,
   "metadata": {},
   "outputs": [],
   "source": [
    "\n",
    "scaler = MinMaxScaler()\n",
    "for val in useValsLst.keys() :\n",
    "    df_증원['1인당_' + val] = df_증원[val]/df_증원['감독관']\n",
    "    df_증원['1인당_N_' + val] = scaler.fit_transform(df_증원[['1인당_' + val]])*100 \n",
    "\n",
    "v = 0\n",
    "for val in useValsLst.keys() :\n",
    "    v += df_증원['1인당_N_' + val]\n",
    "    \n",
    "df_증원['1인당_업무량'] = v\n",
    "\n",
    "    \n",
    "    \n",
    "    "
   ]
  },
  {
   "cell_type": "code",
   "execution_count": 25,
   "metadata": {},
   "outputs": [
    {
     "data": {
      "text/plain": [
       "Index(['반복회수', '기관명', '과수(전체)', '전체정원', '감독관', '사업체수', '신고사건접수건수', '근로감독건수',\n",
       "       '정기감독실시업체', '안전보건진단·개선계획수립명령건수(개선계획)', '1인당_사업체수', '1인당_N_사업체수',\n",
       "       '1인당_신고사건접수건수', '1인당_N_신고사건접수건수', '1인당_근로감독건수', '1인당_N_근로감독건수',\n",
       "       '1인당_정기감독실시업체', '1인당_N_정기감독실시업체', '1인당_안전보건진단·개선계획수립명령건수(개선계획)',\n",
       "       '1인당_N_안전보건진단·개선계획수립명령건수(개선계획)', '1인당_업무량'],\n",
       "      dtype='object')"
      ]
     },
     "execution_count": 25,
     "metadata": {},
     "output_type": "execute_result"
    }
   ],
   "source": [
    "df_증원.columns\n"
   ]
  },
  {
   "cell_type": "code",
   "execution_count": 24,
   "metadata": {
    "scrolled": true
   },
   "outputs": [
    {
     "ename": "KeyError",
     "evalue": "'인구수'",
     "output_type": "error",
     "traceback": [
      "\u001b[1;31m---------------------------------------------------------------------------\u001b[0m",
      "\u001b[1;31mKeyError\u001b[0m                                  Traceback (most recent call last)",
      "File \u001b[1;32md:\\Python\\Lib\\site-packages\\pandas\\core\\indexes\\base.py:3805\u001b[0m, in \u001b[0;36mIndex.get_loc\u001b[1;34m(self, key)\u001b[0m\n\u001b[0;32m   3804\u001b[0m \u001b[38;5;28;01mtry\u001b[39;00m:\n\u001b[1;32m-> 3805\u001b[0m     \u001b[38;5;28;01mreturn\u001b[39;00m \u001b[38;5;28;43mself\u001b[39;49m\u001b[38;5;241;43m.\u001b[39;49m\u001b[43m_engine\u001b[49m\u001b[38;5;241;43m.\u001b[39;49m\u001b[43mget_loc\u001b[49m\u001b[43m(\u001b[49m\u001b[43mcasted_key\u001b[49m\u001b[43m)\u001b[49m\n\u001b[0;32m   3806\u001b[0m \u001b[38;5;28;01mexcept\u001b[39;00m \u001b[38;5;167;01mKeyError\u001b[39;00m \u001b[38;5;28;01mas\u001b[39;00m err:\n",
      "File \u001b[1;32mindex.pyx:167\u001b[0m, in \u001b[0;36mpandas._libs.index.IndexEngine.get_loc\u001b[1;34m()\u001b[0m\n",
      "File \u001b[1;32mindex.pyx:196\u001b[0m, in \u001b[0;36mpandas._libs.index.IndexEngine.get_loc\u001b[1;34m()\u001b[0m\n",
      "File \u001b[1;32mpandas\\\\_libs\\\\hashtable_class_helper.pxi:7081\u001b[0m, in \u001b[0;36mpandas._libs.hashtable.PyObjectHashTable.get_item\u001b[1;34m()\u001b[0m\n",
      "File \u001b[1;32mpandas\\\\_libs\\\\hashtable_class_helper.pxi:7089\u001b[0m, in \u001b[0;36mpandas._libs.hashtable.PyObjectHashTable.get_item\u001b[1;34m()\u001b[0m\n",
      "\u001b[1;31mKeyError\u001b[0m: '인구수'",
      "\nThe above exception was the direct cause of the following exception:\n",
      "\u001b[1;31mKeyError\u001b[0m                                  Traceback (most recent call last)",
      "Cell \u001b[1;32mIn[24], line 6\u001b[0m\n\u001b[0;32m      1\u001b[0m \u001b[38;5;28;01mfor\u001b[39;00m i \u001b[38;5;129;01min\u001b[39;00m \u001b[38;5;28mrange\u001b[39m(\u001b[38;5;241m0\u001b[39m,\u001b[38;5;241m100\u001b[39m):\n\u001b[0;32m      2\u001b[0m \n\u001b[0;32m      3\u001b[0m     \u001b[38;5;66;03m## 변수별 감독관 1인당 담당량 계산\u001b[39;00m\n\u001b[0;32m      4\u001b[0m     \u001b[38;5;28;01mfor\u001b[39;00m val \u001b[38;5;129;01min\u001b[39;00m useValsLst\u001b[38;5;241m.\u001b[39mkeys() :    \n\u001b[1;32m----> 6\u001b[0m         df_증원[\u001b[38;5;124m'\u001b[39m\u001b[38;5;124m1인당_인구수\u001b[39m\u001b[38;5;124m'\u001b[39m] \u001b[38;5;241m=\u001b[39m \u001b[43mdf_증원\u001b[49m\u001b[43m[\u001b[49m\u001b[38;5;124;43m'\u001b[39;49m\u001b[38;5;124;43m인구수\u001b[39;49m\u001b[38;5;124;43m'\u001b[39;49m\u001b[43m]\u001b[49m\u001b[38;5;241m/\u001b[39mdf_증원[\u001b[38;5;124m'\u001b[39m\u001b[38;5;124m감독관\u001b[39m\u001b[38;5;124m'\u001b[39m]\n\u001b[0;32m      7\u001b[0m         df_증원[\u001b[38;5;124m'\u001b[39m\u001b[38;5;124m1인당_사업체수\u001b[39m\u001b[38;5;124m'\u001b[39m] \u001b[38;5;241m=\u001b[39m df_증원[\u001b[38;5;124m'\u001b[39m\u001b[38;5;124m사업체수\u001b[39m\u001b[38;5;124m'\u001b[39m]\u001b[38;5;241m/\u001b[39mdf_증원[\u001b[38;5;124m'\u001b[39m\u001b[38;5;124m감독관\u001b[39m\u001b[38;5;124m'\u001b[39m]\n\u001b[0;32m      8\u001b[0m         df_증원[\u001b[38;5;124m'\u001b[39m\u001b[38;5;124m1인당_종사자수\u001b[39m\u001b[38;5;124m'\u001b[39m] \u001b[38;5;241m=\u001b[39m df_증원[\u001b[38;5;124m'\u001b[39m\u001b[38;5;124m종사자수\u001b[39m\u001b[38;5;124m'\u001b[39m]\u001b[38;5;241m/\u001b[39mdf_증원[\u001b[38;5;124m'\u001b[39m\u001b[38;5;124m감독관\u001b[39m\u001b[38;5;124m'\u001b[39m]\n",
      "File \u001b[1;32md:\\Python\\Lib\\site-packages\\pandas\\core\\frame.py:4102\u001b[0m, in \u001b[0;36mDataFrame.__getitem__\u001b[1;34m(self, key)\u001b[0m\n\u001b[0;32m   4100\u001b[0m \u001b[38;5;28;01mif\u001b[39;00m \u001b[38;5;28mself\u001b[39m\u001b[38;5;241m.\u001b[39mcolumns\u001b[38;5;241m.\u001b[39mnlevels \u001b[38;5;241m>\u001b[39m \u001b[38;5;241m1\u001b[39m:\n\u001b[0;32m   4101\u001b[0m     \u001b[38;5;28;01mreturn\u001b[39;00m \u001b[38;5;28mself\u001b[39m\u001b[38;5;241m.\u001b[39m_getitem_multilevel(key)\n\u001b[1;32m-> 4102\u001b[0m indexer \u001b[38;5;241m=\u001b[39m \u001b[38;5;28;43mself\u001b[39;49m\u001b[38;5;241;43m.\u001b[39;49m\u001b[43mcolumns\u001b[49m\u001b[38;5;241;43m.\u001b[39;49m\u001b[43mget_loc\u001b[49m\u001b[43m(\u001b[49m\u001b[43mkey\u001b[49m\u001b[43m)\u001b[49m\n\u001b[0;32m   4103\u001b[0m \u001b[38;5;28;01mif\u001b[39;00m is_integer(indexer):\n\u001b[0;32m   4104\u001b[0m     indexer \u001b[38;5;241m=\u001b[39m [indexer]\n",
      "File \u001b[1;32md:\\Python\\Lib\\site-packages\\pandas\\core\\indexes\\base.py:3812\u001b[0m, in \u001b[0;36mIndex.get_loc\u001b[1;34m(self, key)\u001b[0m\n\u001b[0;32m   3807\u001b[0m     \u001b[38;5;28;01mif\u001b[39;00m \u001b[38;5;28misinstance\u001b[39m(casted_key, \u001b[38;5;28mslice\u001b[39m) \u001b[38;5;129;01mor\u001b[39;00m (\n\u001b[0;32m   3808\u001b[0m         \u001b[38;5;28misinstance\u001b[39m(casted_key, abc\u001b[38;5;241m.\u001b[39mIterable)\n\u001b[0;32m   3809\u001b[0m         \u001b[38;5;129;01mand\u001b[39;00m \u001b[38;5;28many\u001b[39m(\u001b[38;5;28misinstance\u001b[39m(x, \u001b[38;5;28mslice\u001b[39m) \u001b[38;5;28;01mfor\u001b[39;00m x \u001b[38;5;129;01min\u001b[39;00m casted_key)\n\u001b[0;32m   3810\u001b[0m     ):\n\u001b[0;32m   3811\u001b[0m         \u001b[38;5;28;01mraise\u001b[39;00m InvalidIndexError(key)\n\u001b[1;32m-> 3812\u001b[0m     \u001b[38;5;28;01mraise\u001b[39;00m \u001b[38;5;167;01mKeyError\u001b[39;00m(key) \u001b[38;5;28;01mfrom\u001b[39;00m\u001b[38;5;250m \u001b[39m\u001b[38;5;21;01merr\u001b[39;00m\n\u001b[0;32m   3813\u001b[0m \u001b[38;5;28;01mexcept\u001b[39;00m \u001b[38;5;167;01mTypeError\u001b[39;00m:\n\u001b[0;32m   3814\u001b[0m     \u001b[38;5;66;03m# If we have a listlike key, _check_indexing_error will raise\u001b[39;00m\n\u001b[0;32m   3815\u001b[0m     \u001b[38;5;66;03m#  InvalidIndexError. Otherwise we fall through and re-raise\u001b[39;00m\n\u001b[0;32m   3816\u001b[0m     \u001b[38;5;66;03m#  the TypeError.\u001b[39;00m\n\u001b[0;32m   3817\u001b[0m     \u001b[38;5;28mself\u001b[39m\u001b[38;5;241m.\u001b[39m_check_indexing_error(key)\n",
      "\u001b[1;31mKeyError\u001b[0m: '인구수'"
     ]
    }
   ],
   "source": [
    "for i in range(0,100):\n",
    "\n",
    "    ## 변수별 감독관 1인당 담당량 계산\n",
    "    for val in useValsLst.keys() :\n",
    "    \n",
    "        df_증원['1인당_인구수'] = df_증원['인구수']/df_증원['감독관']\n",
    "        df_증원['1인당_사업체수'] = df_증원['사업체수']/df_증원['감독관']\n",
    "        df_증원['1인당_종사자수'] = df_증원['종사자수']/df_증원['감독관']\n",
    "        df_증원['1인당_신고사건접수건수'] = df_증원['신고사건접수건수']/df_증원['감독관']\n",
    "\n",
    "        ### 1인당 총 업무량(Point) 계산\n",
    "        df_증원['1인당_업무량'] = df_증원['1인당_인구수'] + df_증원['1인당_사업체수'] + df_증원['1인당_종사자수'] + df_증원['1인당_신고사건접수건수']\n",
    "\n",
    "        ### 1인당 업무량 높은 순 정렬\n",
    "        df_증원 = df_증원.sort_values(['1인당_업무량'], ascending = False).copy().reset_index(drop=True)\n",
    "        df_증원['반복회수'] = i\n",
    "        \n",
    "        #로그 저장\n",
    "        df_증원log = pd.concat([df_증원log, df_증원],axis=0)\n",
    "        tmp = pd.DataFrame({'반복회차' : [i], \n",
    "                                '기관명':[df_증원.loc[0, '기관명']], \n",
    "                                '현감독관':[df_org[df_org['기관명'] == df_증원.loc[0, '기관명']].reset_index().loc[0, '감독관']],\n",
    "                                '작업후_감독관': [df_증원.loc[0, '감독관']]})\n",
    "        df_증원기관 = pd.concat([df_증원기관, tmp], axis=0)\n",
    "\n",
    "\n",
    "        ### 상위 1번 지청에 감독관 1명 증원\n",
    "        df_증원.loc[0, '감독관'] += 1\n",
    "        plus_arr.append(df_증원.loc[0, '기관명'])\n"
   ]
  },
  {
   "cell_type": "code",
   "execution_count": null,
   "metadata": {},
   "outputs": [],
   "source": [
    "df_증원log = df_증원log[df_증원.columns]"
   ]
  },
  {
   "cell_type": "code",
   "execution_count": null,
   "metadata": {},
   "outputs": [],
   "source": [
    "df_증원log.to_excel(\"반복회차별 데이터.xlsx\")\n",
    "df_증원기관.to_excel(\"반복회차별 증원된 기관.xlsx\")"
   ]
  },
  {
   "cell_type": "code",
   "execution_count": null,
   "metadata": {
    "scrolled": false
   },
   "outputs": [],
   "source": [
    "#with pd.ExcelWriter(\"결과물2.xlsx\", engine='openpyxl') as writer:\n",
    "#    df_증원log.to_excel(writer, sheet_name = \"반복회차별 데이터\", index=False)\n",
    "#    df_증원기관.to_excel(writer, sheet_name = \"반복회차별 증원된 기관\", index=False)"
   ]
  },
  {
   "cell_type": "code",
   "execution_count": null,
   "metadata": {},
   "outputs": [],
   "source": []
  }
 ],
 "metadata": {
  "kernelspec": {
   "display_name": "Python 3",
   "language": "python",
   "name": "python3"
  },
  "language_info": {
   "codemirror_mode": {
    "name": "ipython",
    "version": 3
   },
   "file_extension": ".py",
   "mimetype": "text/x-python",
   "name": "python",
   "nbconvert_exporter": "python",
   "pygments_lexer": "ipython3",
   "version": "3.12.6"
  }
 },
 "nbformat": 4,
 "nbformat_minor": 2
}
