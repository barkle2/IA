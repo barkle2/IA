{
 "cells": [
  {
   "cell_type": "code",
   "execution_count": 6,
   "metadata": {},
   "outputs": [],
   "source": [
    "import pandas as pd"
   ]
  },
  {
   "cell_type": "code",
   "execution_count": 7,
   "metadata": {},
   "outputs": [],
   "source": [
    "from sklearn.preprocessing import MinMaxScaler"
   ]
  },
  {
   "cell_type": "code",
   "execution_count": 8,
   "metadata": {},
   "outputs": [],
   "source": [
    "pd.options.display.float_format = '{:.2f}'.format"
   ]
  },
  {
   "cell_type": "markdown",
   "metadata": {},
   "source": [
    "# 기관별 정원, 인구, 사업체, 종사자"
   ]
  },
  {
   "cell_type": "code",
   "execution_count": 9,
   "metadata": {},
   "outputs": [],
   "source": [
    "df_org = pd.read_csv(\"./(250617)근로감독관 충원 RAW DATA(v0.2).csv\", \n",
    "                     usecols = ['기관명', '과수(전체)','전체정원','감독관','인구수','사업체수','종사자수','신고사건접수건수'], \n",
    "                     encoding = 'cp949')"
   ]
  },
  {
   "cell_type": "code",
   "execution_count": 10,
   "metadata": {},
   "outputs": [
    {
     "data": {
      "text/html": [
       "<div>\n",
       "<style scoped>\n",
       "    .dataframe tbody tr th:only-of-type {\n",
       "        vertical-align: middle;\n",
       "    }\n",
       "\n",
       "    .dataframe tbody tr th {\n",
       "        vertical-align: top;\n",
       "    }\n",
       "\n",
       "    .dataframe thead th {\n",
       "        text-align: right;\n",
       "    }\n",
       "</style>\n",
       "<table border=\"1\" class=\"dataframe\">\n",
       "  <thead>\n",
       "    <tr style=\"text-align: right;\">\n",
       "      <th></th>\n",
       "      <th>기관명</th>\n",
       "      <th>과수(전체)</th>\n",
       "      <th>전체정원</th>\n",
       "      <th>감독관</th>\n",
       "      <th>인구수</th>\n",
       "      <th>사업체수</th>\n",
       "      <th>종사자수</th>\n",
       "      <th>신고사건접수건수</th>\n",
       "    </tr>\n",
       "  </thead>\n",
       "  <tbody>\n",
       "    <tr>\n",
       "      <th>0</th>\n",
       "      <td>서울청</td>\n",
       "      <td>17</td>\n",
       "      <td>297</td>\n",
       "      <td>146</td>\n",
       "      <td>1007159</td>\n",
       "      <td>96342</td>\n",
       "      <td>1118883</td>\n",
       "      <td>11789</td>\n",
       "    </tr>\n",
       "    <tr>\n",
       "      <th>1</th>\n",
       "      <td>서울강남지청</td>\n",
       "      <td>8</td>\n",
       "      <td>161</td>\n",
       "      <td>88</td>\n",
       "      <td>556506</td>\n",
       "      <td>60696</td>\n",
       "      <td>730965</td>\n",
       "      <td>12226</td>\n",
       "    </tr>\n",
       "    <tr>\n",
       "      <th>2</th>\n",
       "      <td>서울동부지청</td>\n",
       "      <td>8</td>\n",
       "      <td>187</td>\n",
       "      <td>82</td>\n",
       "      <td>1750181</td>\n",
       "      <td>73619</td>\n",
       "      <td>735728</td>\n",
       "      <td>10836</td>\n",
       "    </tr>\n",
       "    <tr>\n",
       "      <th>3</th>\n",
       "      <td>서울서부지청</td>\n",
       "      <td>7</td>\n",
       "      <td>176</td>\n",
       "      <td>71</td>\n",
       "      <td>1323643</td>\n",
       "      <td>52899</td>\n",
       "      <td>528901</td>\n",
       "      <td>8233</td>\n",
       "    </tr>\n",
       "    <tr>\n",
       "      <th>4</th>\n",
       "      <td>서울남부지청</td>\n",
       "      <td>8</td>\n",
       "      <td>180</td>\n",
       "      <td>75</td>\n",
       "      <td>1353895</td>\n",
       "      <td>60319</td>\n",
       "      <td>719842</td>\n",
       "      <td>9804</td>\n",
       "    </tr>\n",
       "  </tbody>\n",
       "</table>\n",
       "</div>"
      ],
      "text/plain": [
       "      기관명  과수(전체)  전체정원  감독관      인구수   사업체수     종사자수  신고사건접수건수\n",
       "0     서울청      17   297  146  1007159  96342  1118883     11789\n",
       "1  서울강남지청       8   161   88   556506  60696   730965     12226\n",
       "2  서울동부지청       8   187   82  1750181  73619   735728     10836\n",
       "3  서울서부지청       7   176   71  1323643  52899   528901      8233\n",
       "4  서울남부지청       8   180   75  1353895  60319   719842      9804"
      ]
     },
     "execution_count": 10,
     "metadata": {},
     "output_type": "execute_result"
    }
   ],
   "source": [
    "df_org.head()"
   ]
  },
  {
   "cell_type": "markdown",
   "metadata": {},
   "source": [
    "# 감독관 100명 증원"
   ]
  },
  {
   "cell_type": "markdown",
   "metadata": {},
   "source": [
    "##### 프로세스 설명 : 1.감독관 1인당 담당량을 계산  2. 1인당 담당량이 가장 만은 지청에 감독관 1명을 증원  3.  1,2 반복\n"
   ]
  },
  {
   "cell_type": "code",
   "execution_count": 11,
   "metadata": {},
   "outputs": [],
   "source": [
    "df_증원 = df_org.copy()\n",
    "df_증원['반복회수'] = 0\n",
    "df_증원 = df_증원[['반복회수'] + [col for col in df_증원.columns if col != '반복회수']]\n",
    "plus_arr = []\n",
    "df_증원log = pd.DataFrame(columns = df_증원.columns)\n",
    "df_증원기관 = pd.DataFrame(columns = ['반복회차', '기관명', '현감독관', '작업후_감독관'])"
   ]
  },
  {
   "cell_type": "code",
   "execution_count": 12,
   "metadata": {
    "scrolled": true
   },
   "outputs": [],
   "source": [
    "for i in range(0,100):\n",
    "\n",
    "    ## 변수별 감독관 1인당 담당량 계산\n",
    "    df_증원['1인당_인구수'] = df_증원['인구수']/df_증원['감독관']\n",
    "    df_증원['1인당_사업체수'] = df_증원['사업체수']/df_증원['감독관']\n",
    "    df_증원['1인당_종사자수'] = df_증원['종사자수']/df_증원['감독관']\n",
    "    df_증원['1인당_신고사건접수건수'] = df_증원['신고사건접수건수']/df_증원['감독관']\n",
    "\n",
    "    ### 1인당 총 업무량(Point) 계산\n",
    "    df_증원['1인당_업무량'] = df_증원['1인당_인구수'] + df_증원['1인당_사업체수'] + df_증원['1인당_종사자수'] + df_증원['1인당_신고사건접수건수']\n",
    "\n",
    "    ### 1인당 업무량 높은 순 정렬\n",
    "    df_증원 = df_증원.sort_values(['1인당_업무량'], ascending = False).copy().reset_index(drop=True)\n",
    "    df_증원['반복회수'] = i\n",
    "    \n",
    "    #로그 저장\n",
    "    df_증원log = pd.concat([df_증원log, df_증원],axis=0)\n",
    "    tmp = pd.DataFrame({'반복회차' : [i], \n",
    "                        '기관명':[df_증원.loc[0, '기관명']], \n",
    "                        '현감독관':[df_org[df_org['기관명'] == df_증원.loc[0, '기관명']].reset_index().loc[0, '감독관']],\n",
    "                        '작업후_감독관': [df_증원.loc[0, '감독관']]})\n",
    "    df_증원기관 = pd.concat([df_증원기관, tmp], axis=0)\n",
    "\n",
    "\n",
    "    ### 상위 1번 지청에 감독관 1명 증원\n",
    "    df_증원.loc[0, '감독관'] += 1\n",
    "    plus_arr.append(df_증원.loc[0, '기관명'])\n"
   ]
  },
  {
   "cell_type": "code",
   "execution_count": 13,
   "metadata": {},
   "outputs": [],
   "source": [
    "df_증원log = df_증원log[df_증원.columns]"
   ]
  },
  {
   "cell_type": "code",
   "execution_count": 14,
   "metadata": {},
   "outputs": [],
   "source": [
    "df_증원log.to_excel(\"반복회차별 데이터.xlsx\")\n",
    "df_증원기관.to_excel(\"반복회차별 증원된 기관.xlsx\")"
   ]
  },
  {
   "cell_type": "code",
   "execution_count": 15,
   "metadata": {
    "scrolled": false
   },
   "outputs": [],
   "source": [
    "#with pd.ExcelWriter(\"결과물2.xlsx\", engine='openpyxl') as writer:\n",
    "#    df_증원log.to_excel(writer, sheet_name = \"반복회차별 데이터\", index=False)\n",
    "#    df_증원기관.to_excel(writer, sheet_name = \"반복회차별 증원된 기관\", index=False)"
   ]
  },
  {
   "cell_type": "code",
   "execution_count": null,
   "metadata": {},
   "outputs": [],
   "source": []
  }
 ],
 "metadata": {
  "kernelspec": {
   "display_name": "Python 3",
   "language": "python",
   "name": "python3"
  },
  "language_info": {
   "codemirror_mode": {
    "name": "ipython",
    "version": 3
   },
   "file_extension": ".py",
   "mimetype": "text/x-python",
   "name": "python",
   "nbconvert_exporter": "python",
   "pygments_lexer": "ipython3",
   "version": "3.12.6"
  }
 },
 "nbformat": 4,
 "nbformat_minor": 2
}
