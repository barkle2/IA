{
 "cells": [
  {
   "cell_type": "code",
   "execution_count": 1,
   "id": "5aa7a015",
   "metadata": {},
   "outputs": [],
   "source": [
    "# 라이브러리 호출\n",
    "import pandas as pd"
   ]
  },
  {
   "cell_type": "code",
   "execution_count": 2,
   "id": "0660934d",
   "metadata": {},
   "outputs": [],
   "source": [
    "# 시군구 사업체수, 종사자수 엑셀 파일의 모든 컬럼을 문자열로 읽어오기\n",
    "df_sgg = pd.read_excel('사업체노동실태조사(v3)_시군구.xlsx', dtype=str)"
   ]
  },
  {
   "cell_type": "code",
   "execution_count": 3,
   "id": "7181529d",
   "metadata": {},
   "outputs": [
    {
     "data": {
      "text/plain": [
       "array(['-', '1000', '10014', '1019', '10305', '10338', '10502', '10575',\n",
       "       '10627', '10701', '1079', '11120', '11145', '11181', '1120',\n",
       "       '11211', '11315', '11428', '1155', '1160', '11667', '11742',\n",
       "       '1180', '1193', '1199', '1213', '12240', '12336', '1243', '12512',\n",
       "       '1252', '1261', '12614', '1267', '1283', '12844', '13052', '13090',\n",
       "       '13127', '1317', '1333', '1349', '1364', '13652', '13784', '1383',\n",
       "       '1392', '14089', '14159', '14301', '1432', '1446', '14478',\n",
       "       '14543', '14627', '14705', '1475', '14884', '1514', '15417',\n",
       "       '1578', '15807', '15834', '1624', '1629', '1643', '16650', '17051',\n",
       "       '1707', '1709', '1722', '17392', '17516', '17674', '1776', '1809',\n",
       "       '1819', '1833', '1842', '1869', '18907', '18916', '1911', '19277',\n",
       "       '1998', '2001', '20426', '2046', '20795', '2096', '2122', '2132',\n",
       "       '2139', '21937', '2197', '22001', '22104', '22206', '22406',\n",
       "       '2243', '2269', '2276', '22762', '2284', '2295', '2308', '23924',\n",
       "       '24405', '2491', '25193', '25317', '2555', '25746', '2579',\n",
       "       '25791', '25797', '2599', '26095', '2653', '27089', '2716',\n",
       "       '27365', '2742', '28692', '30077', '30222', '3103', '31089',\n",
       "       '3118', '3123', '3230', '3298', '3465', '3472', '34829', '3600',\n",
       "       '3629', '3637', '3696', '37031', '3733', '37815', '3785', '3792',\n",
       "       '3808', '38209', '38356', '3938', '3959', '39831', '3998', '4047',\n",
       "       '4103', '4339', '4428', '4449', '4561', '4638', '4655', '470',\n",
       "       '4852', '4919', '50309', '5096', '5276', '5388', '5405', '5540',\n",
       "       '5547', '566', '5733', '5776', '5846', '58787', '5980', '6186',\n",
       "       '6332', '6378', '6525', '6564', '6706', '674', '6767', '6836',\n",
       "       '686', '6896', '6948', '7001', '7050', '7079', '709', '7148',\n",
       "       '7283', '7330', '7675', '7702', '778', '7845', '7919', '7920',\n",
       "       '7964', '8050', '816', '8218', '8323', '8380', '856', '858', '880',\n",
       "       '8849', '8855', '890', '9068', '9073', '9159', '919', '9271',\n",
       "       '9293', '9678', '977', '9815', '9879', '9888', '9920', '993',\n",
       "       '9974', '9980'], dtype=object)"
      ]
     },
     "execution_count": 3,
     "metadata": {},
     "output_type": "execute_result"
    }
   ],
   "source": [
    "# df_sgg의 '사업체수_22' 컬럼의 값들 알파벳순으로 확인하기\n",
    "df_sgg.sort_values(by='사업체수_22')['사업체수_22'].unique()\n"
   ]
  },
  {
   "cell_type": "code",
   "execution_count": 63,
   "id": "0eae1089",
   "metadata": {},
   "outputs": [
    {
     "data": {
      "text/html": [
       "<div>\n",
       "<style scoped>\n",
       "    .dataframe tbody tr th:only-of-type {\n",
       "        vertical-align: middle;\n",
       "    }\n",
       "\n",
       "    .dataframe tbody tr th {\n",
       "        vertical-align: top;\n",
       "    }\n",
       "\n",
       "    .dataframe thead th {\n",
       "        text-align: right;\n",
       "    }\n",
       "</style>\n",
       "<table border=\"1\" class=\"dataframe\">\n",
       "  <thead>\n",
       "    <tr style=\"text-align: right;\">\n",
       "      <th></th>\n",
       "      <th>연번</th>\n",
       "      <th>광역시도1</th>\n",
       "      <th>광역시도2</th>\n",
       "      <th>시군구명</th>\n",
       "      <th>지역명</th>\n",
       "      <th>지역코드</th>\n",
       "      <th>사업체수_22</th>\n",
       "      <th>종사자수_22</th>\n",
       "      <th>사업체수_23</th>\n",
       "      <th>종사자수_23</th>\n",
       "    </tr>\n",
       "  </thead>\n",
       "  <tbody>\n",
       "    <tr>\n",
       "      <th>0</th>\n",
       "      <td>1</td>\n",
       "      <td>서울특별시</td>\n",
       "      <td>서울</td>\n",
       "      <td>종로구</td>\n",
       "      <td>서울 종로구</td>\n",
       "      <td>서울01</td>\n",
       "      <td>19277</td>\n",
       "      <td>223726</td>\n",
       "      <td>19559</td>\n",
       "      <td>216723</td>\n",
       "    </tr>\n",
       "    <tr>\n",
       "      <th>1</th>\n",
       "      <td>2</td>\n",
       "      <td>서울특별시</td>\n",
       "      <td>서울</td>\n",
       "      <td>중구</td>\n",
       "      <td>서울 중구</td>\n",
       "      <td>서울02</td>\n",
       "      <td>27089</td>\n",
       "      <td>320703</td>\n",
       "      <td>27558</td>\n",
       "      <td>351778</td>\n",
       "    </tr>\n",
       "    <tr>\n",
       "      <th>2</th>\n",
       "      <td>3</td>\n",
       "      <td>서울특별시</td>\n",
       "      <td>서울</td>\n",
       "      <td>용산구</td>\n",
       "      <td>서울 용산구</td>\n",
       "      <td>서울03</td>\n",
       "      <td>10575</td>\n",
       "      <td>118077</td>\n",
       "      <td>11980</td>\n",
       "      <td>130756</td>\n",
       "    </tr>\n",
       "    <tr>\n",
       "      <th>3</th>\n",
       "      <td>4</td>\n",
       "      <td>서울특별시</td>\n",
       "      <td>서울</td>\n",
       "      <td>성동구</td>\n",
       "      <td>서울 성동구</td>\n",
       "      <td>서울04</td>\n",
       "      <td>18916</td>\n",
       "      <td>173459</td>\n",
       "      <td>18489</td>\n",
       "      <td>168704</td>\n",
       "    </tr>\n",
       "    <tr>\n",
       "      <th>4</th>\n",
       "      <td>5</td>\n",
       "      <td>서울특별시</td>\n",
       "      <td>서울</td>\n",
       "      <td>광진구</td>\n",
       "      <td>서울 광진구</td>\n",
       "      <td>서울05</td>\n",
       "      <td>11742</td>\n",
       "      <td>98012</td>\n",
       "      <td>11732</td>\n",
       "      <td>99518</td>\n",
       "    </tr>\n",
       "  </tbody>\n",
       "</table>\n",
       "</div>"
      ],
      "text/plain": [
       "   연번  광역시도1 광역시도2 시군구명     지역명  지역코드  사업체수_22  종사자수_22  사업체수_23  종사자수_23\n",
       "0   1  서울특별시    서울  종로구  서울 종로구  서울01    19277   223726    19559   216723\n",
       "1   2  서울특별시    서울   중구   서울 중구  서울02    27089   320703    27558   351778\n",
       "2   3  서울특별시    서울  용산구  서울 용산구  서울03    10575   118077    11980   130756\n",
       "3   4  서울특별시    서울  성동구  서울 성동구  서울04    18916   173459    18489   168704\n",
       "4   5  서울특별시    서울  광진구  서울 광진구  서울05    11742    98012    11732    99518"
      ]
     },
     "execution_count": 63,
     "metadata": {},
     "output_type": "execute_result"
    }
   ],
   "source": [
    "# df_sgg 정보 확인\n",
    "df_sgg.head()"
   ]
  },
  {
   "cell_type": "code",
   "execution_count": 52,
   "id": "6c05cd74",
   "metadata": {},
   "outputs": [
    {
     "name": "stderr",
     "output_type": "stream",
     "text": [
      "C:\\Users\\barkl\\AppData\\Local\\Temp\\ipykernel_8468\\54990694.py:5: FutureWarning: Downcasting behavior in `replace` is deprecated and will be removed in a future version. To retain the old behavior, explicitly call `result.infer_objects(copy=False)`. To opt-in to the future behavior, set `pd.set_option('future.no_silent_downcasting', True)`\n",
      "  df_sgg['종사자수_23'] = df_sgg['종사자수_23'].replace('-', 0)\n",
      "C:\\Users\\barkl\\AppData\\Local\\Temp\\ipykernel_8468\\54990694.py:8: FutureWarning: Downcasting behavior in `replace` is deprecated and will be removed in a future version. To retain the old behavior, explicitly call `result.infer_objects(copy=False)`. To opt-in to the future behavior, set `pd.set_option('future.no_silent_downcasting', True)`\n",
      "  df_sgg['사업체수_22'] = df_sgg['사업체수_22'].replace('-', 0)\n",
      "C:\\Users\\barkl\\AppData\\Local\\Temp\\ipykernel_8468\\54990694.py:11: FutureWarning: Downcasting behavior in `replace` is deprecated and will be removed in a future version. To retain the old behavior, explicitly call `result.infer_objects(copy=False)`. To opt-in to the future behavior, set `pd.set_option('future.no_silent_downcasting', True)`\n",
      "  df_sgg['종사자수_22'] = df_sgg['종사자수_22'].replace('-', 0)\n"
     ]
    }
   ],
   "source": [
    "# df_sgg 의 사업체수_22 컬럼을 정수형으로 변환하는데, '-' 값은 0으로 변환\n",
    "df_sgg['사업체수_23'] = df_sgg['사업체수_23'].replace('-', 0)\n",
    "df_sgg['사업체수_23'] = df_sgg['사업체수_23'].astype(int)\n",
    "\n",
    "df_sgg['종사자수_23'] = df_sgg['종사자수_23'].replace('-', 0)\n",
    "df_sgg['종사자수_23'] = df_sgg['종사자수_23'].astype(int)\n",
    "\n",
    "df_sgg['사업체수_22'] = df_sgg['사업체수_22'].replace('-', 0)\n",
    "df_sgg['사업체수_22'] = df_sgg['사업체수_22'].astype(int)\n",
    "\n",
    "df_sgg['종사자수_22'] = df_sgg['종사자수_22'].replace('-', 0)\n",
    "df_sgg['종사자수_22'] = df_sgg['종사자수_22'].astype(int)"
   ]
  },
  {
   "cell_type": "code",
   "execution_count": 68,
   "id": "eabd3e6f",
   "metadata": {},
   "outputs": [
    {
     "name": "stdout",
     "output_type": "stream",
     "text": [
      "2124670\n",
      "19159335\n",
      "2099955\n",
      "18835715\n"
     ]
    }
   ],
   "source": [
    "print(df_sgg['사업체수_23'].sum())\n",
    "print(df_sgg['종사자수_23'].sum())\n",
    "print(df_sgg['사업체수_22'].sum())\n",
    "print(df_sgg['종사자수_22'].sum())\n"
   ]
  },
  {
   "cell_type": "code",
   "execution_count": 56,
   "id": "585e2c0c",
   "metadata": {},
   "outputs": [],
   "source": [
    "# 지방관서 관할, 정원 파일을 읽을 때 연번 컬럼을 텍스트로 읽기\n",
    "df_br = pd.read_excel('250717_지방관서_관할_정원.xlsx', dtype={'연번': str})"
   ]
  },
  {
   "cell_type": "code",
   "execution_count": 57,
   "id": "13f04cfe",
   "metadata": {},
   "outputs": [
    {
     "name": "stdout",
     "output_type": "stream",
     "text": [
      "<class 'pandas.core.frame.DataFrame'>\n",
      "RangeIndex: 48 entries, 0 to 47\n",
      "Data columns (total 7 columns):\n",
      " #   Column  Non-Null Count  Dtype \n",
      "---  ------  --------------  ----- \n",
      " 0   연번      48 non-null     object\n",
      " 1   청       48 non-null     object\n",
      " 2   지청      48 non-null     object\n",
      " 3   관할      48 non-null     object\n",
      " 4   정원      48 non-null     int64 \n",
      " 5   산안      48 non-null     int64 \n",
      " 6   근로      48 non-null     int64 \n",
      "dtypes: int64(3), object(4)\n",
      "memory usage: 2.8+ KB\n"
     ]
    },
    {
     "data": {
      "text/html": [
       "<div>\n",
       "<style scoped>\n",
       "    .dataframe tbody tr th:only-of-type {\n",
       "        vertical-align: middle;\n",
       "    }\n",
       "\n",
       "    .dataframe tbody tr th {\n",
       "        vertical-align: top;\n",
       "    }\n",
       "\n",
       "    .dataframe thead th {\n",
       "        text-align: right;\n",
       "    }\n",
       "</style>\n",
       "<table border=\"1\" class=\"dataframe\">\n",
       "  <thead>\n",
       "    <tr style=\"text-align: right;\">\n",
       "      <th></th>\n",
       "      <th>연번</th>\n",
       "      <th>청</th>\n",
       "      <th>지청</th>\n",
       "      <th>관할</th>\n",
       "      <th>정원</th>\n",
       "      <th>산안</th>\n",
       "      <th>근로</th>\n",
       "    </tr>\n",
       "  </thead>\n",
       "  <tbody>\n",
       "    <tr>\n",
       "      <th>0</th>\n",
       "      <td>01</td>\n",
       "      <td>서울청</td>\n",
       "      <td>서울청</td>\n",
       "      <td>서울 중구, 서울 종로구, 서울 서초구, 서울 동대문구</td>\n",
       "      <td>146</td>\n",
       "      <td>35</td>\n",
       "      <td>111</td>\n",
       "    </tr>\n",
       "    <tr>\n",
       "      <th>1</th>\n",
       "      <td>02</td>\n",
       "      <td>서울청</td>\n",
       "      <td>서울강남</td>\n",
       "      <td>서울 강남구</td>\n",
       "      <td>88</td>\n",
       "      <td>8</td>\n",
       "      <td>80</td>\n",
       "    </tr>\n",
       "    <tr>\n",
       "      <th>2</th>\n",
       "      <td>03</td>\n",
       "      <td>서울청</td>\n",
       "      <td>서울동부</td>\n",
       "      <td>서울 성동구, 서울 광진구, 서울 송파구, 서울 강동구</td>\n",
       "      <td>82</td>\n",
       "      <td>10</td>\n",
       "      <td>72</td>\n",
       "    </tr>\n",
       "    <tr>\n",
       "      <th>3</th>\n",
       "      <td>04</td>\n",
       "      <td>서울청</td>\n",
       "      <td>서울서부</td>\n",
       "      <td>서울 용산구, 서울 마포구, 서울 서대문구, 서울 은평구</td>\n",
       "      <td>71</td>\n",
       "      <td>8</td>\n",
       "      <td>63</td>\n",
       "    </tr>\n",
       "    <tr>\n",
       "      <th>4</th>\n",
       "      <td>05</td>\n",
       "      <td>서울청</td>\n",
       "      <td>서울남부</td>\n",
       "      <td>서울 영등포구, 서울 강서구, 서울 양천구</td>\n",
       "      <td>75</td>\n",
       "      <td>9</td>\n",
       "      <td>66</td>\n",
       "    </tr>\n",
       "  </tbody>\n",
       "</table>\n",
       "</div>"
      ],
      "text/plain": [
       "   연번    청    지청                               관할   정원  산안   근로\n",
       "0  01  서울청   서울청   서울 중구, 서울 종로구, 서울 서초구, 서울 동대문구  146  35  111\n",
       "1  02  서울청  서울강남                           서울 강남구   88   8   80\n",
       "2  03  서울청  서울동부   서울 성동구, 서울 광진구, 서울 송파구, 서울 강동구   82  10   72\n",
       "3  04  서울청  서울서부  서울 용산구, 서울 마포구, 서울 서대문구, 서울 은평구   71   8   63\n",
       "4  05  서울청  서울남부          서울 영등포구, 서울 강서구, 서울 양천구   75   9   66"
      ]
     },
     "execution_count": 57,
     "metadata": {},
     "output_type": "execute_result"
    }
   ],
   "source": [
    "# df_br 정보 확인\n",
    "df_br.info()\n",
    "df_br.head()"
   ]
  },
  {
   "cell_type": "code",
   "execution_count": 58,
   "id": "58a0aedc",
   "metadata": {},
   "outputs": [],
   "source": [
    "# 지역명 -> 사업체수 딕셔너리로 변환\n",
    "sgg_dict = df_sgg.set_index('지역명')['사업체수_23'].to_dict()"
   ]
  },
  {
   "cell_type": "code",
   "execution_count": null,
   "id": "c60da3d9",
   "metadata": {},
   "outputs": [],
   "source": [
    "# 함수 정의: 관할 문자열 -> 해당 지역 사업체수 총합\n",
    "def get_total_biz_count(관할_str):\n",
    "    지역들 = [지역.strip() for 지역 in 관할_str.split(',')]\n",
    "    return sum(sgg_dict.get(지역, 0) for 지역 in 지역들)\n",
    "\n",
    "df_br['사업체수_23'] = df_br['관할'].apply(get_total_biz_count) \n",
    "    "
   ]
  },
  {
   "cell_type": "code",
   "execution_count": 60,
   "id": "58934e73",
   "metadata": {},
   "outputs": [],
   "source": [
    "df_br['사업체수_23'] = df_br['관할'].apply(get_total_biz_count) "
   ]
  },
  {
   "cell_type": "code",
   "execution_count": 61,
   "id": "c5a07725",
   "metadata": {},
   "outputs": [
    {
     "data": {
      "text/plain": [
       "2111816"
      ]
     },
     "execution_count": 61,
     "metadata": {},
     "output_type": "execute_result"
    }
   ],
   "source": [
    "df_br['사업체수_23'].sum()"
   ]
  },
  {
   "cell_type": "code",
   "execution_count": 62,
   "id": "164cae54",
   "metadata": {},
   "outputs": [
    {
     "data": {
      "text/plain": [
       "12444"
      ]
     },
     "execution_count": 62,
     "metadata": {},
     "output_type": "execute_result"
    }
   ],
   "source": [
    "2124260-2111816"
   ]
  },
  {
   "cell_type": "code",
   "execution_count": 37,
   "id": "70eba6e1",
   "metadata": {},
   "outputs": [
    {
     "name": "stdout",
     "output_type": "stream",
     "text": [
      "매칭되지 않는 지역명 목록:\n"
     ]
    }
   ],
   "source": [
    "# 1. 지역명 목록 (df_sgg 기준)\n",
    "sgg_names = set(df_sgg[\"지역명\"])\n",
    "\n",
    "# 2. 관할 문자열에서 추출된 모든 지역명을 순회하며 확인\n",
    "unmatched_regions = set()\n",
    "\n",
    "for 관할_str in df_br[\"관할\"]:\n",
    "    지역들 = [지역.strip() for 지역 in 관할_str.split(\",\")]\n",
    "    for 지역 in 지역들:\n",
    "        if 지역 not in sgg_names:\n",
    "            unmatched_regions.add(지역)\n",
    "\n",
    "# 3. 결과 출력\n",
    "print(\"매칭되지 않는 지역명 목록:\")\n",
    "for 지역 in sorted(unmatched_regions):\n",
    "    print(\"-\", 지역)\n"
   ]
  }
 ],
 "metadata": {
  "kernelspec": {
   "display_name": "Python 3",
   "language": "python",
   "name": "python3"
  },
  "language_info": {
   "codemirror_mode": {
    "name": "ipython",
    "version": 3
   },
   "file_extension": ".py",
   "mimetype": "text/x-python",
   "name": "python",
   "nbconvert_exporter": "python",
   "pygments_lexer": "ipython3",
   "version": "3.12.1"
  }
 },
 "nbformat": 4,
 "nbformat_minor": 5
}
