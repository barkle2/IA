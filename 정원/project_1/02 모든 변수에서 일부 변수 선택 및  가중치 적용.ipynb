{
 "cells": [
  {
   "cell_type": "code",
   "execution_count": 2,
   "metadata": {},
   "outputs": [],
   "source": [
    "import pandas as pd"
   ]
  },
  {
   "cell_type": "code",
   "execution_count": 3,
   "metadata": {},
   "outputs": [],
   "source": [
    "from sklearn.preprocessing import MinMaxScaler"
   ]
  },
  {
   "cell_type": "code",
   "execution_count": 4,
   "metadata": {},
   "outputs": [],
   "source": [
    "pd.options.display.float_format = '{:.2f}'.format"
   ]
  },
  {
   "cell_type": "markdown",
   "metadata": {},
   "source": [
    "# 사용한 변수 및 가중치 가져오기"
   ]
  },
  {
   "cell_type": "code",
   "execution_count": 85,
   "metadata": {},
   "outputs": [
    {
     "data": {
      "text/plain": [
       "dict_keys(['사업체수', '신고사건접수건수', '근로감독건수'])"
      ]
     },
     "execution_count": 85,
     "metadata": {},
     "output_type": "execute_result"
    }
   ],
   "source": [
    "df_tmp = pd.read_excel(\"./02_원본데이터_변환/변수 및 가중치 입력.xlsx\",  encoding = 'cp949', usecols=['변수', '가중치'])\n",
    "df_tmp = df_tmp[df_tmp['가중치'] > 0].reset_index(drop=True)   # 가중치가 있는 변수만 추리기\n",
    "useValsLst = dict(zip(df_tmp['변수'], df_tmp['가중치']))\n",
    "useValsLst.keys()"
   ]
  },
  {
   "cell_type": "code",
   "execution_count": 86,
   "metadata": {},
   "outputs": [
    {
     "data": {
      "text/plain": [
       "['사업체수', '신고사건접수건수', '근로감독건수']"
      ]
     },
     "execution_count": 86,
     "metadata": {},
     "output_type": "execute_result"
    }
   ],
   "source": [
    "list(useValsLst.keys())"
   ]
  },
  {
   "cell_type": "code",
   "execution_count": 87,
   "metadata": {},
   "outputs": [
    {
     "data": {
      "text/plain": [
       "['기관명', '과수(전체)', '전체정원', '감독관', '사업체수', '신고사건접수건수', '근로감독건수']"
      ]
     },
     "execution_count": 87,
     "metadata": {},
     "output_type": "execute_result"
    }
   ],
   "source": [
    "['기관명','과수(전체)','전체정원','감독관'] +  list(useValsLst.keys())"
   ]
  },
  {
   "cell_type": "code",
   "execution_count": null,
   "metadata": {},
   "outputs": [],
   "source": []
  },
  {
   "cell_type": "markdown",
   "metadata": {},
   "source": [
    "# 사용자가 입력한 변수만 가져오기"
   ]
  },
  {
   "cell_type": "code",
   "execution_count": 88,
   "metadata": {},
   "outputs": [],
   "source": [
    "df_org = pd.read_csv(\"./02_원본데이터_변환/(250617)근로감독관 충원 RAW DATA(v0.2).csv\",  \n",
    "                     usecols = ['기관명','과수(전체)','전체정원','감독관'] +  list(useValsLst.keys()),\n",
    "                     encoding = 'cp949')"
   ]
  },
  {
   "cell_type": "code",
   "execution_count": 89,
   "metadata": {},
   "outputs": [
    {
     "data": {
      "text/html": [
       "<div>\n",
       "<style scoped>\n",
       "    .dataframe tbody tr th:only-of-type {\n",
       "        vertical-align: middle;\n",
       "    }\n",
       "\n",
       "    .dataframe tbody tr th {\n",
       "        vertical-align: top;\n",
       "    }\n",
       "\n",
       "    .dataframe thead th {\n",
       "        text-align: right;\n",
       "    }\n",
       "</style>\n",
       "<table border=\"1\" class=\"dataframe\">\n",
       "  <thead>\n",
       "    <tr style=\"text-align: right;\">\n",
       "      <th></th>\n",
       "      <th>기관명</th>\n",
       "      <th>과수(전체)</th>\n",
       "      <th>전체정원</th>\n",
       "      <th>감독관</th>\n",
       "      <th>사업체수</th>\n",
       "      <th>신고사건접수건수</th>\n",
       "      <th>근로감독건수</th>\n",
       "    </tr>\n",
       "  </thead>\n",
       "  <tbody>\n",
       "    <tr>\n",
       "      <td>0</td>\n",
       "      <td>서울청</td>\n",
       "      <td>17</td>\n",
       "      <td>297</td>\n",
       "      <td>146</td>\n",
       "      <td>96342</td>\n",
       "      <td>11789</td>\n",
       "      <td>1357</td>\n",
       "    </tr>\n",
       "    <tr>\n",
       "      <td>1</td>\n",
       "      <td>서울강남지청</td>\n",
       "      <td>8</td>\n",
       "      <td>161</td>\n",
       "      <td>88</td>\n",
       "      <td>60696</td>\n",
       "      <td>12226</td>\n",
       "      <td>865</td>\n",
       "    </tr>\n",
       "    <tr>\n",
       "      <td>2</td>\n",
       "      <td>서울동부지청</td>\n",
       "      <td>8</td>\n",
       "      <td>187</td>\n",
       "      <td>82</td>\n",
       "      <td>73619</td>\n",
       "      <td>10836</td>\n",
       "      <td>749</td>\n",
       "    </tr>\n",
       "    <tr>\n",
       "      <td>3</td>\n",
       "      <td>서울서부지청</td>\n",
       "      <td>7</td>\n",
       "      <td>176</td>\n",
       "      <td>71</td>\n",
       "      <td>52899</td>\n",
       "      <td>8233</td>\n",
       "      <td>642</td>\n",
       "    </tr>\n",
       "    <tr>\n",
       "      <td>4</td>\n",
       "      <td>서울남부지청</td>\n",
       "      <td>8</td>\n",
       "      <td>180</td>\n",
       "      <td>75</td>\n",
       "      <td>60319</td>\n",
       "      <td>9804</td>\n",
       "      <td>745</td>\n",
       "    </tr>\n",
       "  </tbody>\n",
       "</table>\n",
       "</div>"
      ],
      "text/plain": [
       "      기관명  과수(전체)  전체정원  감독관   사업체수  신고사건접수건수  근로감독건수\n",
       "0     서울청      17   297  146  96342     11789    1357\n",
       "1  서울강남지청       8   161   88  60696     12226     865\n",
       "2  서울동부지청       8   187   82  73619     10836     749\n",
       "3  서울서부지청       7   176   71  52899      8233     642\n",
       "4  서울남부지청       8   180   75  60319      9804     745"
      ]
     },
     "execution_count": 89,
     "metadata": {},
     "output_type": "execute_result"
    }
   ],
   "source": [
    "df_org.head()"
   ]
  },
  {
   "cell_type": "code",
   "execution_count": 90,
   "metadata": {},
   "outputs": [
    {
     "data": {
      "text/plain": [
       "기관명         object\n",
       "과수(전체)       int64\n",
       "전체정원         int64\n",
       "감독관          int64\n",
       "사업체수         int64\n",
       "신고사건접수건수     int64\n",
       "근로감독건수       int64\n",
       "dtype: object"
      ]
     },
     "execution_count": 90,
     "metadata": {},
     "output_type": "execute_result"
    }
   ],
   "source": [
    "df_org.dtypes"
   ]
  },
  {
   "cell_type": "markdown",
   "metadata": {},
   "source": [
    "# 감독관 100명 증원"
   ]
  },
  {
   "cell_type": "markdown",
   "metadata": {},
   "source": [
    "##### 프로세스 설명 : 1.감독관 1인당 담당량을 계산  2. 1인당 담당량이 가장 만은 지청에 감독관 1명을 증원  3.  1,2 반복\n"
   ]
  },
  {
   "cell_type": "code",
   "execution_count": 91,
   "metadata": {},
   "outputs": [],
   "source": [
    "df_증원 = df_org.copy()\n",
    "df_증원['반복회수'] = 0\n",
    "df_증원 = df_증원[['반복회수'] + [col for col in df_증원.columns if col != '반복회수']]\n",
    "plus_arr = []\n",
    "df_증원log = pd.DataFrame(columns = df_증원.columns)\n",
    "df_증원기관 = pd.DataFrame(columns = ['반복회차', '기관명', '현감독관', '작업후_감독관'])"
   ]
  },
  {
   "cell_type": "code",
   "execution_count": 101,
   "metadata": {},
   "outputs": [],
   "source": [
    "\n",
    "scaler = MinMaxScaler()\n",
    "for val in useValsLst.keys() :\n",
    "    df_증원['1인당_' + val] = df_증원[val]/df_증원['감독관']\n",
    "    df_증원['1인당_N_' + val] = scaler.fit_transform(df_증원[['1인당_' + val]])*100 * \n",
    "\n",
    "v = 0\n",
    "for val in useValsLst.keys() :\n",
    "    v += df_증원['1인당_N_' + val]\n",
    "    \n",
    "df_증원['1인당_업무량'] = v\n",
    "\n",
    "    \n",
    "    \n",
    "    "
   ]
  },
  {
   "cell_type": "code",
   "execution_count": 102,
   "metadata": {},
   "outputs": [
    {
     "data": {
      "text/html": [
       "<div>\n",
       "<style scoped>\n",
       "    .dataframe tbody tr th:only-of-type {\n",
       "        vertical-align: middle;\n",
       "    }\n",
       "\n",
       "    .dataframe tbody tr th {\n",
       "        vertical-align: top;\n",
       "    }\n",
       "\n",
       "    .dataframe thead th {\n",
       "        text-align: right;\n",
       "    }\n",
       "</style>\n",
       "<table border=\"1\" class=\"dataframe\">\n",
       "  <thead>\n",
       "    <tr style=\"text-align: right;\">\n",
       "      <th></th>\n",
       "      <th>반복회수</th>\n",
       "      <th>기관명</th>\n",
       "      <th>과수(전체)</th>\n",
       "      <th>전체정원</th>\n",
       "      <th>감독관</th>\n",
       "      <th>사업체수</th>\n",
       "      <th>신고사건접수건수</th>\n",
       "      <th>근로감독건수</th>\n",
       "      <th>1인당_사업체수</th>\n",
       "      <th>1인당_신고사건접수건수</th>\n",
       "      <th>1인당_근로감독건수</th>\n",
       "      <th>1인당_N_사업체수</th>\n",
       "      <th>1인당_N_신고사건접수건수</th>\n",
       "      <th>1인당_N_근로감독건수</th>\n",
       "      <th>1인당_업무량</th>\n",
       "    </tr>\n",
       "  </thead>\n",
       "  <tbody>\n",
       "    <tr>\n",
       "      <td>0</td>\n",
       "      <td>0</td>\n",
       "      <td>서울청</td>\n",
       "      <td>17</td>\n",
       "      <td>297</td>\n",
       "      <td>146</td>\n",
       "      <td>96342</td>\n",
       "      <td>11789</td>\n",
       "      <td>1357</td>\n",
       "      <td>659.88</td>\n",
       "      <td>80.75</td>\n",
       "      <td>9.29</td>\n",
       "      <td>10.04</td>\n",
       "      <td>8.75</td>\n",
       "      <td>9.95</td>\n",
       "      <td>28.74</td>\n",
       "    </tr>\n",
       "    <tr>\n",
       "      <td>1</td>\n",
       "      <td>0</td>\n",
       "      <td>서울강남지청</td>\n",
       "      <td>8</td>\n",
       "      <td>161</td>\n",
       "      <td>88</td>\n",
       "      <td>60696</td>\n",
       "      <td>12226</td>\n",
       "      <td>865</td>\n",
       "      <td>689.73</td>\n",
       "      <td>138.93</td>\n",
       "      <td>9.83</td>\n",
       "      <td>11.18</td>\n",
       "      <td>22.95</td>\n",
       "      <td>11.46</td>\n",
       "      <td>45.59</td>\n",
       "    </tr>\n",
       "    <tr>\n",
       "      <td>2</td>\n",
       "      <td>0</td>\n",
       "      <td>서울동부지청</td>\n",
       "      <td>8</td>\n",
       "      <td>187</td>\n",
       "      <td>82</td>\n",
       "      <td>73619</td>\n",
       "      <td>10836</td>\n",
       "      <td>749</td>\n",
       "      <td>897.79</td>\n",
       "      <td>132.15</td>\n",
       "      <td>9.13</td>\n",
       "      <td>19.13</td>\n",
       "      <td>21.30</td>\n",
       "      <td>9.50</td>\n",
       "      <td>49.93</td>\n",
       "    </tr>\n",
       "    <tr>\n",
       "      <td>3</td>\n",
       "      <td>0</td>\n",
       "      <td>서울서부지청</td>\n",
       "      <td>7</td>\n",
       "      <td>176</td>\n",
       "      <td>71</td>\n",
       "      <td>52899</td>\n",
       "      <td>8233</td>\n",
       "      <td>642</td>\n",
       "      <td>745.06</td>\n",
       "      <td>115.96</td>\n",
       "      <td>9.04</td>\n",
       "      <td>13.30</td>\n",
       "      <td>17.34</td>\n",
       "      <td>9.24</td>\n",
       "      <td>39.89</td>\n",
       "    </tr>\n",
       "    <tr>\n",
       "      <td>4</td>\n",
       "      <td>0</td>\n",
       "      <td>서울남부지청</td>\n",
       "      <td>8</td>\n",
       "      <td>180</td>\n",
       "      <td>75</td>\n",
       "      <td>60319</td>\n",
       "      <td>9804</td>\n",
       "      <td>745</td>\n",
       "      <td>804.25</td>\n",
       "      <td>130.72</td>\n",
       "      <td>9.93</td>\n",
       "      <td>15.56</td>\n",
       "      <td>20.95</td>\n",
       "      <td>11.75</td>\n",
       "      <td>48.25</td>\n",
       "    </tr>\n",
       "  </tbody>\n",
       "</table>\n",
       "</div>"
      ],
      "text/plain": [
       "   반복회수     기관명  과수(전체)  전체정원  감독관   사업체수  신고사건접수건수  근로감독건수  1인당_사업체수  \\\n",
       "0     0     서울청      17   297  146  96342     11789    1357    659.88   \n",
       "1     0  서울강남지청       8   161   88  60696     12226     865    689.73   \n",
       "2     0  서울동부지청       8   187   82  73619     10836     749    897.79   \n",
       "3     0  서울서부지청       7   176   71  52899      8233     642    745.06   \n",
       "4     0  서울남부지청       8   180   75  60319      9804     745    804.25   \n",
       "\n",
       "   1인당_신고사건접수건수  1인당_근로감독건수  1인당_N_사업체수  1인당_N_신고사건접수건수  1인당_N_근로감독건수  1인당_업무량  \n",
       "0         80.75        9.29       10.04            8.75          9.95    28.74  \n",
       "1        138.93        9.83       11.18           22.95         11.46    45.59  \n",
       "2        132.15        9.13       19.13           21.30          9.50    49.93  \n",
       "3        115.96        9.04       13.30           17.34          9.24    39.89  \n",
       "4        130.72        9.93       15.56           20.95         11.75    48.25  "
      ]
     },
     "execution_count": 102,
     "metadata": {},
     "output_type": "execute_result"
    }
   ],
   "source": [
    "df_증원.head()\n"
   ]
  },
  {
   "cell_type": "code",
   "execution_count": 310,
   "metadata": {
    "scrolled": true
   },
   "outputs": [
    {
     "name": "stderr",
     "output_type": "stream",
     "text": [
      "C:\\ProgramData\\Anaconda3\\lib\\site-packages\\ipykernel_launcher.py:17: FutureWarning: Sorting because non-concatenation axis is not aligned. A future version\n",
      "of pandas will change to not sort by default.\n",
      "\n",
      "To accept the future behavior, pass 'sort=False'.\n",
      "\n",
      "To retain the current behavior and silence the warning, pass 'sort=True'.\n",
      "\n"
     ]
    }
   ],
   "source": [
    "for i in range(0,100):\n",
    "\n",
    "    ## 변수별 감독관 1인당 담당량 계산\n",
    "    for val in useValsLst.keys() :\n",
    "            d\n",
    "    \n",
    "    \n",
    "    df_증원['1인당_인구수'] = df_증원['인구수']/df_증원['감독관']\n",
    "    df_증원['1인당_사업체수'] = df_증원['사업체수']/df_증원['감독관']\n",
    "    df_증원['1인당_종사자수'] = df_증원['종사자수']/df_증원['감독관']\n",
    "    df_증원['1인당_신고사건접수건수'] = df_증원['신고사건접수건수']/df_증원['감독관']\n",
    "\n",
    "    ### 1인당 총 업무량(Point) 계산\n",
    "    df_증원['1인당_업무량'] = df_증원['1인당_인구수'] + df_증원['1인당_사업체수'] + df_증원['1인당_종사자수'] + df_증원['1인당_신고사건접수건수']\n",
    "\n",
    "    ### 1인당 업무량 높은 순 정렬\n",
    "    df_증원 = df_증원.sort_values(['1인당_업무량'], ascending = False).copy().reset_index(drop=True)\n",
    "    df_증원['반복회수'] = i\n",
    "    \n",
    "    #로그 저장\n",
    "    df_증원log = pd.concat([df_증원log, df_증원],axis=0)\n",
    "    tmp = pd.DataFrame({'반복회차' : [i], \n",
    "                        '기관명':[df_증원.loc[0, '기관명']], \n",
    "                        '현감독관':[df_org[df_org['기관명'] == df_증원.loc[0, '기관명']].reset_index().loc[0, '감독관']],\n",
    "                        '작업후_감독관': [df_증원.loc[0, '감독관']]})\n",
    "    df_증원기관 = pd.concat([df_증원기관, tmp], axis=0)\n",
    "\n",
    "\n",
    "    ### 상위 1번 지청에 감독관 1명 증원\n",
    "    df_증원.loc[0, '감독관'] += 1\n",
    "    plus_arr.append(df_증원.loc[0, '기관명'])\n"
   ]
  },
  {
   "cell_type": "code",
   "execution_count": 311,
   "metadata": {},
   "outputs": [],
   "source": [
    "df_증원log = df_증원log[df_증원.columns]"
   ]
  },
  {
   "cell_type": "code",
   "execution_count": 313,
   "metadata": {},
   "outputs": [],
   "source": [
    "df_증원log.to_excel(\"반복회차별 데이터.xlsx\")\n",
    "df_증원기관.to_excel(\"반복회차별 증원된 기관.xlsx\")"
   ]
  },
  {
   "cell_type": "code",
   "execution_count": 304,
   "metadata": {
    "scrolled": false
   },
   "outputs": [],
   "source": [
    "#with pd.ExcelWriter(\"결과물2.xlsx\", engine='openpyxl') as writer:\n",
    "#    df_증원log.to_excel(writer, sheet_name = \"반복회차별 데이터\", index=False)\n",
    "#    df_증원기관.to_excel(writer, sheet_name = \"반복회차별 증원된 기관\", index=False)"
   ]
  },
  {
   "cell_type": "code",
   "execution_count": null,
   "metadata": {},
   "outputs": [],
   "source": []
  }
 ],
 "metadata": {
  "kernelspec": {
   "display_name": "Python 3",
   "language": "python",
   "name": "python3"
  },
  "language_info": {
   "codemirror_mode": {
    "name": "ipython",
    "version": 3
   },
   "file_extension": ".py",
   "mimetype": "text/x-python",
   "name": "python",
   "nbconvert_exporter": "python",
   "pygments_lexer": "ipython3",
   "version": "3.7.4"
  }
 },
 "nbformat": 4,
 "nbformat_minor": 2
}
