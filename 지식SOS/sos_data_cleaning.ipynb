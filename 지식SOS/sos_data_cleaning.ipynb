{
 "cells": [
  {
   "cell_type": "code",
   "execution_count": 4,
   "metadata": {},
   "outputs": [],
   "source": [
    "import pandas as pd\n",
    "from bs4 import BeautifulSoup"
   ]
  },
  {
   "cell_type": "code",
   "execution_count": 21,
   "metadata": {},
   "outputs": [],
   "source": [
    "df_q = pd.read_excel(\"질문내용.xlsx\")\n",
    "df_a = pd.read_excel(\"등록된 답변.xlsx\")\n",
    "df_ad = pd.read_excel(\"등록된 답변에 달린 댓글.xlsx\")"
   ]
  },
  {
   "cell_type": "code",
   "execution_count": 22,
   "metadata": {},
   "outputs": [
    {
     "name": "stdout",
     "output_type": "stream",
     "text": [
      "<class 'pandas.core.frame.DataFrame'>\n",
      "RangeIndex: 4746 entries, 0 to 4745\n",
      "Data columns (total 83 columns):\n",
      " #   Column       Non-Null Count  Dtype \n",
      "---  ------       --------------  ----- \n",
      " 0   분야           4746 non-null   object\n",
      " 1   질문명          4746 non-null   object\n",
      " 2   등록일          4746 non-null   object\n",
      " 3   등록자          4746 non-null   object\n",
      " 4   첨부           3928 non-null   object\n",
      " 5   답변수          4746 non-null   int64 \n",
      " 6   조회수          4746 non-null   int64 \n",
      " 7   내용           4746 non-null   object\n",
      " 8   Unnamed: 8   4746 non-null   object\n",
      " 9   Unnamed: 9   424 non-null    object\n",
      " 10  Unnamed: 10  266 non-null    object\n",
      " 11  Unnamed: 11  168 non-null    object\n",
      " 12  Unnamed: 12  95 non-null     object\n",
      " 13  Unnamed: 13  58 non-null     object\n",
      " 14  Unnamed: 14  44 non-null     object\n",
      " 15  Unnamed: 15  31 non-null     object\n",
      " 16  Unnamed: 16  26 non-null     object\n",
      " 17  Unnamed: 17  20 non-null     object\n",
      " 18  Unnamed: 18  18 non-null     object\n",
      " 19  Unnamed: 19  16 non-null     object\n",
      " 20  Unnamed: 20  15 non-null     object\n",
      " 21  Unnamed: 21  11 non-null     object\n",
      " 22  Unnamed: 22  11 non-null     object\n",
      " 23  Unnamed: 23  9 non-null      object\n",
      " 24  Unnamed: 24  8 non-null      object\n",
      " 25  Unnamed: 25  7 non-null      object\n",
      " 26  Unnamed: 26  6 non-null      object\n",
      " 27  Unnamed: 27  6 non-null      object\n",
      " 28  Unnamed: 28  6 non-null      object\n",
      " 29  Unnamed: 29  6 non-null      object\n",
      " 30  Unnamed: 30  6 non-null      object\n",
      " 31  Unnamed: 31  6 non-null      object\n",
      " 32  Unnamed: 32  4 non-null      object\n",
      " 33  Unnamed: 33  3 non-null      object\n",
      " 34  Unnamed: 34  3 non-null      object\n",
      " 35  Unnamed: 35  3 non-null      object\n",
      " 36  Unnamed: 36  3 non-null      object\n",
      " 37  Unnamed: 37  2 non-null      object\n",
      " 38  Unnamed: 38  2 non-null      object\n",
      " 39  Unnamed: 39  2 non-null      object\n",
      " 40  Unnamed: 40  2 non-null      object\n",
      " 41  Unnamed: 41  2 non-null      object\n",
      " 42  Unnamed: 42  2 non-null      object\n",
      " 43  Unnamed: 43  2 non-null      object\n",
      " 44  Unnamed: 44  1 non-null      object\n",
      " 45  Unnamed: 45  1 non-null      object\n",
      " 46  Unnamed: 46  1 non-null      object\n",
      " 47  Unnamed: 47  1 non-null      object\n",
      " 48  Unnamed: 48  1 non-null      object\n",
      " 49  Unnamed: 49  1 non-null      object\n",
      " 50  Unnamed: 50  1 non-null      object\n",
      " 51  Unnamed: 51  1 non-null      object\n",
      " 52  Unnamed: 52  1 non-null      object\n",
      " 53  Unnamed: 53  1 non-null      object\n",
      " 54  Unnamed: 54  1 non-null      object\n",
      " 55  Unnamed: 55  1 non-null      object\n",
      " 56  Unnamed: 56  1 non-null      object\n",
      " 57  Unnamed: 57  1 non-null      object\n",
      " 58  Unnamed: 58  1 non-null      object\n",
      " 59  Unnamed: 59  1 non-null      object\n",
      " 60  Unnamed: 60  1 non-null      object\n",
      " 61  Unnamed: 61  1 non-null      object\n",
      " 62  Unnamed: 62  1 non-null      object\n",
      " 63  Unnamed: 63  1 non-null      object\n",
      " 64  Unnamed: 64  1 non-null      object\n",
      " 65  Unnamed: 65  1 non-null      object\n",
      " 66  Unnamed: 66  1 non-null      object\n",
      " 67  Unnamed: 67  1 non-null      object\n",
      " 68  Unnamed: 68  1 non-null      object\n",
      " 69  Unnamed: 69  1 non-null      object\n",
      " 70  Unnamed: 70  1 non-null      object\n",
      " 71  Unnamed: 71  1 non-null      object\n",
      " 72  Unnamed: 72  1 non-null      object\n",
      " 73  Unnamed: 73  1 non-null      object\n",
      " 74  Unnamed: 74  1 non-null      object\n",
      " 75  Unnamed: 75  1 non-null      object\n",
      " 76  Unnamed: 76  1 non-null      object\n",
      " 77  Unnamed: 77  1 non-null      object\n",
      " 78  Unnamed: 78  1 non-null      object\n",
      " 79  Unnamed: 79  1 non-null      object\n",
      " 80  Unnamed: 80  1 non-null      object\n",
      " 81  Unnamed: 81  1 non-null      object\n",
      " 82  Unnamed: 82  1 non-null      object\n",
      "dtypes: int64(2), object(81)\n",
      "memory usage: 3.0+ MB\n"
     ]
    }
   ],
   "source": [
    "# 질문내용부터 분석한다.\n",
    "# 일단 내용이 어떻게 생겼는지 파악해보자.\n",
    "df_q.info()"
   ]
  },
  {
   "cell_type": "code",
   "execution_count": null,
   "metadata": {},
   "outputs": [],
   "source": [
    "df_q[df_q[\"Unnamed: 9\"].notnull()]"
   ]
  },
  {
   "cell_type": "code",
   "execution_count": 18,
   "metadata": {},
   "outputs": [
    {
     "data": {
      "text/html": [
       "<div>\n",
       "<style scoped>\n",
       "    .dataframe tbody tr th:only-of-type {\n",
       "        vertical-align: middle;\n",
       "    }\n",
       "\n",
       "    .dataframe tbody tr th {\n",
       "        vertical-align: top;\n",
       "    }\n",
       "\n",
       "    .dataframe thead th {\n",
       "        text-align: right;\n",
       "    }\n",
       "</style>\n",
       "<table border=\"1\" class=\"dataframe\">\n",
       "  <thead>\n",
       "    <tr style=\"text-align: right;\">\n",
       "      <th></th>\n",
       "      <th>Unnamed: 33</th>\n",
       "      <th>Unnamed: 34</th>\n",
       "      <th>Unnamed: 35</th>\n",
       "      <th>Unnamed: 36</th>\n",
       "    </tr>\n",
       "  </thead>\n",
       "  <tbody>\n",
       "    <tr>\n",
       "      <th>2226</th>\n",
       "      <td>\"ar\": 0, \"sc\": 1, \"sr\": 1, \"sw\": 3736, \"sh\": ...</td>\n",
       "      <td>, \"di\": false, \"bf\": \"01D7D05F8C11B44000000528...</td>\n",
       "      <td>\": false, \"pr\": false, \"ed\": false, \"di\": fals...</td>\n",
       "      <td>\"ln\": \"\", \"tc\": { \"he\": false, \"hm\": false, \"...</td>\n",
       "    </tr>\n",
       "    <tr>\n",
       "      <th>3115</th>\n",
       "      <td>109D92F11000000289\", \"ac\": 3, \"ar\": 7, \"sc\": 1...</td>\n",
       "      <td>295\", \"si\": \"01D659109D93182000000296\", \"bf\": ...</td>\n",
       "      <td>sc\": 1134, \"ts\": 8000, \"ms\": \"\", \"os\": \"\", \"gl...</td>\n",
       "      <td>} ], [ { \"so\": \"01D659109D92F1100000027B\", \"l...</td>\n",
       "    </tr>\n",
       "    <tr>\n",
       "      <th>3146</th>\n",
       "      <td>00000F9\", \"ac\": 3, \"ar\": 4, \"sc\": 1, \"sr\": 1, ...</td>\n",
       "      <td>\", \"ln\": \"\", \"tc\": { \"he\": false, \"hm\": false,...</td>\n",
       "      <td>\"2,558,850\" } ] } ] } , \"01D63EC0FE817BF00000...</td>\n",
       "      <td>r\": false, \"ed\": false, \"di\": false, \"bf\": \"01...</td>\n",
       "    </tr>\n",
       "  </tbody>\n",
       "</table>\n",
       "</div>"
      ],
      "text/plain": [
       "                                            Unnamed: 33  \\\n",
       "2226   \"ar\": 0, \"sc\": 1, \"sr\": 1, \"sw\": 3736, \"sh\": ...   \n",
       "3115  109D92F11000000289\", \"ac\": 3, \"ar\": 7, \"sc\": 1...   \n",
       "3146  00000F9\", \"ac\": 3, \"ar\": 4, \"sc\": 1, \"sr\": 1, ...   \n",
       "\n",
       "                                            Unnamed: 34  \\\n",
       "2226  , \"di\": false, \"bf\": \"01D7D05F8C11B44000000528...   \n",
       "3115  295\", \"si\": \"01D659109D93182000000296\", \"bf\": ...   \n",
       "3146  \", \"ln\": \"\", \"tc\": { \"he\": false, \"hm\": false,...   \n",
       "\n",
       "                                            Unnamed: 35  \\\n",
       "2226  \": false, \"pr\": false, \"ed\": false, \"di\": fals...   \n",
       "3115  sc\": 1134, \"ts\": 8000, \"ms\": \"\", \"os\": \"\", \"gl...   \n",
       "3146   \"2,558,850\" } ] } ] } , \"01D63EC0FE817BF00000...   \n",
       "\n",
       "                                            Unnamed: 36  \n",
       "2226   \"ln\": \"\", \"tc\": { \"he\": false, \"hm\": false, \"...  \n",
       "3115   } ], [ { \"so\": \"01D659109D92F1100000027B\", \"l...  \n",
       "3146  r\": false, \"ed\": false, \"di\": false, \"bf\": \"01...  "
      ]
     },
     "execution_count": 18,
     "metadata": {},
     "output_type": "execute_result"
    }
   ],
   "source": [
    "df_q.loc[df_q[\"Unnamed: 33\"].notnull(), [\"Unnamed: 33\", \"Unnamed: 34\", \"Unnamed: 35\", \"Unnamed: 36\"]]"
   ]
  },
  {
   "cell_type": "markdown",
   "metadata": {},
   "source": [
    "구조를 보니 분야, 질문명, 등록일, 등록자, 첨부, 답변수, 조회수, 내용 까지는 특별한 문제는 없고, \"Unnamed: 8\"부터 \"Unnamed: 82\" 까지의 컬럼이 질문내용이라고 판단된다.\n",
    "\n",
    "컬럼이 많은 이유는 아마도 글자수가 일정 수 이상이 되면 다음 컬럼으로 넘겨서 기록한 듯 하다. 따라서 \"Unnamed: 8\"부터 \"Unnamed: 82\" 까지의 컬럼을 하나로 합쳐서 질문내용_html 컬럼에 저장하고, 그 안에서 내용을 추출해보기로 하자."
   ]
  },
  {
   "cell_type": "code",
   "execution_count": 23,
   "metadata": {},
   "outputs": [],
   "source": [
    "# \"Unnamed: 8\"부터 \"Unnamed: 82\"까지의 컬럼을 하나로 합쳐서 질문내용_html에 저장\n",
    "df_q['질문내용_html'] = df_q.loc[:, 'Unnamed: 8':'Unnamed: 82'].apply(lambda row: ' '.join(row.dropna().astype(str)), axis=1)"
   ]
  },
  {
   "cell_type": "code",
   "execution_count": 26,
   "metadata": {},
   "outputs": [],
   "source": [
    "# \"Unnamed\" 로 시작하는 컬럼들을 없앤다\n",
    "selected_columns = ['분야', '질문명', '등록일', '등록자', '첨부', '답변수', '조회수', '질문내용_html']\n",
    "df_q1 = df_q[selected_columns]"
   ]
  },
  {
   "cell_type": "code",
   "execution_count": 27,
   "metadata": {},
   "outputs": [
    {
     "data": {
      "text/html": [
       "<div>\n",
       "<style scoped>\n",
       "    .dataframe tbody tr th:only-of-type {\n",
       "        vertical-align: middle;\n",
       "    }\n",
       "\n",
       "    .dataframe tbody tr th {\n",
       "        vertical-align: top;\n",
       "    }\n",
       "\n",
       "    .dataframe thead th {\n",
       "        text-align: right;\n",
       "    }\n",
       "</style>\n",
       "<table border=\"1\" class=\"dataframe\">\n",
       "  <thead>\n",
       "    <tr style=\"text-align: right;\">\n",
       "      <th></th>\n",
       "      <th>분야</th>\n",
       "      <th>질문명</th>\n",
       "      <th>등록일</th>\n",
       "      <th>등록자</th>\n",
       "      <th>첨부</th>\n",
       "      <th>답변수</th>\n",
       "      <th>조회수</th>\n",
       "      <th>질문내용_html</th>\n",
       "    </tr>\n",
       "  </thead>\n",
       "  <tbody>\n",
       "    <tr>\n",
       "      <th>0</th>\n",
       "      <td>신고사건(감독)</td>\n",
       "      <td>영업양도 및 근로관계 인수의 경우, 민형사책임 관련</td>\n",
       "      <td>2024-08-20 11:09:16.0</td>\n",
       "      <td>김태준</td>\n",
       "      <td></td>\n",
       "      <td>1</td>\n",
       "      <td>66</td>\n",
       "      <td>&lt;html xml:lang=\"ko\" lang=\"ko\"&gt;\\r\\n&lt;head&gt;\\r\\n&lt;s...</td>\n",
       "    </tr>\n",
       "    <tr>\n",
       "      <th>1</th>\n",
       "      <td>신고사건(감독)</td>\n",
       "      <td>사용자의 직장 내 괴롭힘에서의 사용자</td>\n",
       "      <td>2024-08-20 09:51:45.0</td>\n",
       "      <td>이도영</td>\n",
       "      <td></td>\n",
       "      <td>0</td>\n",
       "      <td>98</td>\n",
       "      <td>&lt;html xml:lang=\"ko\" lang=\"ko\"&gt;\\r\\n&lt;head&gt;\\r\\n&lt;s...</td>\n",
       "    </tr>\n",
       "    <tr>\n",
       "      <th>2</th>\n",
       "      <td>신고사건(감독)</td>\n",
       "      <td>기간제이자 단시간 근로자 관련 관공서 휴일 질의</td>\n",
       "      <td>2024-08-19 17:10:00.0</td>\n",
       "      <td>장용우</td>\n",
       "      <td></td>\n",
       "      <td>1</td>\n",
       "      <td>167</td>\n",
       "      <td>&lt;html xml:lang=\"ko\" lang=\"ko\"&gt;\\r\\n&lt;head&gt;\\r\\n&lt;s...</td>\n",
       "    </tr>\n",
       "    <tr>\n",
       "      <th>3</th>\n",
       "      <td>사업장감독(감독)</td>\n",
       "      <td>시정지시서가 반송되었을 경우</td>\n",
       "      <td>2024-08-19 16:27:03.0</td>\n",
       "      <td>정현섭</td>\n",
       "      <td></td>\n",
       "      <td>1</td>\n",
       "      <td>266</td>\n",
       "      <td>&lt;html xml:lang=\"ko\" lang=\"ko\"&gt;\\r\\n&lt;head&gt;\\r\\n&lt;s...</td>\n",
       "    </tr>\n",
       "    <tr>\n",
       "      <th>4</th>\n",
       "      <td>신고사건(감독)</td>\n",
       "      <td>임금채권 소멸 시효 산정 문의</td>\n",
       "      <td>2024-08-19 14:07:40.0</td>\n",
       "      <td>백현우</td>\n",
       "      <td></td>\n",
       "      <td>1</td>\n",
       "      <td>188</td>\n",
       "      <td>&lt;html xml:lang=\"ko\" lang=\"ko\"&gt;\\r\\n&lt;head&gt;\\r\\n&lt;s...</td>\n",
       "    </tr>\n",
       "  </tbody>\n",
       "</table>\n",
       "</div>"
      ],
      "text/plain": [
       "          분야                           질문명                    등록일  등록자 첨부  \\\n",
       "0   신고사건(감독)  영업양도 및 근로관계 인수의 경우, 민형사책임 관련  2024-08-20 11:09:16.0  김태준      \n",
       "1   신고사건(감독)          사용자의 직장 내 괴롭힘에서의 사용자  2024-08-20 09:51:45.0  이도영      \n",
       "2   신고사건(감독)    기간제이자 단시간 근로자 관련 관공서 휴일 질의  2024-08-19 17:10:00.0  장용우      \n",
       "3  사업장감독(감독)               시정지시서가 반송되었을 경우  2024-08-19 16:27:03.0  정현섭      \n",
       "4   신고사건(감독)              임금채권 소멸 시효 산정 문의  2024-08-19 14:07:40.0  백현우      \n",
       "\n",
       "   답변수  조회수                                          질문내용_html  \n",
       "0    1   66  <html xml:lang=\"ko\" lang=\"ko\">\\r\\n<head>\\r\\n<s...  \n",
       "1    0   98  <html xml:lang=\"ko\" lang=\"ko\">\\r\\n<head>\\r\\n<s...  \n",
       "2    1  167  <html xml:lang=\"ko\" lang=\"ko\">\\r\\n<head>\\r\\n<s...  \n",
       "3    1  266  <html xml:lang=\"ko\" lang=\"ko\">\\r\\n<head>\\r\\n<s...  \n",
       "4    1  188  <html xml:lang=\"ko\" lang=\"ko\">\\r\\n<head>\\r\\n<s...  "
      ]
     },
     "execution_count": 27,
     "metadata": {},
     "output_type": "execute_result"
    }
   ],
   "source": [
    "df_q1.head()"
   ]
  },
  {
   "cell_type": "code",
   "execution_count": 33,
   "metadata": {},
   "outputs": [
    {
     "data": {
      "text/plain": [
       "분야\n",
       "신고사건(감독)     4001\n",
       "사업장감독(감독)     542\n",
       "감독            170\n",
       "인·허가(감독)       33\n",
       "Name: count, dtype: int64"
      ]
     },
     "execution_count": 33,
     "metadata": {},
     "output_type": "execute_result"
    }
   ],
   "source": [
    "df_q1['분야'].value_counts()"
   ]
  },
  {
   "cell_type": "code",
   "execution_count": 46,
   "metadata": {},
   "outputs": [
    {
     "data": {
      "text/html": [
       "<div>\n",
       "<style scoped>\n",
       "    .dataframe tbody tr th:only-of-type {\n",
       "        vertical-align: middle;\n",
       "    }\n",
       "\n",
       "    .dataframe tbody tr th {\n",
       "        vertical-align: top;\n",
       "    }\n",
       "\n",
       "    .dataframe thead th {\n",
       "        text-align: right;\n",
       "    }\n",
       "</style>\n",
       "<table border=\"1\" class=\"dataframe\">\n",
       "  <thead>\n",
       "    <tr style=\"text-align: right;\">\n",
       "      <th></th>\n",
       "      <th>분야</th>\n",
       "      <th>질문명</th>\n",
       "      <th>등록일</th>\n",
       "      <th>등록자</th>\n",
       "      <th>첨부</th>\n",
       "      <th>답변수</th>\n",
       "      <th>조회수</th>\n",
       "      <th>질문내용_html</th>\n",
       "    </tr>\n",
       "  </thead>\n",
       "  <tbody>\n",
       "    <tr>\n",
       "      <th>3867</th>\n",
       "      <td>신고사건(감독)</td>\n",
       "      <td>시급으로 급여 지급시</td>\n",
       "      <td>2018-03-27 20:28:07.0</td>\n",
       "      <td>김점자</td>\n",
       "      <td></td>\n",
       "      <td>2</td>\n",
       "      <td>262</td>\n",
       "      <td>&lt;html xml:lang=\"ko\" lang=\"ko\"&gt;\\r\\n&lt;head&gt;\\r\\n&lt;t...</td>\n",
       "    </tr>\n",
       "    <tr>\n",
       "      <th>3868</th>\n",
       "      <td>신고사건(감독)</td>\n",
       "      <td>사용증명서 규정 관련입니다</td>\n",
       "      <td>2018-03-20 14:10:10.0</td>\n",
       "      <td>노소영</td>\n",
       "      <td>NaN</td>\n",
       "      <td>1</td>\n",
       "      <td>217</td>\n",
       "      <td>&lt;p&gt;근무중인 근로자가 산재보상문제를 상의하기 위해 &lt;/p&gt;\\r\\n&lt;p&gt;호봉승급자료...</td>\n",
       "    </tr>\n",
       "  </tbody>\n",
       "</table>\n",
       "</div>"
      ],
      "text/plain": [
       "            분야             질문명                    등록일  등록자   첨부  답변수  조회수  \\\n",
       "3867  신고사건(감독)     시급으로 급여 지급시  2018-03-27 20:28:07.0  김점자         2  262   \n",
       "3868  신고사건(감독)  사용증명서 규정 관련입니다  2018-03-20 14:10:10.0  노소영  NaN    1  217   \n",
       "\n",
       "                                              질문내용_html  \n",
       "3867  <html xml:lang=\"ko\" lang=\"ko\">\\r\\n<head>\\r\\n<t...  \n",
       "3868  <p>근무중인 근로자가 산재보상문제를 상의하기 위해 </p>\\r\\n<p>호봉승급자료...  "
      ]
     },
     "execution_count": 46,
     "metadata": {},
     "output_type": "execute_result"
    }
   ],
   "source": [
    "df_q1.iloc[3867:3869]"
   ]
  },
  {
   "cell_type": "code",
   "execution_count": 48,
   "metadata": {},
   "outputs": [
    {
     "data": {
      "text/plain": [
       "'<p>근무중인 근로자가 산재보상문제를 상의하기 위해 </p>\\r\\n<p>호봉승급자료, 퇴직금산정자료, 취업규칙서를 요청합니다.</p>\\r\\n<p>취업규칙서는 사용증명서 포함되는 자료가 아니고,</p>\\r\\n<p>위 두개의 자료는 근기법39조에 의해 사용자는 즉시 교부해야 할까요?</p>\\r\\n<p>아니면 재취업용이 아니므로 발급의무가 없는지요?</p>\\r\\n<p>위 모든 서류가 사용자 발급의무가 없다면 그 근거는 어떤것으로 민원인에게 회시하면 \\r\\n좋을까요?</p>\\r\\n<p>&nbsp;</p>\\r\\n<p>&nbsp;</p>\\r\\n\\x00\\x00\\x00\\x00\\x00\\x00\\x00\\x00\\x00\\x00\\x00\\x00\\x00\\x00\\x00'"
      ]
     },
     "execution_count": 48,
     "metadata": {},
     "output_type": "execute_result"
    }
   ],
   "source": [
    "df_q1.iloc[3868].질문내용_html"
   ]
  },
  {
   "cell_type": "code",
   "execution_count": 8,
   "metadata": {},
   "outputs": [
    {
     "data": {
      "text/plain": [
       "0       <html xml:lang=\"ko\" lang=\"ko\">\\r\\n<head>\\r\\n<s...\n",
       "1       <html xml:lang=\"ko\" lang=\"ko\">\\r\\n<head>\\r\\n<s...\n",
       "2       <html xml:lang=\"ko\" lang=\"ko\">\\r\\n<head>\\r\\n<s...\n",
       "3       <html xml:lang=\"ko\" lang=\"ko\">\\r\\n<head>\\r\\n<s...\n",
       "4       <html xml:lang=\"ko\" lang=\"ko\">\\r\\n<head>\\r\\n<s...\n",
       "                              ...                        \n",
       "4741    <p>또 생각나는게 있어서 올립니다.</p>\\r\\n<p>어떻게 생각하면 간단한 것 ...\n",
       "4742    <p>좋은 공간이 생겼네요. </p>\\r\\n<p>평소에 궁금하던 것들에 대해&nbs...\n",
       "4743    <p>회사에서&nbsp;근무하는 근로자가 근로자인지 아닌지 판단할 수 있는 기준을 ...\n",
       "4744    <p>비정규직에 대한 차별처우 금지영역, 합리적 차별 내용, 차별시정절차 등 차별시...\n",
       "4745                <p>일용직 주휴수당지급관련 답변을 구합니다.</p>\\r\\n\u0000\u0000\u0000\u0000\n",
       "Name: 질문내용_html, Length: 4746, dtype: object"
      ]
     },
     "execution_count": 8,
     "metadata": {},
     "output_type": "execute_result"
    }
   ],
   "source": [
    "df1['질문내용_html']"
   ]
  },
  {
   "cell_type": "markdown",
   "metadata": {},
   "source": [
    "'질문내용_html' 컬럼을 보니 어떤 컬럼은 <html> 태그부터 시작하고, 어떤 컬럼은 <body> 컬럼 안쪽의 내용만 기록되어 있음. 데이터프레임 기준으로 3868번 컬럼, 날짜 기준으로는 2018년 3월 20일 이전 데이터는 <body> 태그 안의 내용만 기록되어 있음.\n",
    "그래서 <body> 안의 내용만 정리하는 함수를 만들어서 '질문내용_body' 컬럼에 저장해본다."
   ]
  },
  {
   "cell_type": "code",
   "execution_count": 49,
   "metadata": {},
   "outputs": [
    {
     "name": "stdout",
     "output_type": "stream",
     "text": [
      "                                           질문내용_html  \\\n",
      "0  <html xml:lang=\"ko\" lang=\"ko\">\\r\\n<head>\\r\\n<s...   \n",
      "1  <html xml:lang=\"ko\" lang=\"ko\">\\r\\n<head>\\r\\n<s...   \n",
      "2  <html xml:lang=\"ko\" lang=\"ko\">\\r\\n<head>\\r\\n<s...   \n",
      "3  <html xml:lang=\"ko\" lang=\"ko\">\\r\\n<head>\\r\\n<s...   \n",
      "4  <html xml:lang=\"ko\" lang=\"ko\">\\r\\n<head>\\r\\n<s...   \n",
      "\n",
      "                                      질문내용_body_html  \n",
      "0  <body>\\n<p>안녕하세요, 신고사건 진행중 궁금한 점이 생겨 의견을 여쭈고자 ...  \n",
      "1  <body>\\n<p>학교법인 산하 대학교의 총장을 상대로</p>\\n<p>직장 내 괴...  \n",
      "2  <body>\\n<p>관공서의 휴일 적용 관련하여 질의가 들어와 다른 감독관님들의 의...  \n",
      "3  <body>\\n<p>시정지시서가 사업장의 폐문부재 등으로 반송되었을 경우, 범죄인지...  \n",
      "4  <body>\\n<p>질문드립니다.</p>\\n<p><br/></p>\\n<p><span...  \n"
     ]
    },
    {
     "name": "stderr",
     "output_type": "stream",
     "text": [
      "C:\\Users\\barkl\\AppData\\Local\\Temp\\ipykernel_8232\\2351271145.py:10: SettingWithCopyWarning: \n",
      "A value is trying to be set on a copy of a slice from a DataFrame.\n",
      "Try using .loc[row_indexer,col_indexer] = value instead\n",
      "\n",
      "See the caveats in the documentation: https://pandas.pydata.org/pandas-docs/stable/user_guide/indexing.html#returning-a-view-versus-a-copy\n",
      "  df_q1['질문내용_body_html'] = df_q1['질문내용_html'].apply(extract_body_html)\n"
     ]
    }
   ],
   "source": [
    "# <body> 태그 내용을 그대로 추출하는 함수\n",
    "def extract_body_html(html):\n",
    "    soup = BeautifulSoup(html, 'html.parser')\n",
    "    if soup.body:  # <body> 태그가 있으면 해당 내용을 추출\n",
    "        return str(soup.body)\n",
    "    else:  # <body> 태그가 없으면 전체 내용을 반환\n",
    "        return html\n",
    "\n",
    "# 새로운 컬럼에 저장\n",
    "df_q1['질문내용_body_html'] = df_q1['질문내용_html'].apply(extract_body_html)\n",
    "\n",
    "# 결과 확인\n",
    "print(df_q1[['질문내용_html', '질문내용_body_html']].head())"
   ]
  },
  {
   "cell_type": "code",
   "execution_count": 50,
   "metadata": {},
   "outputs": [
    {
     "name": "stdout",
     "output_type": "stream",
     "text": [
      "                                           질문내용_html  \\\n",
      "0  <html xml:lang=\"ko\" lang=\"ko\">\\r\\n<head>\\r\\n<s...   \n",
      "1  <html xml:lang=\"ko\" lang=\"ko\">\\r\\n<head>\\r\\n<s...   \n",
      "2  <html xml:lang=\"ko\" lang=\"ko\">\\r\\n<head>\\r\\n<s...   \n",
      "3  <html xml:lang=\"ko\" lang=\"ko\">\\r\\n<head>\\r\\n<s...   \n",
      "4  <html xml:lang=\"ko\" lang=\"ko\">\\r\\n<head>\\r\\n<s...   \n",
      "\n",
      "                                      질문내용_body_html  \n",
      "0  <body>\\n<p>안녕하세요, 신고사건 진행중 궁금한 점이 생겨 의견을 여쭈고자 ...  \n",
      "1  <body>\\n<p>학교법인 산하 대학교의 총장을 상대로</p>\\n<p>직장 내 괴...  \n",
      "2  <body>\\n<p>관공서의 휴일 적용 관련하여 질의가 들어와 다른 감독관님들의 의...  \n",
      "3  <body>\\n<p>시정지시서가 사업장의 폐문부재 등으로 반송되었을 경우, 범죄인지...  \n",
      "4  <body>\\n<p>질문드립니다.</p>\\n<p><br/></p>\\n<p><span...  \n"
     ]
    },
    {
     "name": "stderr",
     "output_type": "stream",
     "text": [
      "C:\\Users\\barkl\\AppData\\Local\\Temp\\ipykernel_8232\\817732237.py:11: SettingWithCopyWarning: \n",
      "A value is trying to be set on a copy of a slice from a DataFrame.\n",
      "Try using .loc[row_indexer,col_indexer] = value instead\n",
      "\n",
      "See the caveats in the documentation: https://pandas.pydata.org/pandas-docs/stable/user_guide/indexing.html#returning-a-view-versus-a-copy\n",
      "  df_q1['질문내용_body_html'] = df_q1['질문내용_html'].apply(ensure_body_tags)\n"
     ]
    }
   ],
   "source": [
    "def ensure_body_tags(html):\n",
    "    soup = BeautifulSoup(html, 'html.parser')\n",
    "    # <body> 태그가 있으면 그대로 반환\n",
    "    if soup.body:\n",
    "        return str(soup.body)\n",
    "    else:\n",
    "        # <body> 태그를 감싸서 반환\n",
    "        return f\"<body>{html}</body>\"\n",
    "\n",
    "# 새로운 컬럼에 저장\n",
    "df_q1['질문내용_body_html'] = df_q1['질문내용_html'].apply(ensure_body_tags)\n",
    "\n",
    "# 결과 확인\n",
    "print(df_q1[['질문내용_html', '질문내용_body_html']].head())"
   ]
  },
  {
   "cell_type": "code",
   "execution_count": 53,
   "metadata": {},
   "outputs": [
    {
     "data": {
      "text/plain": [
       "'<body><p>(사업장 운영 실태)</p>\\r\\n<p>A 디자인 회사는 서울에 본점을 두고 지방 백화점 등에 매니저와 수수료를 지급하는 \\r\\n계약을 하고</p>\\r\\n<p>매장을 운영하고 있음. </p>\\r\\n<p>그런데 매장운영이 인력이 필요하여 매니저와 거의 같은 일을 하는 직원 1명을 \\r\\n두고 아르바이트 &nbsp;직원들도 사용을 하고 있다.</p>\\r\\n<p>(문제제기)</p>\\r\\n<p>매니저가 데리고 와서 같이 일하던 직원이 2년을 근무하다 퇴사를 하면서 퇴직금을 \\r\\n&nbsp;A 디자인 회사</p>\\r\\n<p>본사 대표이사를 상대로 문제를 제기함</p>\\r\\n<p>(조사내용)</p>\\r\\n<p>0.&nbsp;매니저와 직원 주장</p>\\r\\n<p>&nbsp;&nbsp;- 백화점 매장이라는 것이 본사의 관리하기 매니저는 수수료만을 \\r\\n받는다. </p>\\r\\n<p>&nbsp;- 퇴직금을 요구하는 직원의 임금도 &nbsp;통장은 매니저 통장으로 지급을 \\r\\n하였지만 &nbsp;사실상 본사에서</p>\\r\\n<p>&nbsp;&nbsp;&nbsp;측정하였고 &nbsp;매니저 통장으로 월임금을 입금을 시켜주면 \\r\\n곧바로 &nbsp;직원 계좌로 이체를 함</p>\\r\\n<p>&nbsp;- &nbsp;퇴직금을 요구하는 직원이 처음 근무한 2개월은 본사에서 직접 \\r\\n직원의 계좌로 월임금을 입금</p>\\r\\n<p>&nbsp;&nbsp;&nbsp;&nbsp;해주다 갑자기 3개월째부터 매니저 통장으로 넣어주어서 \\r\\n매니저가 바로 넣어주지 왜 본인계좌로</p>\\r\\n<p>&nbsp;&nbsp;&nbsp;&nbsp;입금을 시키냐고 하자 관리자가 퇴직금 문제 때문이라고 \\r\\n이야기를 했다고 주장도 함</p>\\r\\n<p>0 본 사업장 주장</p>\\r\\n<p>&nbsp;- 매니저는 본 사업장의 직원이 아니다</p>\\r\\n<p>&nbsp;- 매니저가 매장을 운영하는데 있어서 직원 1명 정도의 인건비는 지원을 \\r\\n해 주는 차원이다 </p>\\r\\n<p>&nbsp;- 퇴직금을 달라는 직원을 채용도 면접도 본 적이 없다</p>\\r\\n<p>(판단)</p>\\r\\n<p>1안) 본 사업장과 매니저의 관계는 &nbsp;운영에 따른 수수료를 받는 관계로 &nbsp;매니저 \\r\\n자체가 본 사업장의</p>\\r\\n<p>&nbsp;&nbsp;&nbsp;근로자가 아니다 그렇다면 당연히 직원채용에 있어서 면접을 \\r\\n보고 업무를 지시를 하는 위치에</p>\\r\\n<p>&nbsp;&nbsp;있는 매니저가 퇴직금을 지급하는 것이 맞다.</p>\\r\\n<p>2안) &nbsp;비록 매니저가 수수료 계약을 한 근로자가 아니라고 하나 매니저의 \\r\\n월 수수료를 가지고 &nbsp;월190만원이나 되는 직원을 채용하여 현실적으로 사용할 \\r\\n수는 없는 것이 매장의 현실이고</p>\\r\\n<p>&nbsp;&nbsp;&nbsp;&nbsp;&nbsp;&nbsp;&nbsp;&nbsp;그러다 보니 당연히 본사에서 \\r\\n매장 직원채용 인력에 대하여서는 임금을 지급하고 있는 것이 현실이다. 매니저가 \\r\\n본인이 관리하는 직원이라면 퇴직금을 본인이 지급을 해야 된다면 본사에서 받은 \\r\\n임금을 그대로 지급할 이유가 없는데도 매니저의 통장내역을 보면 본사에서 받은 \\r\\n금액을 바로 이체를 하고 있는 실태를 보면 &nbsp;퇴직금을 요구하는 직원은 본사직원으로 \\r\\n분류가 되고 퇴직금도 본사에서 지급을 해야 된다.</p>\\r\\n<p>&nbsp;</p>\\r\\n\\x00\\x00\\x00\\x00\\x00\\x00\\x00\\x00\\x00\\x00\\x00\\x00\\x00\\x00\\x00\\x00\\x00\\x00\\x00\\x00\\x00\\x00\\x00\\x00\\x00\\x00\\x00\\x00\\x00\\x00\\x00\\x00\\x00\\x00\\x00\\x00\\x00\\x00\\x00\\x00\\x00\\x00\\x00\\x00\\x00\\x00\\x00\\x00\\x00\\x00\\x00\\x00\\x00\\x00\\x00\\x00\\x00\\x00\\x00\\x00\\x00\\x00\\x00\\x00\\x00\\x00</body>'"
      ]
     },
     "execution_count": 53,
     "metadata": {},
     "output_type": "execute_result"
    }
   ],
   "source": [
    "df_q1.iloc[3869].질문내용_body_html"
   ]
  },
  {
   "cell_type": "code",
   "execution_count": 54,
   "metadata": {},
   "outputs": [
    {
     "name": "stdout",
     "output_type": "stream",
     "text": [
      "                                      질문내용_body_html 질문내용_table\n",
      "0  <body>\\n<p>안녕하세요, 신고사건 진행중 궁금한 점이 생겨 의견을 여쭈고자 ...       None\n",
      "1  <body>\\n<p>학교법인 산하 대학교의 총장을 상대로</p>\\n<p>직장 내 괴...       None\n",
      "2  <body>\\n<p>관공서의 휴일 적용 관련하여 질의가 들어와 다른 감독관님들의 의...       None\n",
      "3  <body>\\n<p>시정지시서가 사업장의 폐문부재 등으로 반송되었을 경우, 범죄인지...       None\n",
      "4  <body>\\n<p>질문드립니다.</p>\\n<p><br/></p>\\n<p><span...       None\n"
     ]
    },
    {
     "name": "stderr",
     "output_type": "stream",
     "text": [
      "C:\\Users\\barkl\\AppData\\Local\\Temp\\ipykernel_8232\\4123675941.py:7: SettingWithCopyWarning: \n",
      "A value is trying to be set on a copy of a slice from a DataFrame.\n",
      "Try using .loc[row_indexer,col_indexer] = value instead\n",
      "\n",
      "See the caveats in the documentation: https://pandas.pydata.org/pandas-docs/stable/user_guide/indexing.html#returning-a-view-versus-a-copy\n",
      "  df_q1['질문내용_table'] = df_q1['질문내용_body_html'].apply(extract_table_content)\n"
     ]
    }
   ],
   "source": [
    "def extract_table_content(html):\n",
    "    soup = BeautifulSoup(html, 'html.parser')\n",
    "    table = soup.find('table')  # <table> 태그를 찾음\n",
    "    return str(table) if table else None  # <table> 내용이 있으면 반환, 없으면 None\n",
    "\n",
    "# 새로운 컬럼에 <table> 태그 내용 저장\n",
    "df_q1['질문내용_table'] = df_q1['질문내용_body_html'].apply(extract_table_content)\n",
    "\n",
    "# 결과 확인\n",
    "print(df_q1[['질문내용_body_html', '질문내용_table']].head())"
   ]
  },
  {
   "cell_type": "code",
   "execution_count": 56,
   "metadata": {},
   "outputs": [
    {
     "name": "stdout",
     "output_type": "stream",
     "text": [
      "<class 'pandas.core.series.Series'>\n",
      "RangeIndex: 4746 entries, 0 to 4745\n",
      "Series name: 질문내용_table\n",
      "Non-Null Count  Dtype \n",
      "--------------  ----- \n",
      "69 non-null     object\n",
      "dtypes: object(1)\n",
      "memory usage: 37.2+ KB\n"
     ]
    }
   ],
   "source": [
    "df_q1['질문내용_table'].info()"
   ]
  },
  {
   "cell_type": "code",
   "execution_count": 19,
   "metadata": {},
   "outputs": [],
   "source": [
    "# <body> 태그 내용만 추출하는 함수\n",
    "def extract_body(html_content):\n",
    "    soup = BeautifulSoup(html_content, \"html.parser\")\n",
    "    body = soup.body  # <body> 태그를 찾음\n",
    "    if body:        \n",
    "        return body\n",
    "    else:\n",
    "        return html_content\n",
    "\n",
    "# 데이터프레임에 새로운 컬럼 추가\n",
    "df1['질문내용_body'] = df1['질문내용_html'].apply(extract_body)"
   ]
  },
  {
   "cell_type": "code",
   "execution_count": 57,
   "metadata": {},
   "outputs": [
    {
     "name": "stderr",
     "output_type": "stream",
     "text": [
      "C:\\Users\\barkl\\AppData\\Local\\Temp\\ipykernel_8232\\4051041936.py:27: SettingWithCopyWarning: \n",
      "A value is trying to be set on a copy of a slice from a DataFrame.\n",
      "Try using .loc[row_indexer,col_indexer] = value instead\n",
      "\n",
      "See the caveats in the documentation: https://pandas.pydata.org/pandas-docs/stable/user_guide/indexing.html#returning-a-view-versus-a-copy\n",
      "  df_q1['질문내용_final'] = df_q1['질문내용_body_html'].apply(extract_body_as_text_with_table)\n"
     ]
    }
   ],
   "source": [
    "def extract_body_as_text_with_table(html):\n",
    "    soup = BeautifulSoup(html, 'html.parser')\n",
    "    \n",
    "    # 테이블 부분을 먼저 처리\n",
    "    def extract_table_text(table):\n",
    "        rows = []\n",
    "        for tr in table.find_all('tr'):\n",
    "            cells = [td.get_text(strip=True) for td in tr.find_all(['td', 'th'])]\n",
    "            rows.append(\"\\t\".join(cells))  # 열을 탭으로 구분\n",
    "        return \"\\n\".join(rows)  # 행을 줄바꿈으로 구분\n",
    "\n",
    "    final_text = []\n",
    "\n",
    "    # <body> 태그에서 모든 자식 요소를 순차적으로 처리\n",
    "    for element in soup.body.children:\n",
    "        if element.name == 'table':\n",
    "            # <table>일 경우, 테이블 텍스트로 변환\n",
    "            final_text.append(extract_table_text(element))\n",
    "        elif element.name in ['p', 'br', 'ul', 'ol', 'li']:\n",
    "            # 텍스트가 포함된 태그(p, br, ul, ol, li 등)에 대해서는 그대로 텍스트 추가\n",
    "            final_text.append(element.get_text(strip=True))\n",
    "    \n",
    "    # 결과로 하나의 문자열을 반환\n",
    "    return \"\\n\".join(final_text)\n",
    "\n",
    "# 새로운 컬럼 '질문내용_final'에 저장\n",
    "df_q1['질문내용_final'] = df_q1['질문내용_body_html'].apply(extract_body_as_text_with_table)"
   ]
  },
  {
   "cell_type": "code",
   "execution_count": 63,
   "metadata": {},
   "outputs": [
    {
     "ename": "PermissionError",
     "evalue": "[Errno 13] Permission denied: 'output.csv'",
     "output_type": "error",
     "traceback": [
      "\u001b[1;31m---------------------------------------------------------------------------\u001b[0m",
      "\u001b[1;31mPermissionError\u001b[0m                           Traceback (most recent call last)",
      "Cell \u001b[1;32mIn[63], line 1\u001b[0m\n\u001b[1;32m----> 1\u001b[0m \u001b[43mdf_q1\u001b[49m\u001b[38;5;241;43m.\u001b[39;49m\u001b[43mto_csv\u001b[49m\u001b[43m(\u001b[49m\u001b[38;5;124;43m\"\u001b[39;49m\u001b[38;5;124;43moutput.csv\u001b[39;49m\u001b[38;5;124;43m\"\u001b[39;49m\u001b[43m,\u001b[49m\u001b[43m \u001b[49m\u001b[43mencoding\u001b[49m\u001b[38;5;241;43m=\u001b[39;49m\u001b[38;5;124;43m'\u001b[39;49m\u001b[38;5;124;43meuc-kr\u001b[39;49m\u001b[38;5;124;43m'\u001b[39;49m\u001b[43m)\u001b[49m\n",
      "File \u001b[1;32mc:\\Users\\barkl\\AppData\\Local\\Programs\\Python\\Python312\\Lib\\site-packages\\pandas\\util\\_decorators.py:333\u001b[0m, in \u001b[0;36mdeprecate_nonkeyword_arguments.<locals>.decorate.<locals>.wrapper\u001b[1;34m(*args, **kwargs)\u001b[0m\n\u001b[0;32m    327\u001b[0m \u001b[38;5;28;01mif\u001b[39;00m \u001b[38;5;28mlen\u001b[39m(args) \u001b[38;5;241m>\u001b[39m num_allow_args:\n\u001b[0;32m    328\u001b[0m     warnings\u001b[38;5;241m.\u001b[39mwarn(\n\u001b[0;32m    329\u001b[0m         msg\u001b[38;5;241m.\u001b[39mformat(arguments\u001b[38;5;241m=\u001b[39m_format_argument_list(allow_args)),\n\u001b[0;32m    330\u001b[0m         \u001b[38;5;167;01mFutureWarning\u001b[39;00m,\n\u001b[0;32m    331\u001b[0m         stacklevel\u001b[38;5;241m=\u001b[39mfind_stack_level(),\n\u001b[0;32m    332\u001b[0m     )\n\u001b[1;32m--> 333\u001b[0m \u001b[38;5;28;01mreturn\u001b[39;00m \u001b[43mfunc\u001b[49m\u001b[43m(\u001b[49m\u001b[38;5;241;43m*\u001b[39;49m\u001b[43margs\u001b[49m\u001b[43m,\u001b[49m\u001b[43m \u001b[49m\u001b[38;5;241;43m*\u001b[39;49m\u001b[38;5;241;43m*\u001b[39;49m\u001b[43mkwargs\u001b[49m\u001b[43m)\u001b[49m\n",
      "File \u001b[1;32mc:\\Users\\barkl\\AppData\\Local\\Programs\\Python\\Python312\\Lib\\site-packages\\pandas\\core\\generic.py:3964\u001b[0m, in \u001b[0;36mNDFrame.to_csv\u001b[1;34m(self, path_or_buf, sep, na_rep, float_format, columns, header, index, index_label, mode, encoding, compression, quoting, quotechar, lineterminator, chunksize, date_format, doublequote, escapechar, decimal, errors, storage_options)\u001b[0m\n\u001b[0;32m   3953\u001b[0m df \u001b[38;5;241m=\u001b[39m \u001b[38;5;28mself\u001b[39m \u001b[38;5;28;01mif\u001b[39;00m \u001b[38;5;28misinstance\u001b[39m(\u001b[38;5;28mself\u001b[39m, ABCDataFrame) \u001b[38;5;28;01melse\u001b[39;00m \u001b[38;5;28mself\u001b[39m\u001b[38;5;241m.\u001b[39mto_frame()\n\u001b[0;32m   3955\u001b[0m formatter \u001b[38;5;241m=\u001b[39m DataFrameFormatter(\n\u001b[0;32m   3956\u001b[0m     frame\u001b[38;5;241m=\u001b[39mdf,\n\u001b[0;32m   3957\u001b[0m     header\u001b[38;5;241m=\u001b[39mheader,\n\u001b[1;32m   (...)\u001b[0m\n\u001b[0;32m   3961\u001b[0m     decimal\u001b[38;5;241m=\u001b[39mdecimal,\n\u001b[0;32m   3962\u001b[0m )\n\u001b[1;32m-> 3964\u001b[0m \u001b[38;5;28;01mreturn\u001b[39;00m \u001b[43mDataFrameRenderer\u001b[49m\u001b[43m(\u001b[49m\u001b[43mformatter\u001b[49m\u001b[43m)\u001b[49m\u001b[38;5;241;43m.\u001b[39;49m\u001b[43mto_csv\u001b[49m\u001b[43m(\u001b[49m\n\u001b[0;32m   3965\u001b[0m \u001b[43m    \u001b[49m\u001b[43mpath_or_buf\u001b[49m\u001b[43m,\u001b[49m\n\u001b[0;32m   3966\u001b[0m \u001b[43m    \u001b[49m\u001b[43mlineterminator\u001b[49m\u001b[38;5;241;43m=\u001b[39;49m\u001b[43mlineterminator\u001b[49m\u001b[43m,\u001b[49m\n\u001b[0;32m   3967\u001b[0m \u001b[43m    \u001b[49m\u001b[43msep\u001b[49m\u001b[38;5;241;43m=\u001b[39;49m\u001b[43msep\u001b[49m\u001b[43m,\u001b[49m\n\u001b[0;32m   3968\u001b[0m \u001b[43m    \u001b[49m\u001b[43mencoding\u001b[49m\u001b[38;5;241;43m=\u001b[39;49m\u001b[43mencoding\u001b[49m\u001b[43m,\u001b[49m\n\u001b[0;32m   3969\u001b[0m \u001b[43m    \u001b[49m\u001b[43merrors\u001b[49m\u001b[38;5;241;43m=\u001b[39;49m\u001b[43merrors\u001b[49m\u001b[43m,\u001b[49m\n\u001b[0;32m   3970\u001b[0m \u001b[43m    \u001b[49m\u001b[43mcompression\u001b[49m\u001b[38;5;241;43m=\u001b[39;49m\u001b[43mcompression\u001b[49m\u001b[43m,\u001b[49m\n\u001b[0;32m   3971\u001b[0m \u001b[43m    \u001b[49m\u001b[43mquoting\u001b[49m\u001b[38;5;241;43m=\u001b[39;49m\u001b[43mquoting\u001b[49m\u001b[43m,\u001b[49m\n\u001b[0;32m   3972\u001b[0m \u001b[43m    \u001b[49m\u001b[43mcolumns\u001b[49m\u001b[38;5;241;43m=\u001b[39;49m\u001b[43mcolumns\u001b[49m\u001b[43m,\u001b[49m\n\u001b[0;32m   3973\u001b[0m \u001b[43m    \u001b[49m\u001b[43mindex_label\u001b[49m\u001b[38;5;241;43m=\u001b[39;49m\u001b[43mindex_label\u001b[49m\u001b[43m,\u001b[49m\n\u001b[0;32m   3974\u001b[0m \u001b[43m    \u001b[49m\u001b[43mmode\u001b[49m\u001b[38;5;241;43m=\u001b[39;49m\u001b[43mmode\u001b[49m\u001b[43m,\u001b[49m\n\u001b[0;32m   3975\u001b[0m \u001b[43m    \u001b[49m\u001b[43mchunksize\u001b[49m\u001b[38;5;241;43m=\u001b[39;49m\u001b[43mchunksize\u001b[49m\u001b[43m,\u001b[49m\n\u001b[0;32m   3976\u001b[0m \u001b[43m    \u001b[49m\u001b[43mquotechar\u001b[49m\u001b[38;5;241;43m=\u001b[39;49m\u001b[43mquotechar\u001b[49m\u001b[43m,\u001b[49m\n\u001b[0;32m   3977\u001b[0m \u001b[43m    \u001b[49m\u001b[43mdate_format\u001b[49m\u001b[38;5;241;43m=\u001b[39;49m\u001b[43mdate_format\u001b[49m\u001b[43m,\u001b[49m\n\u001b[0;32m   3978\u001b[0m \u001b[43m    \u001b[49m\u001b[43mdoublequote\u001b[49m\u001b[38;5;241;43m=\u001b[39;49m\u001b[43mdoublequote\u001b[49m\u001b[43m,\u001b[49m\n\u001b[0;32m   3979\u001b[0m \u001b[43m    \u001b[49m\u001b[43mescapechar\u001b[49m\u001b[38;5;241;43m=\u001b[39;49m\u001b[43mescapechar\u001b[49m\u001b[43m,\u001b[49m\n\u001b[0;32m   3980\u001b[0m \u001b[43m    \u001b[49m\u001b[43mstorage_options\u001b[49m\u001b[38;5;241;43m=\u001b[39;49m\u001b[43mstorage_options\u001b[49m\u001b[43m,\u001b[49m\n\u001b[0;32m   3981\u001b[0m \u001b[43m\u001b[49m\u001b[43m)\u001b[49m\n",
      "File \u001b[1;32mc:\\Users\\barkl\\AppData\\Local\\Programs\\Python\\Python312\\Lib\\site-packages\\pandas\\io\\formats\\format.py:1014\u001b[0m, in \u001b[0;36mDataFrameRenderer.to_csv\u001b[1;34m(self, path_or_buf, encoding, sep, columns, index_label, mode, compression, quoting, quotechar, lineterminator, chunksize, date_format, doublequote, escapechar, errors, storage_options)\u001b[0m\n\u001b[0;32m    993\u001b[0m     created_buffer \u001b[38;5;241m=\u001b[39m \u001b[38;5;28;01mFalse\u001b[39;00m\n\u001b[0;32m    995\u001b[0m csv_formatter \u001b[38;5;241m=\u001b[39m CSVFormatter(\n\u001b[0;32m    996\u001b[0m     path_or_buf\u001b[38;5;241m=\u001b[39mpath_or_buf,\n\u001b[0;32m    997\u001b[0m     lineterminator\u001b[38;5;241m=\u001b[39mlineterminator,\n\u001b[1;32m   (...)\u001b[0m\n\u001b[0;32m   1012\u001b[0m     formatter\u001b[38;5;241m=\u001b[39m\u001b[38;5;28mself\u001b[39m\u001b[38;5;241m.\u001b[39mfmt,\n\u001b[0;32m   1013\u001b[0m )\n\u001b[1;32m-> 1014\u001b[0m \u001b[43mcsv_formatter\u001b[49m\u001b[38;5;241;43m.\u001b[39;49m\u001b[43msave\u001b[49m\u001b[43m(\u001b[49m\u001b[43m)\u001b[49m\n\u001b[0;32m   1016\u001b[0m \u001b[38;5;28;01mif\u001b[39;00m created_buffer:\n\u001b[0;32m   1017\u001b[0m     \u001b[38;5;28;01massert\u001b[39;00m \u001b[38;5;28misinstance\u001b[39m(path_or_buf, StringIO)\n",
      "File \u001b[1;32mc:\\Users\\barkl\\AppData\\Local\\Programs\\Python\\Python312\\Lib\\site-packages\\pandas\\io\\formats\\csvs.py:251\u001b[0m, in \u001b[0;36mCSVFormatter.save\u001b[1;34m(self)\u001b[0m\n\u001b[0;32m    247\u001b[0m \u001b[38;5;250m\u001b[39m\u001b[38;5;124;03m\"\"\"\u001b[39;00m\n\u001b[0;32m    248\u001b[0m \u001b[38;5;124;03mCreate the writer & save.\u001b[39;00m\n\u001b[0;32m    249\u001b[0m \u001b[38;5;124;03m\"\"\"\u001b[39;00m\n\u001b[0;32m    250\u001b[0m \u001b[38;5;66;03m# apply compression and byte/text conversion\u001b[39;00m\n\u001b[1;32m--> 251\u001b[0m \u001b[38;5;28;01mwith\u001b[39;00m \u001b[43mget_handle\u001b[49m\u001b[43m(\u001b[49m\n\u001b[0;32m    252\u001b[0m \u001b[43m    \u001b[49m\u001b[38;5;28;43mself\u001b[39;49m\u001b[38;5;241;43m.\u001b[39;49m\u001b[43mfilepath_or_buffer\u001b[49m\u001b[43m,\u001b[49m\n\u001b[0;32m    253\u001b[0m \u001b[43m    \u001b[49m\u001b[38;5;28;43mself\u001b[39;49m\u001b[38;5;241;43m.\u001b[39;49m\u001b[43mmode\u001b[49m\u001b[43m,\u001b[49m\n\u001b[0;32m    254\u001b[0m \u001b[43m    \u001b[49m\u001b[43mencoding\u001b[49m\u001b[38;5;241;43m=\u001b[39;49m\u001b[38;5;28;43mself\u001b[39;49m\u001b[38;5;241;43m.\u001b[39;49m\u001b[43mencoding\u001b[49m\u001b[43m,\u001b[49m\n\u001b[0;32m    255\u001b[0m \u001b[43m    \u001b[49m\u001b[43merrors\u001b[49m\u001b[38;5;241;43m=\u001b[39;49m\u001b[38;5;28;43mself\u001b[39;49m\u001b[38;5;241;43m.\u001b[39;49m\u001b[43merrors\u001b[49m\u001b[43m,\u001b[49m\n\u001b[0;32m    256\u001b[0m \u001b[43m    \u001b[49m\u001b[43mcompression\u001b[49m\u001b[38;5;241;43m=\u001b[39;49m\u001b[38;5;28;43mself\u001b[39;49m\u001b[38;5;241;43m.\u001b[39;49m\u001b[43mcompression\u001b[49m\u001b[43m,\u001b[49m\n\u001b[0;32m    257\u001b[0m \u001b[43m    \u001b[49m\u001b[43mstorage_options\u001b[49m\u001b[38;5;241;43m=\u001b[39;49m\u001b[38;5;28;43mself\u001b[39;49m\u001b[38;5;241;43m.\u001b[39;49m\u001b[43mstorage_options\u001b[49m\u001b[43m,\u001b[49m\n\u001b[0;32m    258\u001b[0m \u001b[43m\u001b[49m\u001b[43m)\u001b[49m \u001b[38;5;28;01mas\u001b[39;00m handles:\n\u001b[0;32m    259\u001b[0m     \u001b[38;5;66;03m# Note: self.encoding is irrelevant here\u001b[39;00m\n\u001b[0;32m    260\u001b[0m     \u001b[38;5;28mself\u001b[39m\u001b[38;5;241m.\u001b[39mwriter \u001b[38;5;241m=\u001b[39m csvlib\u001b[38;5;241m.\u001b[39mwriter(\n\u001b[0;32m    261\u001b[0m         handles\u001b[38;5;241m.\u001b[39mhandle,\n\u001b[0;32m    262\u001b[0m         lineterminator\u001b[38;5;241m=\u001b[39m\u001b[38;5;28mself\u001b[39m\u001b[38;5;241m.\u001b[39mlineterminator,\n\u001b[1;32m   (...)\u001b[0m\n\u001b[0;32m    267\u001b[0m         quotechar\u001b[38;5;241m=\u001b[39m\u001b[38;5;28mself\u001b[39m\u001b[38;5;241m.\u001b[39mquotechar,\n\u001b[0;32m    268\u001b[0m     )\n\u001b[0;32m    270\u001b[0m     \u001b[38;5;28mself\u001b[39m\u001b[38;5;241m.\u001b[39m_save()\n",
      "File \u001b[1;32mc:\\Users\\barkl\\AppData\\Local\\Programs\\Python\\Python312\\Lib\\site-packages\\pandas\\io\\common.py:873\u001b[0m, in \u001b[0;36mget_handle\u001b[1;34m(path_or_buf, mode, encoding, compression, memory_map, is_text, errors, storage_options)\u001b[0m\n\u001b[0;32m    868\u001b[0m \u001b[38;5;28;01melif\u001b[39;00m \u001b[38;5;28misinstance\u001b[39m(handle, \u001b[38;5;28mstr\u001b[39m):\n\u001b[0;32m    869\u001b[0m     \u001b[38;5;66;03m# Check whether the filename is to be opened in binary mode.\u001b[39;00m\n\u001b[0;32m    870\u001b[0m     \u001b[38;5;66;03m# Binary mode does not support 'encoding' and 'newline'.\u001b[39;00m\n\u001b[0;32m    871\u001b[0m     \u001b[38;5;28;01mif\u001b[39;00m ioargs\u001b[38;5;241m.\u001b[39mencoding \u001b[38;5;129;01mand\u001b[39;00m \u001b[38;5;124m\"\u001b[39m\u001b[38;5;124mb\u001b[39m\u001b[38;5;124m\"\u001b[39m \u001b[38;5;129;01mnot\u001b[39;00m \u001b[38;5;129;01min\u001b[39;00m ioargs\u001b[38;5;241m.\u001b[39mmode:\n\u001b[0;32m    872\u001b[0m         \u001b[38;5;66;03m# Encoding\u001b[39;00m\n\u001b[1;32m--> 873\u001b[0m         handle \u001b[38;5;241m=\u001b[39m \u001b[38;5;28;43mopen\u001b[39;49m\u001b[43m(\u001b[49m\n\u001b[0;32m    874\u001b[0m \u001b[43m            \u001b[49m\u001b[43mhandle\u001b[49m\u001b[43m,\u001b[49m\n\u001b[0;32m    875\u001b[0m \u001b[43m            \u001b[49m\u001b[43mioargs\u001b[49m\u001b[38;5;241;43m.\u001b[39;49m\u001b[43mmode\u001b[49m\u001b[43m,\u001b[49m\n\u001b[0;32m    876\u001b[0m \u001b[43m            \u001b[49m\u001b[43mencoding\u001b[49m\u001b[38;5;241;43m=\u001b[39;49m\u001b[43mioargs\u001b[49m\u001b[38;5;241;43m.\u001b[39;49m\u001b[43mencoding\u001b[49m\u001b[43m,\u001b[49m\n\u001b[0;32m    877\u001b[0m \u001b[43m            \u001b[49m\u001b[43merrors\u001b[49m\u001b[38;5;241;43m=\u001b[39;49m\u001b[43merrors\u001b[49m\u001b[43m,\u001b[49m\n\u001b[0;32m    878\u001b[0m \u001b[43m            \u001b[49m\u001b[43mnewline\u001b[49m\u001b[38;5;241;43m=\u001b[39;49m\u001b[38;5;124;43m\"\u001b[39;49m\u001b[38;5;124;43m\"\u001b[39;49m\u001b[43m,\u001b[49m\n\u001b[0;32m    879\u001b[0m \u001b[43m        \u001b[49m\u001b[43m)\u001b[49m\n\u001b[0;32m    880\u001b[0m     \u001b[38;5;28;01melse\u001b[39;00m:\n\u001b[0;32m    881\u001b[0m         \u001b[38;5;66;03m# Binary mode\u001b[39;00m\n\u001b[0;32m    882\u001b[0m         handle \u001b[38;5;241m=\u001b[39m \u001b[38;5;28mopen\u001b[39m(handle, ioargs\u001b[38;5;241m.\u001b[39mmode)\n",
      "\u001b[1;31mPermissionError\u001b[0m: [Errno 13] Permission denied: 'output.csv'"
     ]
    }
   ],
   "source": [
    "df_q1.to_csv(\"output.csv\", encoding='utf-8-sig')"
   ]
  },
  {
   "cell_type": "code",
   "execution_count": 20,
   "metadata": {},
   "outputs": [
    {
     "data": {
      "text/plain": [
       "0       [\\n, [안녕하세요, 신고사건 진행중 궁금한 점이 생겨 의견을 여쭈고자 글을 작성...\n",
       "1       [\\n, [학교법인 산하 대학교의 총장을 상대로], \\n, [직장 내 괴롭힘을 당했...\n",
       "2       [\\n, [관공서의 휴일 적용 관련하여 질의가 들어와 다른 감독관님들의 의견을 구합...\n",
       "3       [\\n, [시정지시서가 사업장의 폐문부재 등으로 반송되었을 경우, 범죄인지 및 과태...\n",
       "4       [\\n, [질문드립니다.], \\n, [[]], \\n, [[- 진정요지: 임금체불]]...\n",
       "                              ...                        \n",
       "4741    <p>또 생각나는게 있어서 올립니다.</p>\\r\\n<p>어떻게 생각하면 간단한 것 ...\n",
       "4742    <p>좋은 공간이 생겼네요. </p>\\r\\n<p>평소에 궁금하던 것들에 대해&nbs...\n",
       "4743    <p>회사에서&nbsp;근무하는 근로자가 근로자인지 아닌지 판단할 수 있는 기준을 ...\n",
       "4744    <p>비정규직에 대한 차별처우 금지영역, 합리적 차별 내용, 차별시정절차 등 차별시...\n",
       "4745                <p>일용직 주휴수당지급관련 답변을 구합니다.</p>\\r\\n\u0000\u0000\u0000\u0000\n",
       "Name: 질문내용_body, Length: 4746, dtype: object"
      ]
     },
     "execution_count": 20,
     "metadata": {},
     "output_type": "execute_result"
    }
   ],
   "source": [
    "df1['질문내용_body']"
   ]
  },
  {
   "cell_type": "code",
   "execution_count": 11,
   "metadata": {},
   "outputs": [
    {
     "data": {
      "text/plain": [
       "0       <html xml:lang=\"ko\" lang=\"ko\">\\r\\n<head>\\r\\n<s...\n",
       "1       <html xml:lang=\"ko\" lang=\"ko\">\\r\\n<head>\\r\\n<s...\n",
       "2       <html xml:lang=\"ko\" lang=\"ko\">\\r\\n<head>\\r\\n<s...\n",
       "3       <html xml:lang=\"ko\" lang=\"ko\">\\r\\n<head>\\r\\n<s...\n",
       "4       <html xml:lang=\"ko\" lang=\"ko\">\\r\\n<head>\\r\\n<s...\n",
       "                              ...                        \n",
       "4741    <p>또 생각나는게 있어서 올립니다.</p>\\r\\n<p>어떻게 생각하면 간단한 것 ...\n",
       "4742    <p>좋은 공간이 생겼네요. </p>\\r\\n<p>평소에 궁금하던 것들에 대해&nbs...\n",
       "4743    <p>회사에서&nbsp;근무하는 근로자가 근로자인지 아닌지 판단할 수 있는 기준을 ...\n",
       "4744    <p>비정규직에 대한 차별처우 금지영역, 합리적 차별 내용, 차별시정절차 등 차별시...\n",
       "4745                <p>일용직 주휴수당지급관련 답변을 구합니다.</p>\\r\\n\u0000\u0000\u0000\u0000\n",
       "Name: 질문내용_html, Length: 4746, dtype: object"
      ]
     },
     "execution_count": 11,
     "metadata": {},
     "output_type": "execute_result"
    }
   ],
   "source": [
    "df1['질문내용_html']"
   ]
  },
  {
   "cell_type": "code",
   "execution_count": 12,
   "metadata": {},
   "outputs": [],
   "source": [
    "# HTML 테이블을 추출하는 함수\n",
    "def extract_table_from_html(html_content):\n",
    "    try:\n",
    "        # HTML 데이터에서 모든 테이블을 읽어옴\n",
    "        tables = pd.read_html(StringIO(html_content))\n",
    "        if tables:\n",
    "            # 첫 번째 테이블만 추출\n",
    "            return tables[0]\n",
    "        else:\n",
    "            return None\n",
    "    except Exception as e:\n",
    "        # 테이블이 없거나 오류가 발생하면 None 반환\n",
    "        return None\n",
    "\n",
    "# 질문내용_html 컬럼에서 테이블 추출하여 새로운 컬럼에 저장\n",
    "df1['질문내용_table'] = df1['질문내용_html'].apply(extract_table_from_html)"
   ]
  },
  {
   "cell_type": "code",
   "execution_count": null,
   "metadata": {},
   "outputs": [],
   "source": [
    "df1.columns"
   ]
  },
  {
   "cell_type": "code",
   "execution_count": null,
   "metadata": {},
   "outputs": [],
   "source": [
    "df1[df1['등록자']=='김정래']"
   ]
  },
  {
   "cell_type": "code",
   "execution_count": null,
   "metadata": {},
   "outputs": [],
   "source": [
    "df1[df1['질문내용_table'].notna()]"
   ]
  },
  {
   "cell_type": "code",
   "execution_count": 13,
   "metadata": {},
   "outputs": [],
   "source": [
    "selected_columns = ['분야', '질문명', '등록일', '등록자' ,'답변수', '조회수', '질문내용_html', '질문내용_body']"
   ]
  },
  {
   "cell_type": "code",
   "execution_count": 14,
   "metadata": {},
   "outputs": [],
   "source": [
    "df1[selected_columns].to_csv(\"output.csv\", index=False, encoding=\"utf-8-sig\", escapechar=\"\\\\\")"
   ]
  }
 ],
 "metadata": {
  "kernelspec": {
   "display_name": "Python 3",
   "language": "python",
   "name": "python3"
  },
  "language_info": {
   "codemirror_mode": {
    "name": "ipython",
    "version": 3
   },
   "file_extension": ".py",
   "mimetype": "text/x-python",
   "name": "python",
   "nbconvert_exporter": "python",
   "pygments_lexer": "ipython3",
   "version": "3.12.1"
  }
 },
 "nbformat": 4,
 "nbformat_minor": 2
}
