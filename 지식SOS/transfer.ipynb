{
 "cells": [
  {
   "cell_type": "code",
   "execution_count": 88,
   "metadata": {},
   "outputs": [],
   "source": [
    "import pandas as pd\n",
    "from bs4 import BeautifulSoup\n",
    "\n",
    "pd.set_option('display.max_rows', None)"
   ]
  },
  {
   "cell_type": "code",
   "execution_count": 39,
   "metadata": {},
   "outputs": [],
   "source": [
    "# 공통질문 character-set 변환\n",
    "df_공통질문 = pd.read_csv(\"공통_질문내용2.csv\", encoding=\"cp949\")"
   ]
  },
  {
   "cell_type": "code",
   "execution_count": 41,
   "metadata": {},
   "outputs": [
    {
     "data": {
      "text/plain": [
       "Index(['분야', '질문명', '등록일', '등록자', '첨부', '답변수', '조회수', '내용', 'Unnamed: 8',\n",
       "       'Unnamed: 9', 'Unnamed: 10'],\n",
       "      dtype='object')"
      ]
     },
     "execution_count": 41,
     "metadata": {},
     "output_type": "execute_result"
    }
   ],
   "source": [
    "df_공통질문.columns"
   ]
  },
  {
   "cell_type": "code",
   "execution_count": 43,
   "metadata": {},
   "outputs": [],
   "source": [
    "# \"Unnamed: 8\"부터 \"Unnamed: 10\"까지의 컬럼을 하나로 합쳐서 내용2에 저장\n",
    "df_공통질문['내용2'] = df_공통질문.loc[:, 'Unnamed: 8':'Unnamed: 10'].apply(lambda row: ' '.join(row.dropna().astype(str)), axis=1)"
   ]
  },
  {
   "cell_type": "code",
   "execution_count": 44,
   "metadata": {},
   "outputs": [],
   "source": [
    "# 원하는 컬럼만 선택해서 df_공통질문2를 만든다.\n",
    "selected_columns = ['분야', '질문명', '등록일', '등록자', '첨부', '답변수', '조회수', '내용2']\n",
    "df_공통질문2 = df_공통질문[selected_columns]"
   ]
  },
  {
   "cell_type": "code",
   "execution_count": 47,
   "metadata": {},
   "outputs": [],
   "source": [
    "# 산안질문 character-set 변환\n",
    "df_산안질문 = pd.read_csv(\"산안_질문내용2.csv\", encoding=\"cp949\")"
   ]
  },
  {
   "cell_type": "code",
   "execution_count": 48,
   "metadata": {},
   "outputs": [
    {
     "data": {
      "text/plain": [
       "Index(['분야', '질문명', '등록일', '등록자', '첨부', '답변수', '조회수', '내용', 'Unnamed: 8',\n",
       "       'Unnamed: 9', 'Unnamed: 10', 'Unnamed: 11', 'Unnamed: 12'],\n",
       "      dtype='object')"
      ]
     },
     "execution_count": 48,
     "metadata": {},
     "output_type": "execute_result"
    }
   ],
   "source": [
    "df_산안질문.columns"
   ]
  },
  {
   "cell_type": "code",
   "execution_count": 49,
   "metadata": {},
   "outputs": [],
   "source": [
    "# \"Unnamed: 8\"부터 \"Unnamed: 12\"까지의 컬럼을 하나로 합쳐서 내용2에 저장\n",
    "df_산안질문['내용2'] = df_산안질문.loc[:, 'Unnamed: 8':'Unnamed: 12'].apply(lambda row: ' '.join(row.dropna().astype(str)), axis=1)"
   ]
  },
  {
   "cell_type": "code",
   "execution_count": 50,
   "metadata": {},
   "outputs": [],
   "source": [
    "# 원하는 컬럼만 선택해서 df_산안질문2를 만든다.\n",
    "selected_columns = ['분야', '질문명', '등록일', '등록자', '첨부', '답변수', '조회수', '내용2']\n",
    "df_산안질문2 = df_산안질문[selected_columns]"
   ]
  },
  {
   "cell_type": "code",
   "execution_count": 51,
   "metadata": {},
   "outputs": [],
   "source": [
    "# 노사질문 character-set 변환\n",
    "df_노사질문 = pd.read_csv(\"노사_질문내용2.csv\", encoding=\"cp949\")"
   ]
  },
  {
   "cell_type": "code",
   "execution_count": 52,
   "metadata": {},
   "outputs": [
    {
     "data": {
      "text/plain": [
       "Index(['분야', '질문명', '등록일', '등록자', '첨부', '답변수', '조회수', '내용', 'Unnamed: 8',\n",
       "       'Unnamed: 9', 'Unnamed: 10', 'Unnamed: 11', 'Unnamed: 12',\n",
       "       'Unnamed: 13', 'Unnamed: 14', 'Unnamed: 15'],\n",
       "      dtype='object')"
      ]
     },
     "execution_count": 52,
     "metadata": {},
     "output_type": "execute_result"
    }
   ],
   "source": [
    "df_노사질문.columns"
   ]
  },
  {
   "cell_type": "code",
   "execution_count": 53,
   "metadata": {},
   "outputs": [],
   "source": [
    "# \"Unnamed: 8\"부터 \"Unnamed: 15\"까지의 컬럼을 하나로 합쳐서 내용2에 저장\n",
    "df_노사질문['내용2'] = df_노사질문.loc[:, 'Unnamed: 8':'Unnamed: 15'].apply(lambda row: ' '.join(row.dropna().astype(str)), axis=1)"
   ]
  },
  {
   "cell_type": "code",
   "execution_count": 54,
   "metadata": {},
   "outputs": [],
   "source": [
    "# 원하는 컬럼만 선택해서 df_노사질문2를 만든다.\n",
    "selected_columns = ['분야', '질문명', '등록일', '등록자', '첨부', '답변수', '조회수', '내용2']\n",
    "df_노사질문2 = df_노사질문[selected_columns]"
   ]
  },
  {
   "cell_type": "code",
   "execution_count": 55,
   "metadata": {},
   "outputs": [],
   "source": [
    "# 고용질문 character-set 변환\n",
    "df_고용질문 = pd.read_csv(\"고용_질문내용2.csv\", encoding=\"cp949\")"
   ]
  },
  {
   "cell_type": "code",
   "execution_count": 56,
   "metadata": {},
   "outputs": [
    {
     "data": {
      "text/plain": [
       "Index(['분야', '질문명', '등록일', '등록자', '첨부', '답변수', '조회수', '내용', 'Unnamed: 8',\n",
       "       'Unnamed: 9', 'Unnamed: 10', 'Unnamed: 11', 'Unnamed: 12',\n",
       "       'Unnamed: 13', 'Unnamed: 14', 'Unnamed: 15', 'Unnamed: 16',\n",
       "       'Unnamed: 17', 'Unnamed: 18'],\n",
       "      dtype='object')"
      ]
     },
     "execution_count": 56,
     "metadata": {},
     "output_type": "execute_result"
    }
   ],
   "source": [
    "df_고용질문.columns"
   ]
  },
  {
   "cell_type": "code",
   "execution_count": 57,
   "metadata": {},
   "outputs": [],
   "source": [
    "# \"Unnamed: 8\"부터 \"Unnamed: 18\"까지의 컬럼을 하나로 합쳐서 내용2에 저장\n",
    "df_고용질문['내용2'] = df_고용질문.loc[:, 'Unnamed: 8':'Unnamed: 18'].apply(lambda row: ' '.join(row.dropna().astype(str)), axis=1)"
   ]
  },
  {
   "cell_type": "code",
   "execution_count": 58,
   "metadata": {},
   "outputs": [],
   "source": [
    "# 원하는 컬럼만 선택해서 df_노사질문2를 만든다.\n",
    "selected_columns = ['분야', '질문명', '등록일', '등록자', '첨부', '답변수', '조회수', '내용2']\n",
    "df_고용질문2 = df_고용질문[selected_columns]"
   ]
  },
  {
   "cell_type": "code",
   "execution_count": 59,
   "metadata": {},
   "outputs": [],
   "source": [
    "# 감독1질문, 감독2질문 character-set 변환\n",
    "df_감독1질문 = pd.read_csv(\"감독_질문내용(~2024.08.20)2.csv\", encoding=\"cp949\")\n",
    "df_감독2질문 = pd.read_csv(\"감독_질문내용(2024.08.20~)2.csv\", encoding=\"cp949\")"
   ]
  },
  {
   "cell_type": "code",
   "execution_count": 63,
   "metadata": {},
   "outputs": [
    {
     "data": {
      "text/plain": [
       "Index(['분야', '질문명', '등록일', '등록자', '첨부', '답변수', '조회수', '내용', 'Unnamed: 8',\n",
       "       'Unnamed: 9', 'Unnamed: 10', 'Unnamed: 11', 'Unnamed: 12',\n",
       "       'Unnamed: 13', 'Unnamed: 14', 'Unnamed: 15', 'Unnamed: 16',\n",
       "       'Unnamed: 17', 'Unnamed: 18', 'Unnamed: 19', 'Unnamed: 20'],\n",
       "      dtype='object')"
      ]
     },
     "execution_count": 63,
     "metadata": {},
     "output_type": "execute_result"
    }
   ],
   "source": [
    "df_감독1질문.columns # 82까지\n",
    "df_감독2질문.columns # 20까지"
   ]
  },
  {
   "cell_type": "code",
   "execution_count": 64,
   "metadata": {},
   "outputs": [],
   "source": [
    "# \"Unnamed: 8\"부터 \"Unnamed: 82\"까지의 컬럼을 하나로 합쳐서 내용2에 저장\n",
    "df_감독1질문['내용2'] = df_감독1질문.loc[:, 'Unnamed: 8':'Unnamed: 82'].apply(lambda row: ' '.join(row.dropna().astype(str)), axis=1)\n",
    "\n",
    "# \"Unnamed: 8\"부터 \"Unnamed: 20\"까지의 컬럼을 하나로 합쳐서 내용2에 저장\n",
    "df_감독2질문['내용2'] = df_감독2질문.loc[:, 'Unnamed: 8':'Unnamed: 20'].apply(lambda row: ' '.join(row.dropna().astype(str)), axis=1)"
   ]
  },
  {
   "cell_type": "code",
   "execution_count": 65,
   "metadata": {},
   "outputs": [],
   "source": [
    "# 원하는 컬럼만 선택해서 df_감독1질문2, df_감독2질문2를 만든다.\n",
    "selected_columns = ['분야', '질문명', '등록일', '등록자', '첨부', '답변수', '조회수', '내용2']\n",
    "df_감독1질문2 = df_감독1질문[selected_columns]\n",
    "df_감독2질문2 = df_감독2질문[selected_columns]"
   ]
  },
  {
   "cell_type": "code",
   "execution_count": 82,
   "metadata": {},
   "outputs": [
    {
     "name": "stderr",
     "output_type": "stream",
     "text": [
      "C:\\Users\\Moel\\AppData\\Local\\Temp\\ipykernel_7876\\2696427687.py:2: SettingWithCopyWarning: \n",
      "A value is trying to be set on a copy of a slice from a DataFrame.\n",
      "Try using .loc[row_indexer,col_indexer] = value instead\n",
      "\n",
      "See the caveats in the documentation: https://pandas.pydata.org/pandas-docs/stable/user_guide/indexing.html#returning-a-view-versus-a-copy\n",
      "  df_감독1질문2['분야'] = '노동'\n",
      "C:\\Users\\Moel\\AppData\\Local\\Temp\\ipykernel_7876\\2696427687.py:3: SettingWithCopyWarning: \n",
      "A value is trying to be set on a copy of a slice from a DataFrame.\n",
      "Try using .loc[row_indexer,col_indexer] = value instead\n",
      "\n",
      "See the caveats in the documentation: https://pandas.pydata.org/pandas-docs/stable/user_guide/indexing.html#returning-a-view-versus-a-copy\n",
      "  df_감독2질문2['분야'] = '노동'\n",
      "C:\\Users\\Moel\\AppData\\Local\\Temp\\ipykernel_7876\\2696427687.py:4: SettingWithCopyWarning: \n",
      "A value is trying to be set on a copy of a slice from a DataFrame.\n",
      "Try using .loc[row_indexer,col_indexer] = value instead\n",
      "\n",
      "See the caveats in the documentation: https://pandas.pydata.org/pandas-docs/stable/user_guide/indexing.html#returning-a-view-versus-a-copy\n",
      "  df_고용질문2['분야'] = '고용'\n",
      "C:\\Users\\Moel\\AppData\\Local\\Temp\\ipykernel_7876\\2696427687.py:5: SettingWithCopyWarning: \n",
      "A value is trying to be set on a copy of a slice from a DataFrame.\n",
      "Try using .loc[row_indexer,col_indexer] = value instead\n",
      "\n",
      "See the caveats in the documentation: https://pandas.pydata.org/pandas-docs/stable/user_guide/indexing.html#returning-a-view-versus-a-copy\n",
      "  df_공통질문2['분야'] = '기타'\n",
      "C:\\Users\\Moel\\AppData\\Local\\Temp\\ipykernel_7876\\2696427687.py:6: SettingWithCopyWarning: \n",
      "A value is trying to be set on a copy of a slice from a DataFrame.\n",
      "Try using .loc[row_indexer,col_indexer] = value instead\n",
      "\n",
      "See the caveats in the documentation: https://pandas.pydata.org/pandas-docs/stable/user_guide/indexing.html#returning-a-view-versus-a-copy\n",
      "  df_노사질문2['분야'] = '노동'\n",
      "C:\\Users\\Moel\\AppData\\Local\\Temp\\ipykernel_7876\\2696427687.py:7: SettingWithCopyWarning: \n",
      "A value is trying to be set on a copy of a slice from a DataFrame.\n",
      "Try using .loc[row_indexer,col_indexer] = value instead\n",
      "\n",
      "See the caveats in the documentation: https://pandas.pydata.org/pandas-docs/stable/user_guide/indexing.html#returning-a-view-versus-a-copy\n",
      "  df_산안질문2['분야'] = '산안'\n"
     ]
    }
   ],
   "source": [
    "# 각 분야별 질문2 df에서 분야를 다시 정한다.\n",
    "df_감독1질문2['분야'] = '노동'\n",
    "df_감독2질문2['분야'] = '노동'\n",
    "df_고용질문2['분야'] = '고용'\n",
    "df_공통질문2['분야'] = '기타'\n",
    "df_노사질문2['분야'] = '노동'\n",
    "df_산안질문2['분야'] = '산안'"
   ]
  },
  {
   "cell_type": "code",
   "execution_count": 110,
   "metadata": {},
   "outputs": [],
   "source": [
    "# 6개의 분야별 질문2를 하나로 합친다\n",
    "df_질문2 = pd.concat([df_감독1질문2, df_감독2질문2, df_고용질문2, df_공통질문2, df_노사질문2, df_산안질문2], ignore_index=True)"
   ]
  },
  {
   "cell_type": "code",
   "execution_count": 111,
   "metadata": {},
   "outputs": [
    {
     "data": {
      "text/plain": [
       "분야\n",
       "노동    5179\n",
       "고용     575\n",
       "산안     108\n",
       "기타      46\n",
       "Name: count, dtype: int64"
      ]
     },
     "execution_count": 111,
     "metadata": {},
     "output_type": "execute_result"
    }
   ],
   "source": [
    "# 잘 합쳐졌는지 확인\n",
    "df_질문2.head()\n",
    "df_질문2['분야'].value_counts()"
   ]
  },
  {
   "cell_type": "code",
   "execution_count": 112,
   "metadata": {},
   "outputs": [],
   "source": [
    "# 등록일 형태를 14자리 문자열로 변환한다.\n",
    "df_질문2['등록일'] = pd.to_datetime(df_질문2['등록일']).dt.strftime('%Y%m%d%H%M%S')\n"
   ]
  },
  {
   "cell_type": "code",
   "execution_count": 113,
   "metadata": {},
   "outputs": [
    {
     "data": {
      "text/html": [
       "<div>\n",
       "<style scoped>\n",
       "    .dataframe tbody tr th:only-of-type {\n",
       "        vertical-align: middle;\n",
       "    }\n",
       "\n",
       "    .dataframe tbody tr th {\n",
       "        vertical-align: top;\n",
       "    }\n",
       "\n",
       "    .dataframe thead th {\n",
       "        text-align: right;\n",
       "    }\n",
       "</style>\n",
       "<table border=\"1\" class=\"dataframe\">\n",
       "  <thead>\n",
       "    <tr style=\"text-align: right;\">\n",
       "      <th></th>\n",
       "      <th>분야</th>\n",
       "      <th>질문명</th>\n",
       "      <th>등록일</th>\n",
       "      <th>등록자</th>\n",
       "      <th>첨부</th>\n",
       "      <th>답변수</th>\n",
       "      <th>조회수</th>\n",
       "      <th>내용2</th>\n",
       "    </tr>\n",
       "  </thead>\n",
       "  <tbody>\n",
       "    <tr>\n",
       "      <th>0</th>\n",
       "      <td>노동</td>\n",
       "      <td>휴게시간 위반 여부 판단</td>\n",
       "      <td>20240830133518</td>\n",
       "      <td>백현우</td>\n",
       "      <td></td>\n",
       "      <td>2</td>\n",
       "      <td>713</td>\n",
       "      <td>&lt;html xml:lang=\"ko\" lang=\"ko\"&gt;\\r\\n&lt;head&gt;\\r\\n&lt;s...</td>\n",
       "    </tr>\n",
       "    <tr>\n",
       "      <th>1</th>\n",
       "      <td>노동</td>\n",
       "      <td>지방노동위원회 화해와 금품체불 진정사건의 관계</td>\n",
       "      <td>20240830102541</td>\n",
       "      <td>오윤아</td>\n",
       "      <td></td>\n",
       "      <td>4</td>\n",
       "      <td>462</td>\n",
       "      <td>&lt;html xml:lang=\"ko\" lang=\"ko\"&gt;\\r\\n&lt;head&gt;\\r\\n&lt;s...</td>\n",
       "    </tr>\n",
       "    <tr>\n",
       "      <th>2</th>\n",
       "      <td>노동</td>\n",
       "      <td>직장내 괴롭힘 관련하여 직장내괴롭힘 당사자가 모두 퇴사한 경우</td>\n",
       "      <td>20240830084139</td>\n",
       "      <td>이효정</td>\n",
       "      <td></td>\n",
       "      <td>1</td>\n",
       "      <td>547</td>\n",
       "      <td>&lt;html xml:lang=\"ko\" lang=\"ko\"&gt;\\r\\n&lt;head&gt;\\r\\n&lt;s...</td>\n",
       "    </tr>\n",
       "    <tr>\n",
       "      <th>3</th>\n",
       "      <td>노동</td>\n",
       "      <td>하루 결근 시 급여 계산 방법 문의</td>\n",
       "      <td>20240829160541</td>\n",
       "      <td>백현우</td>\n",
       "      <td></td>\n",
       "      <td>1</td>\n",
       "      <td>510</td>\n",
       "      <td>&lt;html xml:lang=\"ko\" lang=\"ko\"&gt;\\r\\n&lt;head&gt;\\r\\n&lt;s...</td>\n",
       "    </tr>\n",
       "    <tr>\n",
       "      <th>4</th>\n",
       "      <td>노동</td>\n",
       "      <td>퇴직급여보장법개정시행령 상시근로자수 산정 방식 관련입니다.</td>\n",
       "      <td>20240829121114</td>\n",
       "      <td>정대형</td>\n",
       "      <td></td>\n",
       "      <td>1</td>\n",
       "      <td>205</td>\n",
       "      <td>&lt;html xml:lang=\"ko\" lang=\"ko\"&gt;\\r\\n&lt;head&gt;\\r\\n&lt;s...</td>\n",
       "    </tr>\n",
       "  </tbody>\n",
       "</table>\n",
       "</div>"
      ],
      "text/plain": [
       "   분야                                 질문명             등록일  등록자 첨부  답변수  조회수  \\\n",
       "0  노동                       휴게시간 위반 여부 판단  20240830133518  백현우       2  713   \n",
       "1  노동           지방노동위원회 화해와 금품체불 진정사건의 관계  20240830102541  오윤아       4  462   \n",
       "2  노동  직장내 괴롭힘 관련하여 직장내괴롭힘 당사자가 모두 퇴사한 경우  20240830084139  이효정       1  547   \n",
       "3  노동                 하루 결근 시 급여 계산 방법 문의  20240829160541  백현우       1  510   \n",
       "4  노동    퇴직급여보장법개정시행령 상시근로자수 산정 방식 관련입니다.  20240829121114  정대형       1  205   \n",
       "\n",
       "                                                 내용2  \n",
       "0  <html xml:lang=\"ko\" lang=\"ko\">\\r\\n<head>\\r\\n<s...  \n",
       "1  <html xml:lang=\"ko\" lang=\"ko\">\\r\\n<head>\\r\\n<s...  \n",
       "2  <html xml:lang=\"ko\" lang=\"ko\">\\r\\n<head>\\r\\n<s...  \n",
       "3  <html xml:lang=\"ko\" lang=\"ko\">\\r\\n<head>\\r\\n<s...  \n",
       "4  <html xml:lang=\"ko\" lang=\"ko\">\\r\\n<head>\\r\\n<s...  "
      ]
     },
     "execution_count": 113,
     "metadata": {},
     "output_type": "execute_result"
    }
   ],
   "source": [
    "# 등록일 형태가 잘 변환되었는지 확인한다.\n",
    "df_질문2.head()"
   ]
  },
  {
   "cell_type": "code",
   "execution_count": null,
   "metadata": {},
   "outputs": [],
   "source": [
    "df_질문2['내용2'].str[:5].value_counts()"
   ]
  },
  {
   "cell_type": "code",
   "execution_count": null,
   "metadata": {},
   "outputs": [],
   "source": [
    "# 새로운 '내용_body' 컬럼 생성\n",
    "def extract_body(content):\n",
    "    if str(content).startswith('<html'):\n",
    "        soup = BeautifulSoup(content, 'html.parser')\n",
    "        body = soup.body\n",
    "        return str(body) if body else ''\n",
    "    else:\n",
    "        return content\n",
    "\n",
    "# '내용_body' 컬럼에 적용\n",
    "df_질문2['내용_body'] = df_질문2['내용2'].apply(extract_body)\n",
    "\n",
    "# '내용_body' 컬럼에서 <body>로 시작하면 해당 부분을 제거\n",
    "df_질문2['내용_body'] = df_질문2['내용_body'].apply(\n",
    "    lambda x: x[6:] if x.startswith('<body>') else x\n",
    ")\n",
    "\n",
    "# '내용_body' 컬럼에서 </body>로 끝나면 해당 부분을 제거\n",
    "df_질문2['내용_body'] = df_질문2['내용_body'].apply(\n",
    "    lambda x: x[:-7] if x.endswith('</body>') else x\n",
    ")"
   ]
  },
  {
   "cell_type": "code",
   "execution_count": 116,
   "metadata": {},
   "outputs": [],
   "source": [
    "# '등록일' 컬럼을 기준으로 오름차순 정렬\n",
    "df_질문2 = df_질문2.sort_values(by='등록일', ascending=True)"
   ]
  },
  {
   "cell_type": "code",
   "execution_count": 117,
   "metadata": {},
   "outputs": [
    {
     "data": {
      "text/plain": [
       "Index(['분야', '질문명', '등록일', '등록자', '첨부', '답변수', '조회수', '내용2', '내용_body'], dtype='object')"
      ]
     },
     "execution_count": 117,
     "metadata": {},
     "output_type": "execute_result"
    }
   ],
   "source": [
    "df_질문2.columns"
   ]
  },
  {
   "cell_type": "code",
   "execution_count": 118,
   "metadata": {},
   "outputs": [],
   "source": [
    "# 연번 컬럼을 추가하고, 322000 부터 1씩 증가하는 값을 입력한다.\n",
    "df_질문2['연번'] = range(322000, 322000 + len(df_질문2))\n"
   ]
  },
  {
   "cell_type": "code",
   "execution_count": 119,
   "metadata": {},
   "outputs": [
    {
     "data": {
      "text/html": [
       "<div>\n",
       "<style scoped>\n",
       "    .dataframe tbody tr th:only-of-type {\n",
       "        vertical-align: middle;\n",
       "    }\n",
       "\n",
       "    .dataframe tbody tr th {\n",
       "        vertical-align: top;\n",
       "    }\n",
       "\n",
       "    .dataframe thead th {\n",
       "        text-align: right;\n",
       "    }\n",
       "</style>\n",
       "<table border=\"1\" class=\"dataframe\">\n",
       "  <thead>\n",
       "    <tr style=\"text-align: right;\">\n",
       "      <th></th>\n",
       "      <th>분야</th>\n",
       "      <th>질문명</th>\n",
       "      <th>등록일</th>\n",
       "      <th>등록자</th>\n",
       "      <th>첨부</th>\n",
       "      <th>답변수</th>\n",
       "      <th>조회수</th>\n",
       "      <th>내용2</th>\n",
       "      <th>내용_body</th>\n",
       "      <th>연번</th>\n",
       "    </tr>\n",
       "  </thead>\n",
       "  <tbody>\n",
       "    <tr>\n",
       "      <th>4762</th>\n",
       "      <td>노동</td>\n",
       "      <td>일용직 주휴수당지급관련 답변을 구합니다.</td>\n",
       "      <td>20090313152554</td>\n",
       "      <td>관리자</td>\n",
       "      <td>NaN</td>\n",
       "      <td>1</td>\n",
       "      <td>346</td>\n",
       "      <td>&lt;p&gt;일용직 주휴수당지급관련 답변을 구합니다.&lt;/p&gt;\\r\\n</td>\n",
       "      <td>&lt;p&gt;일용직 주휴수당지급관련 답변을 구합니다.&lt;/p&gt;\\r\\n</td>\n",
       "      <td>322000</td>\n",
       "    </tr>\n",
       "    <tr>\n",
       "      <th>4761</th>\n",
       "      <td>노동</td>\n",
       "      <td>차별시정제도에 대한 안내서 요청드립니다.</td>\n",
       "      <td>20090313152554</td>\n",
       "      <td>관리자</td>\n",
       "      <td>NaN</td>\n",
       "      <td>1</td>\n",
       "      <td>98</td>\n",
       "      <td>&lt;p&gt;비정규직에 대한 차별처우 금지영역, 합리적 차별 내용, 차별시정절차 등 차별시...</td>\n",
       "      <td>&lt;p&gt;비정규직에 대한 차별처우 금지영역, 합리적 차별 내용, 차별시정절차 등 차별시...</td>\n",
       "      <td>322001</td>\n",
       "    </tr>\n",
       "    <tr>\n",
       "      <th>4760</th>\n",
       "      <td>노동</td>\n",
       "      <td>근로자성 판단기준을 알고 싶습니다</td>\n",
       "      <td>20090313152554</td>\n",
       "      <td>관리자</td>\n",
       "      <td>NaN</td>\n",
       "      <td>1</td>\n",
       "      <td>298</td>\n",
       "      <td>&lt;p&gt;회사에서&amp;nbsp;근무하는 근로자가 근로자인지 아닌지 판단할 수 있는 기준을 ...</td>\n",
       "      <td>&lt;p&gt;회사에서&amp;nbsp;근무하는 근로자가 근로자인지 아닌지 판단할 수 있는 기준을 ...</td>\n",
       "      <td>322002</td>\n",
       "    </tr>\n",
       "    <tr>\n",
       "      <th>4759</th>\n",
       "      <td>노동</td>\n",
       "      <td>해고성립, 해고예고수당과 부당해고</td>\n",
       "      <td>20090313152554</td>\n",
       "      <td>김광실</td>\n",
       "      <td>NaN</td>\n",
       "      <td>2</td>\n",
       "      <td>249</td>\n",
       "      <td>&lt;p&gt;좋은 공간이 생겼네요. &lt;/p&gt;\\r\\n&lt;p&gt;평소에 궁금하던 것들에 대해&amp;nbs...</td>\n",
       "      <td>&lt;p&gt;좋은 공간이 생겼네요. &lt;/p&gt;\\r\\n&lt;p&gt;평소에 궁금하던 것들에 대해&amp;nbs...</td>\n",
       "      <td>322003</td>\n",
       "    </tr>\n",
       "    <tr>\n",
       "      <th>4758</th>\n",
       "      <td>노동</td>\n",
       "      <td>임금일할계산방법, 연차와 평균임금</td>\n",
       "      <td>20090313152554</td>\n",
       "      <td>김광실</td>\n",
       "      <td>NaN</td>\n",
       "      <td>2</td>\n",
       "      <td>335</td>\n",
       "      <td>&lt;p&gt;또 생각나는게 있어서 올립니다.&lt;/p&gt;\\r\\n&lt;p&gt;어떻게 생각하면 간단한 것 ...</td>\n",
       "      <td>&lt;p&gt;또 생각나는게 있어서 올립니다.&lt;/p&gt;\\r\\n&lt;p&gt;어떻게 생각하면 간단한 것 ...</td>\n",
       "      <td>322004</td>\n",
       "    </tr>\n",
       "  </tbody>\n",
       "</table>\n",
       "</div>"
      ],
      "text/plain": [
       "      분야                     질문명             등록일  등록자   첨부  답변수  조회수  \\\n",
       "4762  노동  일용직 주휴수당지급관련 답변을 구합니다.  20090313152554  관리자  NaN    1  346   \n",
       "4761  노동  차별시정제도에 대한 안내서 요청드립니다.  20090313152554  관리자  NaN    1   98   \n",
       "4760  노동      근로자성 판단기준을 알고 싶습니다  20090313152554  관리자  NaN    1  298   \n",
       "4759  노동      해고성립, 해고예고수당과 부당해고  20090313152554  김광실  NaN    2  249   \n",
       "4758  노동      임금일할계산방법, 연차와 평균임금  20090313152554  김광실  NaN    2  335   \n",
       "\n",
       "                                                    내용2  \\\n",
       "4762                  <p>일용직 주휴수당지급관련 답변을 구합니다.</p>\\r\\n   \n",
       "4761  <p>비정규직에 대한 차별처우 금지영역, 합리적 차별 내용, 차별시정절차 등 차별시...   \n",
       "4760  <p>회사에서&nbsp;근무하는 근로자가 근로자인지 아닌지 판단할 수 있는 기준을 ...   \n",
       "4759  <p>좋은 공간이 생겼네요. </p>\\r\\n<p>평소에 궁금하던 것들에 대해&nbs...   \n",
       "4758  <p>또 생각나는게 있어서 올립니다.</p>\\r\\n<p>어떻게 생각하면 간단한 것 ...   \n",
       "\n",
       "                                                내용_body      연번  \n",
       "4762                  <p>일용직 주휴수당지급관련 답변을 구합니다.</p>\\r\\n  322000  \n",
       "4761  <p>비정규직에 대한 차별처우 금지영역, 합리적 차별 내용, 차별시정절차 등 차별시...  322001  \n",
       "4760  <p>회사에서&nbsp;근무하는 근로자가 근로자인지 아닌지 판단할 수 있는 기준을 ...  322002  \n",
       "4759  <p>좋은 공간이 생겼네요. </p>\\r\\n<p>평소에 궁금하던 것들에 대해&nbs...  322003  \n",
       "4758  <p>또 생각나는게 있어서 올립니다.</p>\\r\\n<p>어떻게 생각하면 간단한 것 ...  322004  "
      ]
     },
     "execution_count": 119,
     "metadata": {},
     "output_type": "execute_result"
    }
   ],
   "source": [
    "df_질문2.head()"
   ]
  },
  {
   "cell_type": "code",
   "execution_count": 120,
   "metadata": {},
   "outputs": [],
   "source": [
    "# 컬럼 순서를 바꾸고 필요없는 컬럼은 버린다\n",
    "df_질문2 = df_질문2[['연번','분야', '질문명','내용_body', '등록자', '등록일']]\n",
    "\n",
    "# 컬럼 이름을 바꾼다\n",
    "df_질문2 = df_질문2.rename(columns={'내용_body':'질문내용'})"
   ]
  },
  {
   "cell_type": "code",
   "execution_count": 121,
   "metadata": {},
   "outputs": [
    {
     "data": {
      "text/html": [
       "<div>\n",
       "<style scoped>\n",
       "    .dataframe tbody tr th:only-of-type {\n",
       "        vertical-align: middle;\n",
       "    }\n",
       "\n",
       "    .dataframe tbody tr th {\n",
       "        vertical-align: top;\n",
       "    }\n",
       "\n",
       "    .dataframe thead th {\n",
       "        text-align: right;\n",
       "    }\n",
       "</style>\n",
       "<table border=\"1\" class=\"dataframe\">\n",
       "  <thead>\n",
       "    <tr style=\"text-align: right;\">\n",
       "      <th></th>\n",
       "      <th>연번</th>\n",
       "      <th>분야</th>\n",
       "      <th>질문명</th>\n",
       "      <th>질문내용</th>\n",
       "      <th>등록자</th>\n",
       "      <th>등록일</th>\n",
       "    </tr>\n",
       "  </thead>\n",
       "  <tbody>\n",
       "    <tr>\n",
       "      <th>4762</th>\n",
       "      <td>322000</td>\n",
       "      <td>노동</td>\n",
       "      <td>일용직 주휴수당지급관련 답변을 구합니다.</td>\n",
       "      <td>&lt;p&gt;일용직 주휴수당지급관련 답변을 구합니다.&lt;/p&gt;\\r\\n</td>\n",
       "      <td>관리자</td>\n",
       "      <td>20090313152554</td>\n",
       "    </tr>\n",
       "    <tr>\n",
       "      <th>4761</th>\n",
       "      <td>322001</td>\n",
       "      <td>노동</td>\n",
       "      <td>차별시정제도에 대한 안내서 요청드립니다.</td>\n",
       "      <td>&lt;p&gt;비정규직에 대한 차별처우 금지영역, 합리적 차별 내용, 차별시정절차 등 차별시...</td>\n",
       "      <td>관리자</td>\n",
       "      <td>20090313152554</td>\n",
       "    </tr>\n",
       "    <tr>\n",
       "      <th>4760</th>\n",
       "      <td>322002</td>\n",
       "      <td>노동</td>\n",
       "      <td>근로자성 판단기준을 알고 싶습니다</td>\n",
       "      <td>&lt;p&gt;회사에서&amp;nbsp;근무하는 근로자가 근로자인지 아닌지 판단할 수 있는 기준을 ...</td>\n",
       "      <td>관리자</td>\n",
       "      <td>20090313152554</td>\n",
       "    </tr>\n",
       "    <tr>\n",
       "      <th>4759</th>\n",
       "      <td>322003</td>\n",
       "      <td>노동</td>\n",
       "      <td>해고성립, 해고예고수당과 부당해고</td>\n",
       "      <td>&lt;p&gt;좋은 공간이 생겼네요. &lt;/p&gt;\\r\\n&lt;p&gt;평소에 궁금하던 것들에 대해&amp;nbs...</td>\n",
       "      <td>김광실</td>\n",
       "      <td>20090313152554</td>\n",
       "    </tr>\n",
       "    <tr>\n",
       "      <th>4758</th>\n",
       "      <td>322004</td>\n",
       "      <td>노동</td>\n",
       "      <td>임금일할계산방법, 연차와 평균임금</td>\n",
       "      <td>&lt;p&gt;또 생각나는게 있어서 올립니다.&lt;/p&gt;\\r\\n&lt;p&gt;어떻게 생각하면 간단한 것 ...</td>\n",
       "      <td>김광실</td>\n",
       "      <td>20090313152554</td>\n",
       "    </tr>\n",
       "  </tbody>\n",
       "</table>\n",
       "</div>"
      ],
      "text/plain": [
       "          연번  분야                     질문명  \\\n",
       "4762  322000  노동  일용직 주휴수당지급관련 답변을 구합니다.   \n",
       "4761  322001  노동  차별시정제도에 대한 안내서 요청드립니다.   \n",
       "4760  322002  노동      근로자성 판단기준을 알고 싶습니다   \n",
       "4759  322003  노동      해고성립, 해고예고수당과 부당해고   \n",
       "4758  322004  노동      임금일할계산방법, 연차와 평균임금   \n",
       "\n",
       "                                                   질문내용  등록자             등록일  \n",
       "4762                  <p>일용직 주휴수당지급관련 답변을 구합니다.</p>\\r\\n  관리자  20090313152554  \n",
       "4761  <p>비정규직에 대한 차별처우 금지영역, 합리적 차별 내용, 차별시정절차 등 차별시...  관리자  20090313152554  \n",
       "4760  <p>회사에서&nbsp;근무하는 근로자가 근로자인지 아닌지 판단할 수 있는 기준을 ...  관리자  20090313152554  \n",
       "4759  <p>좋은 공간이 생겼네요. </p>\\r\\n<p>평소에 궁금하던 것들에 대해&nbs...  김광실  20090313152554  \n",
       "4758  <p>또 생각나는게 있어서 올립니다.</p>\\r\\n<p>어떻게 생각하면 간단한 것 ...  김광실  20090313152554  "
      ]
     },
     "execution_count": 121,
     "metadata": {},
     "output_type": "execute_result"
    }
   ],
   "source": [
    "df_질문2.head()"
   ]
  },
  {
   "cell_type": "code",
   "execution_count": 392,
   "metadata": {},
   "outputs": [],
   "source": [
    "# 통합_질문.csv 파일로 내보낸다.\n",
    "df_질문2.to_csv(\"통합_질문.csv\", encoding='utf-8', index=False)"
   ]
  },
  {
   "cell_type": "code",
   "execution_count": 359,
   "metadata": {},
   "outputs": [],
   "source": [
    "# 답변 파일 읽기\n",
    "df_감독답변 = pd.read_csv(\"감독_등록된 답변2.csv\", encoding=\"cp949\")\n",
    "df_고용답변 = pd.read_csv(\"고용_등록된 답변2.csv\", encoding=\"cp949\")\n",
    "df_공통답변 = pd.read_csv(\"공통_등록된 답변2.csv\", encoding=\"cp949\")\n",
    "df_노사답변 = pd.read_csv(\"노사_등록된 답변2.csv\", encoding=\"cp949\")\n",
    "df_산안답변 = pd.read_csv(\"산안_등록된 답변2.csv\", encoding=\"cp949\")\n"
   ]
  },
  {
   "cell_type": "code",
   "execution_count": 360,
   "metadata": {},
   "outputs": [],
   "source": [
    "df_감독답변['분야']='노동'\n",
    "df_고용답변['분야']='고용'\n",
    "df_공통답변['분야']='기타'\n",
    "df_노사답변['분야']='노동'\n",
    "df_산안답변['분야']='산안'"
   ]
  },
  {
   "cell_type": "code",
   "execution_count": 361,
   "metadata": {},
   "outputs": [],
   "source": [
    "# 분야별 답변을 하나로 합친다\n",
    "df_답변 = pd.concat([df_감독답변, df_고용답변, df_공통답변, df_노사답변, df_산안답변], ignore_index=True)"
   ]
  },
  {
   "cell_type": "code",
   "execution_count": 362,
   "metadata": {},
   "outputs": [],
   "source": [
    "# 등록일과 답변등록일 형태를 14자리 문자열로 변환한다.\n",
    "df_답변['등록일'] = pd.to_datetime(df_답변['등록일']).dt.strftime('%Y%m%d%H%M%S')\n",
    "df_답변['답변등록일'] = pd.to_datetime(df_답변['답변등록일']).dt.strftime('%Y%m%d%H%M%S')"
   ]
  },
  {
   "cell_type": "code",
   "execution_count": 363,
   "metadata": {},
   "outputs": [],
   "source": [
    "# 답변제목과 답변내용을 합쳐서 답변 컬럼을 생성한다.\n",
    "df_답변['답변'] = df_답변['답변제목'] + '\\n' + df_답변['답변내용']"
   ]
  },
  {
   "cell_type": "code",
   "execution_count": 364,
   "metadata": {},
   "outputs": [],
   "source": [
    "df_답변 = df_답변[['분야', '질문명', '등록일', '답변등록일', '답변등록자', '답변']]"
   ]
  },
  {
   "cell_type": "code",
   "execution_count": 365,
   "metadata": {},
   "outputs": [],
   "source": [
    "# '답변등록일' 컬럼이 NaN인 행 삭제\n",
    "df_답변 = df_답변.dropna(subset=['답변등록일'])\n",
    "df_답변 = df_답변.dropna(subset=['답변등록자'])\n",
    "df_답변 = df_답변.dropna(subset=['답변'])"
   ]
  },
  {
   "cell_type": "code",
   "execution_count": 366,
   "metadata": {},
   "outputs": [
    {
     "data": {
      "text/html": [
       "<div>\n",
       "<style scoped>\n",
       "    .dataframe tbody tr th:only-of-type {\n",
       "        vertical-align: middle;\n",
       "    }\n",
       "\n",
       "    .dataframe tbody tr th {\n",
       "        vertical-align: top;\n",
       "    }\n",
       "\n",
       "    .dataframe thead th {\n",
       "        text-align: right;\n",
       "    }\n",
       "</style>\n",
       "<table border=\"1\" class=\"dataframe\">\n",
       "  <thead>\n",
       "    <tr style=\"text-align: right;\">\n",
       "      <th></th>\n",
       "      <th>분야</th>\n",
       "      <th>질문명</th>\n",
       "      <th>등록일</th>\n",
       "      <th>답변등록일</th>\n",
       "      <th>답변등록자</th>\n",
       "      <th>답변</th>\n",
       "    </tr>\n",
       "  </thead>\n",
       "  <tbody>\n",
       "  </tbody>\n",
       "</table>\n",
       "</div>"
      ],
      "text/plain": [
       "Empty DataFrame\n",
       "Columns: [분야, 질문명, 등록일, 답변등록일, 답변등록자, 답변]\n",
       "Index: []"
      ]
     },
     "execution_count": 366,
     "metadata": {},
     "output_type": "execute_result"
    }
   ],
   "source": [
    "df_답변[df_답변['답변등록일'].isna()]"
   ]
  },
  {
   "cell_type": "code",
   "execution_count": 331,
   "metadata": {},
   "outputs": [
    {
     "data": {
      "text/html": [
       "<div>\n",
       "<style scoped>\n",
       "    .dataframe tbody tr th:only-of-type {\n",
       "        vertical-align: middle;\n",
       "    }\n",
       "\n",
       "    .dataframe tbody tr th {\n",
       "        vertical-align: top;\n",
       "    }\n",
       "\n",
       "    .dataframe thead th {\n",
       "        text-align: right;\n",
       "    }\n",
       "</style>\n",
       "<table border=\"1\" class=\"dataframe\">\n",
       "  <thead>\n",
       "    <tr style=\"text-align: right;\">\n",
       "      <th></th>\n",
       "      <th>분야</th>\n",
       "      <th>질문명</th>\n",
       "      <th>등록일</th>\n",
       "      <th>답변등록일</th>\n",
       "      <th>답변등록자</th>\n",
       "      <th>답변</th>\n",
       "    </tr>\n",
       "  </thead>\n",
       "  <tbody>\n",
       "    <tr>\n",
       "      <th>0</th>\n",
       "      <td>노동</td>\n",
       "      <td>근로자성 판단기준을 알고 싶습니다</td>\n",
       "      <td>20090313152554</td>\n",
       "      <td>20231027153039</td>\n",
       "      <td>김덕환</td>\n",
       "      <td>붙임 근로자성 판단기준 자료를 참고하여 주십시요.\\n붙임 근로자성 판단기준 자료를 ...</td>\n",
       "    </tr>\n",
       "    <tr>\n",
       "      <th>1</th>\n",
       "      <td>노동</td>\n",
       "      <td>인적사항을 알 수 없는 퇴직자에 대한 금품지급 시정지시의 처리방법</td>\n",
       "      <td>20090313152554</td>\n",
       "      <td>20090311154916</td>\n",
       "      <td>김호병</td>\n",
       "      <td>[답변] 인적사항을 알 수 없는 퇴직자에 대한 금품지급 시정지시의 처리방법\\n사안...</td>\n",
       "    </tr>\n",
       "    <tr>\n",
       "      <th>2</th>\n",
       "      <td>노동</td>\n",
       "      <td>해고성립, 해고예고수당과 부당해고</td>\n",
       "      <td>20090313152554</td>\n",
       "      <td>20090311153429</td>\n",
       "      <td>김성호</td>\n",
       "      <td>[답변] 해고성립, 해고예고수당과 부당해고\\n이번에도 앞서 답변하신 분과 다른 의견...</td>\n",
       "    </tr>\n",
       "    <tr>\n",
       "      <th>3</th>\n",
       "      <td>노동</td>\n",
       "      <td>임금일할계산방법, 연차와 평균임금</td>\n",
       "      <td>20090313152554</td>\n",
       "      <td>20090310182444</td>\n",
       "      <td>김성호</td>\n",
       "      <td>[답변] 임금일할계산방법, 연차와 평균임금\\n참 어려운 문제입니다. 앞서 답변하신 ...</td>\n",
       "    </tr>\n",
       "    <tr>\n",
       "      <th>4</th>\n",
       "      <td>노동</td>\n",
       "      <td>연차수당계산</td>\n",
       "      <td>20090313152554</td>\n",
       "      <td>20090310143729</td>\n",
       "      <td>김성호</td>\n",
       "      <td>[답변] 연차수당계산\\n최근에 입사한 직원분들은 '03년 근로기준법 개정사항에 대하...</td>\n",
       "    </tr>\n",
       "  </tbody>\n",
       "</table>\n",
       "</div>"
      ],
      "text/plain": [
       "   분야                                   질문명             등록일           답변등록일  \\\n",
       "0  노동                    근로자성 판단기준을 알고 싶습니다  20090313152554  20231027153039   \n",
       "1  노동  인적사항을 알 수 없는 퇴직자에 대한 금품지급 시정지시의 처리방법  20090313152554  20090311154916   \n",
       "2  노동                    해고성립, 해고예고수당과 부당해고  20090313152554  20090311153429   \n",
       "3  노동                    임금일할계산방법, 연차와 평균임금  20090313152554  20090310182444   \n",
       "4  노동                                연차수당계산  20090313152554  20090310143729   \n",
       "\n",
       "  답변등록자                                                 답변  \n",
       "0   김덕환  붙임 근로자성 판단기준 자료를 참고하여 주십시요.\\n붙임 근로자성 판단기준 자료를 ...  \n",
       "1   김호병   [답변] 인적사항을 알 수 없는 퇴직자에 대한 금품지급 시정지시의 처리방법\\n사안...  \n",
       "2   김성호  [답변] 해고성립, 해고예고수당과 부당해고\\n이번에도 앞서 답변하신 분과 다른 의견...  \n",
       "3   김성호  [답변] 임금일할계산방법, 연차와 평균임금\\n참 어려운 문제입니다. 앞서 답변하신 ...  \n",
       "4   김성호  [답변] 연차수당계산\\n최근에 입사한 직원분들은 '03년 근로기준법 개정사항에 대하...  "
      ]
     },
     "execution_count": 331,
     "metadata": {},
     "output_type": "execute_result"
    }
   ],
   "source": [
    "df_답변.head()"
   ]
  },
  {
   "cell_type": "code",
   "execution_count": 367,
   "metadata": {},
   "outputs": [],
   "source": [
    "# 답변댓글 파일 읽기\n",
    "df_감독댓글 = pd.read_csv(\"감독_등록된 답변에 달린 댓글2.csv\", encoding=\"cp949\")\n",
    "df_고용댓글 = pd.read_csv(\"고용_등록된 답변에 달린 댓글2.csv\", encoding=\"cp949\")\n",
    "df_공통댓글 = pd.read_csv(\"공통_등록된 답변에 달린 댓글2.csv\", encoding=\"cp949\")\n",
    "df_노사댓글 = pd.read_csv(\"노사_등록된 답변에 달린 댓글2.csv\", encoding=\"cp949\")\n",
    "df_산안댓글 = pd.read_csv(\"산안_등록된 답변에 달린 댓글2.csv\", encoding=\"cp949\")"
   ]
  },
  {
   "cell_type": "code",
   "execution_count": 368,
   "metadata": {},
   "outputs": [],
   "source": [
    "df_감독댓글['분야']='노동'\n",
    "df_고용댓글['분야']='고용'\n",
    "df_공통댓글['분야']='기타'\n",
    "df_노사댓글['분야']='노동'\n",
    "df_산안댓글['분야']='산안'"
   ]
  },
  {
   "cell_type": "code",
   "execution_count": 369,
   "metadata": {},
   "outputs": [],
   "source": [
    "# 분야별 답변을 하나로 합친다\n",
    "df_댓글 = pd.concat([df_감독댓글, df_고용댓글, df_공통댓글, df_노사댓글, df_산안댓글], ignore_index=True)"
   ]
  },
  {
   "cell_type": "code",
   "execution_count": 174,
   "metadata": {},
   "outputs": [
    {
     "data": {
      "text/html": [
       "<div>\n",
       "<style scoped>\n",
       "    .dataframe tbody tr th:only-of-type {\n",
       "        vertical-align: middle;\n",
       "    }\n",
       "\n",
       "    .dataframe tbody tr th {\n",
       "        vertical-align: top;\n",
       "    }\n",
       "\n",
       "    .dataframe thead th {\n",
       "        text-align: right;\n",
       "    }\n",
       "</style>\n",
       "<table border=\"1\" class=\"dataframe\">\n",
       "  <thead>\n",
       "    <tr style=\"text-align: right;\">\n",
       "      <th></th>\n",
       "      <th>분야</th>\n",
       "      <th>질문명</th>\n",
       "      <th>등록일</th>\n",
       "      <th>답변제목</th>\n",
       "      <th>답변등록일</th>\n",
       "      <th>댓글등록일</th>\n",
       "      <th>댓글등록자</th>\n",
       "      <th>댓글내용</th>\n",
       "    </tr>\n",
       "  </thead>\n",
       "  <tbody>\n",
       "    <tr>\n",
       "      <th>0</th>\n",
       "      <td>노동</td>\n",
       "      <td>일용직 주휴수당지급관련 답변을 구합니다.</td>\n",
       "      <td>2009-03-13 15:25:54.0</td>\n",
       "      <td>[답변] 일용직 주휴수당지급관련 답변을 구합니다.</td>\n",
       "      <td>2009-02-26 10:54:18.0</td>\n",
       "      <td>NaN</td>\n",
       "      <td>NaN</td>\n",
       "      <td>NaN</td>\n",
       "    </tr>\n",
       "    <tr>\n",
       "      <th>1</th>\n",
       "      <td>노동</td>\n",
       "      <td>차별시정제도에 대한 안내서 요청드립니다.</td>\n",
       "      <td>2009-03-13 15:25:54.0</td>\n",
       "      <td>[답변] 차별시정제도에 대한 안내서 요청드립니다.</td>\n",
       "      <td>2009-02-26 17:30:17.0</td>\n",
       "      <td>NaN</td>\n",
       "      <td>NaN</td>\n",
       "      <td>NaN</td>\n",
       "    </tr>\n",
       "    <tr>\n",
       "      <th>2</th>\n",
       "      <td>노동</td>\n",
       "      <td>해고성립, 해고예고수당과 부당해고</td>\n",
       "      <td>2009-03-13 15:25:54.0</td>\n",
       "      <td>[답변] 해고성립, 해고예고수당과 부당해고</td>\n",
       "      <td>2009-02-27 17:27:13.0</td>\n",
       "      <td>NaN</td>\n",
       "      <td>NaN</td>\n",
       "      <td>NaN</td>\n",
       "    </tr>\n",
       "    <tr>\n",
       "      <th>3</th>\n",
       "      <td>노동</td>\n",
       "      <td>임금일할계산방법, 연차와 평균임금</td>\n",
       "      <td>2009-03-13 15:25:54.0</td>\n",
       "      <td>[답변] 임금일할계산방법, 연차와 평균임금</td>\n",
       "      <td>2009-02-27 17:54:16.0</td>\n",
       "      <td>NaN</td>\n",
       "      <td>NaN</td>\n",
       "      <td>NaN</td>\n",
       "    </tr>\n",
       "    <tr>\n",
       "      <th>4</th>\n",
       "      <td>노동</td>\n",
       "      <td>연차수당계산</td>\n",
       "      <td>2009-03-13 15:25:54.0</td>\n",
       "      <td>[답변] 연차수당계산</td>\n",
       "      <td>2009-03-10 14:37:29.0</td>\n",
       "      <td>2022-12-26 17:49:33.0</td>\n",
       "      <td>NaN</td>\n",
       "      <td>\\r\\n</td>\n",
       "    </tr>\n",
       "  </tbody>\n",
       "</table>\n",
       "</div>"
      ],
      "text/plain": [
       "   분야                     질문명                    등록일  \\\n",
       "0  노동  일용직 주휴수당지급관련 답변을 구합니다.  2009-03-13 15:25:54.0   \n",
       "1  노동  차별시정제도에 대한 안내서 요청드립니다.  2009-03-13 15:25:54.0   \n",
       "2  노동      해고성립, 해고예고수당과 부당해고  2009-03-13 15:25:54.0   \n",
       "3  노동      임금일할계산방법, 연차와 평균임금  2009-03-13 15:25:54.0   \n",
       "4  노동                  연차수당계산  2009-03-13 15:25:54.0   \n",
       "\n",
       "                           답변제목                  답변등록일                  댓글등록일  \\\n",
       "0   [답변] 일용직 주휴수당지급관련 답변을 구합니다.  2009-02-26 10:54:18.0                    NaN   \n",
       "1   [답변] 차별시정제도에 대한 안내서 요청드립니다.  2009-02-26 17:30:17.0                    NaN   \n",
       "2       [답변] 해고성립, 해고예고수당과 부당해고  2009-02-27 17:27:13.0                    NaN   \n",
       "3       [답변] 임금일할계산방법, 연차와 평균임금  2009-02-27 17:54:16.0                    NaN   \n",
       "4                   [답변] 연차수당계산  2009-03-10 14:37:29.0  2022-12-26 17:49:33.0   \n",
       "\n",
       "   댓글등록자  댓글내용  \n",
       "0    NaN   NaN  \n",
       "1    NaN   NaN  \n",
       "2    NaN   NaN  \n",
       "3    NaN   NaN  \n",
       "4    NaN  \\r\\n  "
      ]
     },
     "execution_count": 174,
     "metadata": {},
     "output_type": "execute_result"
    }
   ],
   "source": [
    "df_댓글.head()"
   ]
  },
  {
   "cell_type": "code",
   "execution_count": 370,
   "metadata": {},
   "outputs": [],
   "source": [
    "# 등록일과 답변등록일, 댓글등록일 형태를 14자리 문자열로 변환한다.\n",
    "df_댓글['등록일'] = pd.to_datetime(df_댓글['등록일']).dt.strftime('%Y%m%d%H%M%S')\n",
    "df_댓글['답변등록일'] = pd.to_datetime(df_댓글['답변등록일']).dt.strftime('%Y%m%d%H%M%S')\n",
    "df_댓글['댓글등록일'] = pd.to_datetime(df_댓글['댓글등록일']).dt.strftime('%Y%m%d%H%M%S')"
   ]
  },
  {
   "cell_type": "code",
   "execution_count": 371,
   "metadata": {},
   "outputs": [],
   "source": [
    "# '댓글등록일' 컬럼이 NaN인 행 삭제\n",
    "df_댓글 = df_댓글.dropna(subset=['댓글등록일'])\n",
    "df_댓글 = df_댓글.dropna(subset=['댓글내용'])"
   ]
  },
  {
   "cell_type": "code",
   "execution_count": 372,
   "metadata": {},
   "outputs": [],
   "source": [
    "# 댓글내용이 3글자 이내면 삭제\n",
    "df_댓글 = df_댓글[df_댓글['댓글내용'].str.len() > 3]"
   ]
  },
  {
   "cell_type": "code",
   "execution_count": 373,
   "metadata": {},
   "outputs": [
    {
     "data": {
      "text/html": [
       "<div>\n",
       "<style scoped>\n",
       "    .dataframe tbody tr th:only-of-type {\n",
       "        vertical-align: middle;\n",
       "    }\n",
       "\n",
       "    .dataframe tbody tr th {\n",
       "        vertical-align: top;\n",
       "    }\n",
       "\n",
       "    .dataframe thead th {\n",
       "        text-align: right;\n",
       "    }\n",
       "</style>\n",
       "<table border=\"1\" class=\"dataframe\">\n",
       "  <thead>\n",
       "    <tr style=\"text-align: right;\">\n",
       "      <th></th>\n",
       "      <th>분야</th>\n",
       "      <th>질문명</th>\n",
       "      <th>등록일</th>\n",
       "      <th>답변등록일</th>\n",
       "      <th>답변등록자</th>\n",
       "      <th>답변</th>\n",
       "    </tr>\n",
       "  </thead>\n",
       "  <tbody>\n",
       "    <tr>\n",
       "      <th>0</th>\n",
       "      <td>노동</td>\n",
       "      <td>근로자성 판단기준을 알고 싶습니다</td>\n",
       "      <td>20090313152554</td>\n",
       "      <td>20231027153039</td>\n",
       "      <td>김덕환</td>\n",
       "      <td>붙임 근로자성 판단기준 자료를 참고하여 주십시요.\\n붙임 근로자성 판단기준 자료를 ...</td>\n",
       "    </tr>\n",
       "    <tr>\n",
       "      <th>1</th>\n",
       "      <td>노동</td>\n",
       "      <td>인적사항을 알 수 없는 퇴직자에 대한 금품지급 시정지시의 처리방법</td>\n",
       "      <td>20090313152554</td>\n",
       "      <td>20090311154916</td>\n",
       "      <td>김호병</td>\n",
       "      <td>[답변] 인적사항을 알 수 없는 퇴직자에 대한 금품지급 시정지시의 처리방법\\n사안...</td>\n",
       "    </tr>\n",
       "  </tbody>\n",
       "</table>\n",
       "</div>"
      ],
      "text/plain": [
       "   분야                                   질문명             등록일           답변등록일  \\\n",
       "0  노동                    근로자성 판단기준을 알고 싶습니다  20090313152554  20231027153039   \n",
       "1  노동  인적사항을 알 수 없는 퇴직자에 대한 금품지급 시정지시의 처리방법  20090313152554  20090311154916   \n",
       "\n",
       "  답변등록자                                                 답변  \n",
       "0   김덕환  붙임 근로자성 판단기준 자료를 참고하여 주십시요.\\n붙임 근로자성 판단기준 자료를 ...  \n",
       "1   김호병   [답변] 인적사항을 알 수 없는 퇴직자에 대한 금품지급 시정지시의 처리방법\\n사안...  "
      ]
     },
     "execution_count": 373,
     "metadata": {},
     "output_type": "execute_result"
    }
   ],
   "source": [
    "df_답변.head(2)"
   ]
  },
  {
   "cell_type": "code",
   "execution_count": 294,
   "metadata": {},
   "outputs": [
    {
     "data": {
      "text/html": [
       "<div>\n",
       "<style scoped>\n",
       "    .dataframe tbody tr th:only-of-type {\n",
       "        vertical-align: middle;\n",
       "    }\n",
       "\n",
       "    .dataframe tbody tr th {\n",
       "        vertical-align: top;\n",
       "    }\n",
       "\n",
       "    .dataframe thead th {\n",
       "        text-align: right;\n",
       "    }\n",
       "</style>\n",
       "<table border=\"1\" class=\"dataframe\">\n",
       "  <thead>\n",
       "    <tr style=\"text-align: right;\">\n",
       "      <th></th>\n",
       "      <th>분야</th>\n",
       "      <th>질문명</th>\n",
       "      <th>등록일</th>\n",
       "      <th>답변제목</th>\n",
       "      <th>답변등록일</th>\n",
       "      <th>댓글등록일</th>\n",
       "      <th>댓글등록자</th>\n",
       "      <th>댓글내용</th>\n",
       "      <th>답변</th>\n",
       "    </tr>\n",
       "  </thead>\n",
       "  <tbody>\n",
       "    <tr>\n",
       "      <th>1919</th>\n",
       "      <td>노동</td>\n",
       "      <td>근로기준법 적용 대상 사업 관련 질문드립니다</td>\n",
       "      <td>20201020144804</td>\n",
       "      <td>건설업자이므로 사업장이 맞다고 생각하는데,</td>\n",
       "      <td>20201021062332</td>\n",
       "      <td>20201021213733</td>\n",
       "      <td>NaN</td>\n",
       "      <td>그럼 급여도 정했을 것으로 보여지네요~\\r\\n사용자성만 문제되는 거라면,\\r\\n하갑...</td>\n",
       "      <td>건설업자이므로 사업장이 맞다고 생각하는데, -&gt; [댓글]그럼 급여도 정했을 것으로 ...</td>\n",
       "    </tr>\n",
       "    <tr>\n",
       "      <th>1920</th>\n",
       "      <td>노동</td>\n",
       "      <td>근로기준법 적용 대상 사업 관련 질문드립니다</td>\n",
       "      <td>20201020144804</td>\n",
       "      <td>건설업자이므로 사업장이 맞다고 생각하는데,</td>\n",
       "      <td>20201021062332</td>\n",
       "      <td>20201021103211</td>\n",
       "      <td>NaN</td>\n",
       "      <td>09:00~15:00 현장에 있으면서 현장 사진을 찍어 건설업자에게 보냈다고 합니다</td>\n",
       "      <td>건설업자이므로 사업장이 맞다고 생각하는데, -&gt; [댓글]09:00~15:00 현장에...</td>\n",
       "    </tr>\n",
       "  </tbody>\n",
       "</table>\n",
       "</div>"
      ],
      "text/plain": [
       "      분야                       질문명             등록일                     답변제목  \\\n",
       "1919  노동  근로기준법 적용 대상 사업 관련 질문드립니다  20201020144804  건설업자이므로 사업장이 맞다고 생각하는데,   \n",
       "1920  노동  근로기준법 적용 대상 사업 관련 질문드립니다  20201020144804  건설업자이므로 사업장이 맞다고 생각하는데,   \n",
       "\n",
       "               답변등록일           댓글등록일  댓글등록자  \\\n",
       "1919  20201021062332  20201021213733    NaN   \n",
       "1920  20201021062332  20201021103211    NaN   \n",
       "\n",
       "                                                   댓글내용  \\\n",
       "1919  그럼 급여도 정했을 것으로 보여지네요~\\r\\n사용자성만 문제되는 거라면,\\r\\n하갑...   \n",
       "1920     09:00~15:00 현장에 있으면서 현장 사진을 찍어 건설업자에게 보냈다고 합니다   \n",
       "\n",
       "                                                     답변  \n",
       "1919  건설업자이므로 사업장이 맞다고 생각하는데, -> [댓글]그럼 급여도 정했을 것으로 ...  \n",
       "1920  건설업자이므로 사업장이 맞다고 생각하는데, -> [댓글]09:00~15:00 현장에...  "
      ]
     },
     "execution_count": 294,
     "metadata": {},
     "output_type": "execute_result"
    }
   ],
   "source": [
    "df_댓글.head(2)"
   ]
  },
  {
   "cell_type": "code",
   "execution_count": 374,
   "metadata": {},
   "outputs": [],
   "source": [
    "# df_댓글을 df_답변 형태로 바꾼다\n",
    "df_댓글['답변'] = df_댓글['답변제목'] + ' -> [댓글]' + df_댓글['댓글내용']"
   ]
  },
  {
   "cell_type": "code",
   "execution_count": 375,
   "metadata": {},
   "outputs": [],
   "source": [
    "# df_질문2와 df_댓글을 '질문명'과 '등록일'을 기준으로 병합하여 '연번'만 가져오기\n",
    "df_댓글2 = df_댓글.merge(df_질문2[['질문명', '등록일', '연번']], on=['질문명', '등록일'], how='left')"
   ]
  },
  {
   "cell_type": "code",
   "execution_count": null,
   "metadata": {},
   "outputs": [],
   "source": [
    "df_댓글2['연번'].value_counts()"
   ]
  },
  {
   "cell_type": "code",
   "execution_count": 376,
   "metadata": {},
   "outputs": [],
   "source": [
    "# '연번' 그룹별로 '답변등록일' 기준으로 오름차순으로 순서 매기기\n",
    "df_댓글2['댓글순서'] = df_댓글2.groupby('연번')['댓글등록일'].rank(method='first', ascending=True)"
   ]
  },
  {
   "cell_type": "code",
   "execution_count": 377,
   "metadata": {},
   "outputs": [],
   "source": [
    "# NaN 인 값에는 0을 입력하고 int로 변환한다.\n",
    "df_댓글2['댓글순서'] = df_댓글2['댓글순서'].fillna(0).astype(int)"
   ]
  },
  {
   "cell_type": "code",
   "execution_count": 378,
   "metadata": {},
   "outputs": [],
   "source": [
    "# 댓글순서가 0 인 행은 삭제한다.\n",
    "df_댓글2 = df_댓글2[df_댓글2['댓글순서'] != 0]"
   ]
  },
  {
   "cell_type": "code",
   "execution_count": 301,
   "metadata": {},
   "outputs": [
    {
     "data": {
      "text/html": [
       "<div>\n",
       "<style scoped>\n",
       "    .dataframe tbody tr th:only-of-type {\n",
       "        vertical-align: middle;\n",
       "    }\n",
       "\n",
       "    .dataframe tbody tr th {\n",
       "        vertical-align: top;\n",
       "    }\n",
       "\n",
       "    .dataframe thead th {\n",
       "        text-align: right;\n",
       "    }\n",
       "</style>\n",
       "<table border=\"1\" class=\"dataframe\">\n",
       "  <thead>\n",
       "    <tr style=\"text-align: right;\">\n",
       "      <th></th>\n",
       "      <th>분야</th>\n",
       "      <th>질문명</th>\n",
       "      <th>등록일</th>\n",
       "      <th>답변제목</th>\n",
       "      <th>답변등록일</th>\n",
       "      <th>댓글등록일</th>\n",
       "      <th>댓글등록자</th>\n",
       "      <th>댓글내용</th>\n",
       "      <th>답변</th>\n",
       "      <th>연번</th>\n",
       "      <th>댓글순서</th>\n",
       "    </tr>\n",
       "  </thead>\n",
       "  <tbody>\n",
       "    <tr>\n",
       "      <th>0</th>\n",
       "      <td>노동</td>\n",
       "      <td>근로기준법 적용 대상 사업 관련 질문드립니다</td>\n",
       "      <td>20201020144804</td>\n",
       "      <td>건설업자이므로 사업장이 맞다고 생각하는데,</td>\n",
       "      <td>20201021062332</td>\n",
       "      <td>20201021213733</td>\n",
       "      <td>NaN</td>\n",
       "      <td>그럼 급여도 정했을 것으로 보여지네요~\\r\\n사용자성만 문제되는 거라면,\\r\\n하갑...</td>\n",
       "      <td>건설업자이므로 사업장이 맞다고 생각하는데, -&gt; [댓글]그럼 급여도 정했을 것으로 ...</td>\n",
       "      <td>324243</td>\n",
       "      <td>2</td>\n",
       "    </tr>\n",
       "    <tr>\n",
       "      <th>1</th>\n",
       "      <td>노동</td>\n",
       "      <td>근로기준법 적용 대상 사업 관련 질문드립니다</td>\n",
       "      <td>20201020144804</td>\n",
       "      <td>건설업자이므로 사업장이 맞다고 생각하는데,</td>\n",
       "      <td>20201021062332</td>\n",
       "      <td>20201021103211</td>\n",
       "      <td>NaN</td>\n",
       "      <td>09:00~15:00 현장에 있으면서 현장 사진을 찍어 건설업자에게 보냈다고 합니다</td>\n",
       "      <td>건설업자이므로 사업장이 맞다고 생각하는데, -&gt; [댓글]09:00~15:00 현장에...</td>\n",
       "      <td>324243</td>\n",
       "      <td>1</td>\n",
       "    </tr>\n",
       "    <tr>\n",
       "      <th>2</th>\n",
       "      <td>노동</td>\n",
       "      <td>교육공무직 근로자 방학기간 주휴수당 문의드립니다.</td>\n",
       "      <td>20201021085445</td>\n",
       "      <td>관련 행정해석입니다</td>\n",
       "      <td>20201021090642</td>\n",
       "      <td>20201021101747</td>\n",
       "      <td>NaN</td>\n",
       "      <td>각급 학교의 공무직은 무기계약 근로자로서 근로를 제공하여 왔고 또한 계속적인 근로제...</td>\n",
       "      <td>관련 행정해석입니다 -&gt; [댓글]각급 학교의 공무직은 무기계약 근로자로서 근로를 제...</td>\n",
       "      <td>324244</td>\n",
       "      <td>1</td>\n",
       "    </tr>\n",
       "    <tr>\n",
       "      <th>3</th>\n",
       "      <td>노동</td>\n",
       "      <td>해고예고 적용제외 대상의 판단기준 관련 문의</td>\n",
       "      <td>20201021154356</td>\n",
       "      <td>우선, 소중한 질문 감사드립니다~~^^</td>\n",
       "      <td>20201021230357</td>\n",
       "      <td>20201022093206</td>\n",
       "      <td>NaN</td>\n",
       "      <td>파일을 올릴 방법이 없어 따로 메일로 보내드렸습니다.</td>\n",
       "      <td>우선, 소중한 질문 감사드립니다~~^^ -&gt; [댓글]파일을 올릴 방법이 없어 따로 ...</td>\n",
       "      <td>324246</td>\n",
       "      <td>1</td>\n",
       "    </tr>\n",
       "    <tr>\n",
       "      <th>4</th>\n",
       "      <td>노동</td>\n",
       "      <td>포괄임금제 항목 안에 연차수당이 포함되어 있는 경우 일할계산 기준</td>\n",
       "      <td>20201023172016</td>\n",
       "      <td>포괄임금 포함 임금에, 연장 근로를 하지 않아도 지급하는 고정연장근로수당은</td>\n",
       "      <td>20201025211015</td>\n",
       "      <td>20201029170446</td>\n",
       "      <td>NaN</td>\n",
       "      <td>고정시간외근로수당, 주휴수당, 연차유급휴가미사용수당 등이 매월 고정적으로 지급된다면...</td>\n",
       "      <td>포괄임금 포함 임금에, 연장 근로를 하지 않아도 지급하는 고정연장근로수당은 -&gt; [...</td>\n",
       "      <td>324249</td>\n",
       "      <td>1</td>\n",
       "    </tr>\n",
       "  </tbody>\n",
       "</table>\n",
       "</div>"
      ],
      "text/plain": [
       "   분야                                   질문명             등록일  \\\n",
       "0  노동              근로기준법 적용 대상 사업 관련 질문드립니다  20201020144804   \n",
       "1  노동              근로기준법 적용 대상 사업 관련 질문드립니다  20201020144804   \n",
       "2  노동           교육공무직 근로자 방학기간 주휴수당 문의드립니다.  20201021085445   \n",
       "3  노동              해고예고 적용제외 대상의 판단기준 관련 문의  20201021154356   \n",
       "4  노동  포괄임금제 항목 안에 연차수당이 포함되어 있는 경우 일할계산 기준  20201023172016   \n",
       "\n",
       "                                        답변제목           답변등록일           댓글등록일  \\\n",
       "0                    건설업자이므로 사업장이 맞다고 생각하는데,  20201021062332  20201021213733   \n",
       "1                    건설업자이므로 사업장이 맞다고 생각하는데,  20201021062332  20201021103211   \n",
       "2                                 관련 행정해석입니다  20201021090642  20201021101747   \n",
       "3                      우선, 소중한 질문 감사드립니다~~^^  20201021230357  20201022093206   \n",
       "4  포괄임금 포함 임금에, 연장 근로를 하지 않아도 지급하는 고정연장근로수당은  20201025211015  20201029170446   \n",
       "\n",
       "   댓글등록자                                               댓글내용  \\\n",
       "0    NaN  그럼 급여도 정했을 것으로 보여지네요~\\r\\n사용자성만 문제되는 거라면,\\r\\n하갑...   \n",
       "1    NaN     09:00~15:00 현장에 있으면서 현장 사진을 찍어 건설업자에게 보냈다고 합니다   \n",
       "2    NaN  각급 학교의 공무직은 무기계약 근로자로서 근로를 제공하여 왔고 또한 계속적인 근로제...   \n",
       "3    NaN                      파일을 올릴 방법이 없어 따로 메일로 보내드렸습니다.   \n",
       "4    NaN  고정시간외근로수당, 주휴수당, 연차유급휴가미사용수당 등이 매월 고정적으로 지급된다면...   \n",
       "\n",
       "                                                  답변      연번  댓글순서  \n",
       "0  건설업자이므로 사업장이 맞다고 생각하는데, -> [댓글]그럼 급여도 정했을 것으로 ...  324243     2  \n",
       "1  건설업자이므로 사업장이 맞다고 생각하는데, -> [댓글]09:00~15:00 현장에...  324243     1  \n",
       "2  관련 행정해석입니다 -> [댓글]각급 학교의 공무직은 무기계약 근로자로서 근로를 제...  324244     1  \n",
       "3  우선, 소중한 질문 감사드립니다~~^^ -> [댓글]파일을 올릴 방법이 없어 따로 ...  324246     1  \n",
       "4  포괄임금 포함 임금에, 연장 근로를 하지 않아도 지급하는 고정연장근로수당은 -> [...  324249     1  "
      ]
     },
     "execution_count": 301,
     "metadata": {},
     "output_type": "execute_result"
    }
   ],
   "source": [
    "df_댓글2.head()"
   ]
  },
  {
   "cell_type": "code",
   "execution_count": 379,
   "metadata": {},
   "outputs": [],
   "source": [
    "df_댓글2['답변등록일2'] = (df_댓글2['답변등록일'].astype(int) + df_댓글2['댓글순서']).astype(str)"
   ]
  },
  {
   "cell_type": "code",
   "execution_count": 303,
   "metadata": {},
   "outputs": [
    {
     "data": {
      "text/html": [
       "<div>\n",
       "<style scoped>\n",
       "    .dataframe tbody tr th:only-of-type {\n",
       "        vertical-align: middle;\n",
       "    }\n",
       "\n",
       "    .dataframe tbody tr th {\n",
       "        vertical-align: top;\n",
       "    }\n",
       "\n",
       "    .dataframe thead th {\n",
       "        text-align: right;\n",
       "    }\n",
       "</style>\n",
       "<table border=\"1\" class=\"dataframe\">\n",
       "  <thead>\n",
       "    <tr style=\"text-align: right;\">\n",
       "      <th></th>\n",
       "      <th>분야</th>\n",
       "      <th>질문명</th>\n",
       "      <th>등록일</th>\n",
       "      <th>답변제목</th>\n",
       "      <th>답변등록일</th>\n",
       "      <th>댓글등록일</th>\n",
       "      <th>댓글등록자</th>\n",
       "      <th>댓글내용</th>\n",
       "      <th>답변</th>\n",
       "      <th>연번</th>\n",
       "      <th>댓글순서</th>\n",
       "      <th>답변등록일2</th>\n",
       "    </tr>\n",
       "  </thead>\n",
       "  <tbody>\n",
       "    <tr>\n",
       "      <th>0</th>\n",
       "      <td>노동</td>\n",
       "      <td>근로기준법 적용 대상 사업 관련 질문드립니다</td>\n",
       "      <td>20201020144804</td>\n",
       "      <td>건설업자이므로 사업장이 맞다고 생각하는데,</td>\n",
       "      <td>20201021062332</td>\n",
       "      <td>20201021213733</td>\n",
       "      <td>NaN</td>\n",
       "      <td>그럼 급여도 정했을 것으로 보여지네요~\\r\\n사용자성만 문제되는 거라면,\\r\\n하갑...</td>\n",
       "      <td>건설업자이므로 사업장이 맞다고 생각하는데, -&gt; [댓글]그럼 급여도 정했을 것으로 ...</td>\n",
       "      <td>324243</td>\n",
       "      <td>2</td>\n",
       "      <td>20201021062334</td>\n",
       "    </tr>\n",
       "    <tr>\n",
       "      <th>1</th>\n",
       "      <td>노동</td>\n",
       "      <td>근로기준법 적용 대상 사업 관련 질문드립니다</td>\n",
       "      <td>20201020144804</td>\n",
       "      <td>건설업자이므로 사업장이 맞다고 생각하는데,</td>\n",
       "      <td>20201021062332</td>\n",
       "      <td>20201021103211</td>\n",
       "      <td>NaN</td>\n",
       "      <td>09:00~15:00 현장에 있으면서 현장 사진을 찍어 건설업자에게 보냈다고 합니다</td>\n",
       "      <td>건설업자이므로 사업장이 맞다고 생각하는데, -&gt; [댓글]09:00~15:00 현장에...</td>\n",
       "      <td>324243</td>\n",
       "      <td>1</td>\n",
       "      <td>20201021062333</td>\n",
       "    </tr>\n",
       "    <tr>\n",
       "      <th>2</th>\n",
       "      <td>노동</td>\n",
       "      <td>교육공무직 근로자 방학기간 주휴수당 문의드립니다.</td>\n",
       "      <td>20201021085445</td>\n",
       "      <td>관련 행정해석입니다</td>\n",
       "      <td>20201021090642</td>\n",
       "      <td>20201021101747</td>\n",
       "      <td>NaN</td>\n",
       "      <td>각급 학교의 공무직은 무기계약 근로자로서 근로를 제공하여 왔고 또한 계속적인 근로제...</td>\n",
       "      <td>관련 행정해석입니다 -&gt; [댓글]각급 학교의 공무직은 무기계약 근로자로서 근로를 제...</td>\n",
       "      <td>324244</td>\n",
       "      <td>1</td>\n",
       "      <td>20201021090643</td>\n",
       "    </tr>\n",
       "    <tr>\n",
       "      <th>3</th>\n",
       "      <td>노동</td>\n",
       "      <td>해고예고 적용제외 대상의 판단기준 관련 문의</td>\n",
       "      <td>20201021154356</td>\n",
       "      <td>우선, 소중한 질문 감사드립니다~~^^</td>\n",
       "      <td>20201021230357</td>\n",
       "      <td>20201022093206</td>\n",
       "      <td>NaN</td>\n",
       "      <td>파일을 올릴 방법이 없어 따로 메일로 보내드렸습니다.</td>\n",
       "      <td>우선, 소중한 질문 감사드립니다~~^^ -&gt; [댓글]파일을 올릴 방법이 없어 따로 ...</td>\n",
       "      <td>324246</td>\n",
       "      <td>1</td>\n",
       "      <td>20201021230358</td>\n",
       "    </tr>\n",
       "    <tr>\n",
       "      <th>4</th>\n",
       "      <td>노동</td>\n",
       "      <td>포괄임금제 항목 안에 연차수당이 포함되어 있는 경우 일할계산 기준</td>\n",
       "      <td>20201023172016</td>\n",
       "      <td>포괄임금 포함 임금에, 연장 근로를 하지 않아도 지급하는 고정연장근로수당은</td>\n",
       "      <td>20201025211015</td>\n",
       "      <td>20201029170446</td>\n",
       "      <td>NaN</td>\n",
       "      <td>고정시간외근로수당, 주휴수당, 연차유급휴가미사용수당 등이 매월 고정적으로 지급된다면...</td>\n",
       "      <td>포괄임금 포함 임금에, 연장 근로를 하지 않아도 지급하는 고정연장근로수당은 -&gt; [...</td>\n",
       "      <td>324249</td>\n",
       "      <td>1</td>\n",
       "      <td>20201025211016</td>\n",
       "    </tr>\n",
       "  </tbody>\n",
       "</table>\n",
       "</div>"
      ],
      "text/plain": [
       "   분야                                   질문명             등록일  \\\n",
       "0  노동              근로기준법 적용 대상 사업 관련 질문드립니다  20201020144804   \n",
       "1  노동              근로기준법 적용 대상 사업 관련 질문드립니다  20201020144804   \n",
       "2  노동           교육공무직 근로자 방학기간 주휴수당 문의드립니다.  20201021085445   \n",
       "3  노동              해고예고 적용제외 대상의 판단기준 관련 문의  20201021154356   \n",
       "4  노동  포괄임금제 항목 안에 연차수당이 포함되어 있는 경우 일할계산 기준  20201023172016   \n",
       "\n",
       "                                        답변제목           답변등록일           댓글등록일  \\\n",
       "0                    건설업자이므로 사업장이 맞다고 생각하는데,  20201021062332  20201021213733   \n",
       "1                    건설업자이므로 사업장이 맞다고 생각하는데,  20201021062332  20201021103211   \n",
       "2                                 관련 행정해석입니다  20201021090642  20201021101747   \n",
       "3                      우선, 소중한 질문 감사드립니다~~^^  20201021230357  20201022093206   \n",
       "4  포괄임금 포함 임금에, 연장 근로를 하지 않아도 지급하는 고정연장근로수당은  20201025211015  20201029170446   \n",
       "\n",
       "   댓글등록자                                               댓글내용  \\\n",
       "0    NaN  그럼 급여도 정했을 것으로 보여지네요~\\r\\n사용자성만 문제되는 거라면,\\r\\n하갑...   \n",
       "1    NaN     09:00~15:00 현장에 있으면서 현장 사진을 찍어 건설업자에게 보냈다고 합니다   \n",
       "2    NaN  각급 학교의 공무직은 무기계약 근로자로서 근로를 제공하여 왔고 또한 계속적인 근로제...   \n",
       "3    NaN                      파일을 올릴 방법이 없어 따로 메일로 보내드렸습니다.   \n",
       "4    NaN  고정시간외근로수당, 주휴수당, 연차유급휴가미사용수당 등이 매월 고정적으로 지급된다면...   \n",
       "\n",
       "                                                  답변      연번  댓글순서  \\\n",
       "0  건설업자이므로 사업장이 맞다고 생각하는데, -> [댓글]그럼 급여도 정했을 것으로 ...  324243     2   \n",
       "1  건설업자이므로 사업장이 맞다고 생각하는데, -> [댓글]09:00~15:00 현장에...  324243     1   \n",
       "2  관련 행정해석입니다 -> [댓글]각급 학교의 공무직은 무기계약 근로자로서 근로를 제...  324244     1   \n",
       "3  우선, 소중한 질문 감사드립니다~~^^ -> [댓글]파일을 올릴 방법이 없어 따로 ...  324246     1   \n",
       "4  포괄임금 포함 임금에, 연장 근로를 하지 않아도 지급하는 고정연장근로수당은 -> [...  324249     1   \n",
       "\n",
       "           답변등록일2  \n",
       "0  20201021062334  \n",
       "1  20201021062333  \n",
       "2  20201021090643  \n",
       "3  20201021230358  \n",
       "4  20201025211016  "
      ]
     },
     "execution_count": 303,
     "metadata": {},
     "output_type": "execute_result"
    }
   ],
   "source": [
    "df_댓글2.head()"
   ]
  },
  {
   "cell_type": "code",
   "execution_count": 304,
   "metadata": {},
   "outputs": [
    {
     "data": {
      "text/html": [
       "<div>\n",
       "<style scoped>\n",
       "    .dataframe tbody tr th:only-of-type {\n",
       "        vertical-align: middle;\n",
       "    }\n",
       "\n",
       "    .dataframe tbody tr th {\n",
       "        vertical-align: top;\n",
       "    }\n",
       "\n",
       "    .dataframe thead th {\n",
       "        text-align: right;\n",
       "    }\n",
       "</style>\n",
       "<table border=\"1\" class=\"dataframe\">\n",
       "  <thead>\n",
       "    <tr style=\"text-align: right;\">\n",
       "      <th></th>\n",
       "      <th>분야</th>\n",
       "      <th>질문명</th>\n",
       "      <th>등록일</th>\n",
       "      <th>답변등록일</th>\n",
       "      <th>답변등록자</th>\n",
       "      <th>답변</th>\n",
       "    </tr>\n",
       "  </thead>\n",
       "  <tbody>\n",
       "    <tr>\n",
       "      <th>0</th>\n",
       "      <td>노동</td>\n",
       "      <td>근로자성 판단기준을 알고 싶습니다</td>\n",
       "      <td>20090313152554</td>\n",
       "      <td>20231027153039</td>\n",
       "      <td>김덕환</td>\n",
       "      <td>붙임 근로자성 판단기준 자료를 참고하여 주십시요.\\n붙임 근로자성 판단기준 자료를 ...</td>\n",
       "    </tr>\n",
       "    <tr>\n",
       "      <th>1</th>\n",
       "      <td>노동</td>\n",
       "      <td>인적사항을 알 수 없는 퇴직자에 대한 금품지급 시정지시의 처리방법</td>\n",
       "      <td>20090313152554</td>\n",
       "      <td>20090311154916</td>\n",
       "      <td>김호병</td>\n",
       "      <td>[답변] 인적사항을 알 수 없는 퇴직자에 대한 금품지급 시정지시의 처리방법\\n사안...</td>\n",
       "    </tr>\n",
       "    <tr>\n",
       "      <th>2</th>\n",
       "      <td>노동</td>\n",
       "      <td>해고성립, 해고예고수당과 부당해고</td>\n",
       "      <td>20090313152554</td>\n",
       "      <td>20090311153429</td>\n",
       "      <td>김성호</td>\n",
       "      <td>[답변] 해고성립, 해고예고수당과 부당해고\\n이번에도 앞서 답변하신 분과 다른 의견...</td>\n",
       "    </tr>\n",
       "    <tr>\n",
       "      <th>3</th>\n",
       "      <td>노동</td>\n",
       "      <td>임금일할계산방법, 연차와 평균임금</td>\n",
       "      <td>20090313152554</td>\n",
       "      <td>20090310182444</td>\n",
       "      <td>김성호</td>\n",
       "      <td>[답변] 임금일할계산방법, 연차와 평균임금\\n참 어려운 문제입니다. 앞서 답변하신 ...</td>\n",
       "    </tr>\n",
       "    <tr>\n",
       "      <th>4</th>\n",
       "      <td>노동</td>\n",
       "      <td>연차수당계산</td>\n",
       "      <td>20090313152554</td>\n",
       "      <td>20090310143729</td>\n",
       "      <td>김성호</td>\n",
       "      <td>[답변] 연차수당계산\\n최근에 입사한 직원분들은 '03년 근로기준법 개정사항에 대하...</td>\n",
       "    </tr>\n",
       "  </tbody>\n",
       "</table>\n",
       "</div>"
      ],
      "text/plain": [
       "   분야                                   질문명             등록일           답변등록일  \\\n",
       "0  노동                    근로자성 판단기준을 알고 싶습니다  20090313152554  20231027153039   \n",
       "1  노동  인적사항을 알 수 없는 퇴직자에 대한 금품지급 시정지시의 처리방법  20090313152554  20090311154916   \n",
       "2  노동                    해고성립, 해고예고수당과 부당해고  20090313152554  20090311153429   \n",
       "3  노동                    임금일할계산방법, 연차와 평균임금  20090313152554  20090310182444   \n",
       "4  노동                                연차수당계산  20090313152554  20090310143729   \n",
       "\n",
       "  답변등록자                                                 답변  \n",
       "0   김덕환  붙임 근로자성 판단기준 자료를 참고하여 주십시요.\\n붙임 근로자성 판단기준 자료를 ...  \n",
       "1   김호병   [답변] 인적사항을 알 수 없는 퇴직자에 대한 금품지급 시정지시의 처리방법\\n사안...  \n",
       "2   김성호  [답변] 해고성립, 해고예고수당과 부당해고\\n이번에도 앞서 답변하신 분과 다른 의견...  \n",
       "3   김성호  [답변] 임금일할계산방법, 연차와 평균임금\\n참 어려운 문제입니다. 앞서 답변하신 ...  \n",
       "4   김성호  [답변] 연차수당계산\\n최근에 입사한 직원분들은 '03년 근로기준법 개정사항에 대하...  "
      ]
     },
     "execution_count": 304,
     "metadata": {},
     "output_type": "execute_result"
    }
   ],
   "source": [
    "df_답변.head()"
   ]
  },
  {
   "cell_type": "code",
   "execution_count": 380,
   "metadata": {},
   "outputs": [],
   "source": [
    "df_댓글3 = df_댓글2[['분야', '질문명', '등록일', '답변등록일2', '댓글등록자', '답변']]\n",
    "\n",
    "df_댓글3 = df_댓글3.rename(columns={'답변등록일2':'답변등록일', '댓글등록자':'답변등록자'})\n",
    "\n",
    "df_댓글3['답변등록자'] = ''"
   ]
  },
  {
   "cell_type": "code",
   "execution_count": 381,
   "metadata": {},
   "outputs": [],
   "source": [
    "# '답변등록일' 컬럼이 NaN인 행 삭제\n",
    "df_댓글3 = df_댓글3.dropna(subset=['답변등록일'])\n",
    "df_댓글3 = df_댓글3.dropna(subset=['답변'])"
   ]
  },
  {
   "cell_type": "code",
   "execution_count": 382,
   "metadata": {},
   "outputs": [
    {
     "data": {
      "text/html": [
       "<div>\n",
       "<style scoped>\n",
       "    .dataframe tbody tr th:only-of-type {\n",
       "        vertical-align: middle;\n",
       "    }\n",
       "\n",
       "    .dataframe tbody tr th {\n",
       "        vertical-align: top;\n",
       "    }\n",
       "\n",
       "    .dataframe thead th {\n",
       "        text-align: right;\n",
       "    }\n",
       "</style>\n",
       "<table border=\"1\" class=\"dataframe\">\n",
       "  <thead>\n",
       "    <tr style=\"text-align: right;\">\n",
       "      <th></th>\n",
       "      <th>분야</th>\n",
       "      <th>질문명</th>\n",
       "      <th>등록일</th>\n",
       "      <th>답변등록일</th>\n",
       "      <th>답변등록자</th>\n",
       "      <th>답변</th>\n",
       "    </tr>\n",
       "  </thead>\n",
       "  <tbody>\n",
       "    <tr>\n",
       "      <th>0</th>\n",
       "      <td>노동</td>\n",
       "      <td>근로기준법 적용 대상 사업 관련 질문드립니다</td>\n",
       "      <td>20201020144804</td>\n",
       "      <td>20201021062334</td>\n",
       "      <td></td>\n",
       "      <td>건설업자이므로 사업장이 맞다고 생각하는데, -&gt; [댓글]그럼 급여도 정했을 것으로 ...</td>\n",
       "    </tr>\n",
       "    <tr>\n",
       "      <th>1</th>\n",
       "      <td>노동</td>\n",
       "      <td>근로기준법 적용 대상 사업 관련 질문드립니다</td>\n",
       "      <td>20201020144804</td>\n",
       "      <td>20201021062333</td>\n",
       "      <td></td>\n",
       "      <td>건설업자이므로 사업장이 맞다고 생각하는데, -&gt; [댓글]09:00~15:00 현장에...</td>\n",
       "    </tr>\n",
       "    <tr>\n",
       "      <th>2</th>\n",
       "      <td>노동</td>\n",
       "      <td>교육공무직 근로자 방학기간 주휴수당 문의드립니다.</td>\n",
       "      <td>20201021085445</td>\n",
       "      <td>20201021090643</td>\n",
       "      <td></td>\n",
       "      <td>관련 행정해석입니다 -&gt; [댓글]각급 학교의 공무직은 무기계약 근로자로서 근로를 제...</td>\n",
       "    </tr>\n",
       "    <tr>\n",
       "      <th>3</th>\n",
       "      <td>노동</td>\n",
       "      <td>해고예고 적용제외 대상의 판단기준 관련 문의</td>\n",
       "      <td>20201021154356</td>\n",
       "      <td>20201021230358</td>\n",
       "      <td></td>\n",
       "      <td>우선, 소중한 질문 감사드립니다~~^^ -&gt; [댓글]파일을 올릴 방법이 없어 따로 ...</td>\n",
       "    </tr>\n",
       "    <tr>\n",
       "      <th>4</th>\n",
       "      <td>노동</td>\n",
       "      <td>포괄임금제 항목 안에 연차수당이 포함되어 있는 경우 일할계산 기준</td>\n",
       "      <td>20201023172016</td>\n",
       "      <td>20201025211016</td>\n",
       "      <td></td>\n",
       "      <td>포괄임금 포함 임금에, 연장 근로를 하지 않아도 지급하는 고정연장근로수당은 -&gt; [...</td>\n",
       "    </tr>\n",
       "  </tbody>\n",
       "</table>\n",
       "</div>"
      ],
      "text/plain": [
       "   분야                                   질문명             등록일           답변등록일  \\\n",
       "0  노동              근로기준법 적용 대상 사업 관련 질문드립니다  20201020144804  20201021062334   \n",
       "1  노동              근로기준법 적용 대상 사업 관련 질문드립니다  20201020144804  20201021062333   \n",
       "2  노동           교육공무직 근로자 방학기간 주휴수당 문의드립니다.  20201021085445  20201021090643   \n",
       "3  노동              해고예고 적용제외 대상의 판단기준 관련 문의  20201021154356  20201021230358   \n",
       "4  노동  포괄임금제 항목 안에 연차수당이 포함되어 있는 경우 일할계산 기준  20201023172016  20201025211016   \n",
       "\n",
       "  답변등록자                                                 답변  \n",
       "0        건설업자이므로 사업장이 맞다고 생각하는데, -> [댓글]그럼 급여도 정했을 것으로 ...  \n",
       "1        건설업자이므로 사업장이 맞다고 생각하는데, -> [댓글]09:00~15:00 현장에...  \n",
       "2        관련 행정해석입니다 -> [댓글]각급 학교의 공무직은 무기계약 근로자로서 근로를 제...  \n",
       "3        우선, 소중한 질문 감사드립니다~~^^ -> [댓글]파일을 올릴 방법이 없어 따로 ...  \n",
       "4        포괄임금 포함 임금에, 연장 근로를 하지 않아도 지급하는 고정연장근로수당은 -> [...  "
      ]
     },
     "execution_count": 382,
     "metadata": {},
     "output_type": "execute_result"
    }
   ],
   "source": [
    "df_댓글3.head()"
   ]
  },
  {
   "cell_type": "code",
   "execution_count": 383,
   "metadata": {},
   "outputs": [],
   "source": [
    "# 답변과 댓글 하나로 합친다\n",
    "df_답변댓글 = pd.concat([df_답변, df_댓글3], ignore_index=True)"
   ]
  },
  {
   "cell_type": "code",
   "execution_count": 350,
   "metadata": {},
   "outputs": [
    {
     "data": {
      "text/html": [
       "<div>\n",
       "<style scoped>\n",
       "    .dataframe tbody tr th:only-of-type {\n",
       "        vertical-align: middle;\n",
       "    }\n",
       "\n",
       "    .dataframe tbody tr th {\n",
       "        vertical-align: top;\n",
       "    }\n",
       "\n",
       "    .dataframe thead th {\n",
       "        text-align: right;\n",
       "    }\n",
       "</style>\n",
       "<table border=\"1\" class=\"dataframe\">\n",
       "  <thead>\n",
       "    <tr style=\"text-align: right;\">\n",
       "      <th></th>\n",
       "      <th>분야</th>\n",
       "      <th>질문명</th>\n",
       "      <th>등록일</th>\n",
       "      <th>답변등록일</th>\n",
       "      <th>답변등록자</th>\n",
       "      <th>답변</th>\n",
       "    </tr>\n",
       "  </thead>\n",
       "  <tbody>\n",
       "    <tr>\n",
       "      <th>0</th>\n",
       "      <td>노동</td>\n",
       "      <td>근로자성 판단기준을 알고 싶습니다</td>\n",
       "      <td>20090313152554</td>\n",
       "      <td>20231027153039</td>\n",
       "      <td>김덕환</td>\n",
       "      <td>붙임 근로자성 판단기준 자료를 참고하여 주십시요.\\n붙임 근로자성 판단기준 자료를 ...</td>\n",
       "    </tr>\n",
       "    <tr>\n",
       "      <th>1</th>\n",
       "      <td>노동</td>\n",
       "      <td>인적사항을 알 수 없는 퇴직자에 대한 금품지급 시정지시의 처리방법</td>\n",
       "      <td>20090313152554</td>\n",
       "      <td>20090311154916</td>\n",
       "      <td>김호병</td>\n",
       "      <td>[답변] 인적사항을 알 수 없는 퇴직자에 대한 금품지급 시정지시의 처리방법\\n사안...</td>\n",
       "    </tr>\n",
       "    <tr>\n",
       "      <th>2</th>\n",
       "      <td>노동</td>\n",
       "      <td>해고성립, 해고예고수당과 부당해고</td>\n",
       "      <td>20090313152554</td>\n",
       "      <td>20090311153429</td>\n",
       "      <td>김성호</td>\n",
       "      <td>[답변] 해고성립, 해고예고수당과 부당해고\\n이번에도 앞서 답변하신 분과 다른 의견...</td>\n",
       "    </tr>\n",
       "    <tr>\n",
       "      <th>3</th>\n",
       "      <td>노동</td>\n",
       "      <td>임금일할계산방법, 연차와 평균임금</td>\n",
       "      <td>20090313152554</td>\n",
       "      <td>20090310182444</td>\n",
       "      <td>김성호</td>\n",
       "      <td>[답변] 임금일할계산방법, 연차와 평균임금\\n참 어려운 문제입니다. 앞서 답변하신 ...</td>\n",
       "    </tr>\n",
       "    <tr>\n",
       "      <th>4</th>\n",
       "      <td>노동</td>\n",
       "      <td>연차수당계산</td>\n",
       "      <td>20090313152554</td>\n",
       "      <td>20090310143729</td>\n",
       "      <td>김성호</td>\n",
       "      <td>[답변] 연차수당계산\\n최근에 입사한 직원분들은 '03년 근로기준법 개정사항에 대하...</td>\n",
       "    </tr>\n",
       "  </tbody>\n",
       "</table>\n",
       "</div>"
      ],
      "text/plain": [
       "   분야                                   질문명             등록일           답변등록일  \\\n",
       "0  노동                    근로자성 판단기준을 알고 싶습니다  20090313152554  20231027153039   \n",
       "1  노동  인적사항을 알 수 없는 퇴직자에 대한 금품지급 시정지시의 처리방법  20090313152554  20090311154916   \n",
       "2  노동                    해고성립, 해고예고수당과 부당해고  20090313152554  20090311153429   \n",
       "3  노동                    임금일할계산방법, 연차와 평균임금  20090313152554  20090310182444   \n",
       "4  노동                                연차수당계산  20090313152554  20090310143729   \n",
       "\n",
       "  답변등록자                                                 답변  \n",
       "0   김덕환  붙임 근로자성 판단기준 자료를 참고하여 주십시요.\\n붙임 근로자성 판단기준 자료를 ...  \n",
       "1   김호병   [답변] 인적사항을 알 수 없는 퇴직자에 대한 금품지급 시정지시의 처리방법\\n사안...  \n",
       "2   김성호  [답변] 해고성립, 해고예고수당과 부당해고\\n이번에도 앞서 답변하신 분과 다른 의견...  \n",
       "3   김성호  [답변] 임금일할계산방법, 연차와 평균임금\\n참 어려운 문제입니다. 앞서 답변하신 ...  \n",
       "4   김성호  [답변] 연차수당계산\\n최근에 입사한 직원분들은 '03년 근로기준법 개정사항에 대하...  "
      ]
     },
     "execution_count": 350,
     "metadata": {},
     "output_type": "execute_result"
    }
   ],
   "source": [
    "df_답변댓글.head()"
   ]
  },
  {
   "cell_type": "code",
   "execution_count": 384,
   "metadata": {},
   "outputs": [],
   "source": [
    "# df_질문2와 df_답변을 '질문명'과 '등록일'을 기준으로 병합하여 '연번'만 가져오기\n",
    "df_답변댓글2 = df_답변댓글.merge(df_질문2[['질문명', '등록일', '연번']], on=['질문명', '등록일'], how='left')"
   ]
  },
  {
   "cell_type": "code",
   "execution_count": 311,
   "metadata": {},
   "outputs": [
    {
     "data": {
      "text/plain": [
       "Index(['분야', '질문명', '등록일', '답변등록일', '답변등록자', '답변', '연번'], dtype='object')"
      ]
     },
     "execution_count": 311,
     "metadata": {},
     "output_type": "execute_result"
    }
   ],
   "source": [
    "df_답변댓글2.columns"
   ]
  },
  {
   "cell_type": "code",
   "execution_count": 312,
   "metadata": {},
   "outputs": [
    {
     "data": {
      "text/html": [
       "<div>\n",
       "<style scoped>\n",
       "    .dataframe tbody tr th:only-of-type {\n",
       "        vertical-align: middle;\n",
       "    }\n",
       "\n",
       "    .dataframe tbody tr th {\n",
       "        vertical-align: top;\n",
       "    }\n",
       "\n",
       "    .dataframe thead th {\n",
       "        text-align: right;\n",
       "    }\n",
       "</style>\n",
       "<table border=\"1\" class=\"dataframe\">\n",
       "  <thead>\n",
       "    <tr style=\"text-align: right;\">\n",
       "      <th></th>\n",
       "      <th>분야</th>\n",
       "      <th>질문명</th>\n",
       "      <th>등록일</th>\n",
       "      <th>답변등록일</th>\n",
       "      <th>답변등록자</th>\n",
       "      <th>답변</th>\n",
       "      <th>연번</th>\n",
       "    </tr>\n",
       "  </thead>\n",
       "  <tbody>\n",
       "    <tr>\n",
       "      <th>0</th>\n",
       "      <td>노동</td>\n",
       "      <td>근로자성 판단기준을 알고 싶습니다</td>\n",
       "      <td>20090313152554</td>\n",
       "      <td>20231027153039</td>\n",
       "      <td>김덕환</td>\n",
       "      <td>붙임 근로자성 판단기준 자료를 참고하여 주십시요.\\n붙임 근로자성 판단기준 자료를 ...</td>\n",
       "      <td>322002</td>\n",
       "    </tr>\n",
       "    <tr>\n",
       "      <th>1</th>\n",
       "      <td>노동</td>\n",
       "      <td>인적사항을 알 수 없는 퇴직자에 대한 금품지급 시정지시의 처리방법</td>\n",
       "      <td>20090313152554</td>\n",
       "      <td>20090311154916</td>\n",
       "      <td>김호병</td>\n",
       "      <td>[답변] 인적사항을 알 수 없는 퇴직자에 대한 금품지급 시정지시의 처리방법\\n사안...</td>\n",
       "      <td>322005</td>\n",
       "    </tr>\n",
       "    <tr>\n",
       "      <th>2</th>\n",
       "      <td>노동</td>\n",
       "      <td>해고성립, 해고예고수당과 부당해고</td>\n",
       "      <td>20090313152554</td>\n",
       "      <td>20090311153429</td>\n",
       "      <td>김성호</td>\n",
       "      <td>[답변] 해고성립, 해고예고수당과 부당해고\\n이번에도 앞서 답변하신 분과 다른 의견...</td>\n",
       "      <td>322003</td>\n",
       "    </tr>\n",
       "    <tr>\n",
       "      <th>3</th>\n",
       "      <td>노동</td>\n",
       "      <td>임금일할계산방법, 연차와 평균임금</td>\n",
       "      <td>20090313152554</td>\n",
       "      <td>20090310182444</td>\n",
       "      <td>김성호</td>\n",
       "      <td>[답변] 임금일할계산방법, 연차와 평균임금\\n참 어려운 문제입니다. 앞서 답변하신 ...</td>\n",
       "      <td>322004</td>\n",
       "    </tr>\n",
       "    <tr>\n",
       "      <th>4</th>\n",
       "      <td>노동</td>\n",
       "      <td>연차수당계산</td>\n",
       "      <td>20090313152554</td>\n",
       "      <td>20090310143729</td>\n",
       "      <td>김성호</td>\n",
       "      <td>[답변] 연차수당계산\\n최근에 입사한 직원분들은 '03년 근로기준법 개정사항에 대하...</td>\n",
       "      <td>322006</td>\n",
       "    </tr>\n",
       "  </tbody>\n",
       "</table>\n",
       "</div>"
      ],
      "text/plain": [
       "   분야                                   질문명             등록일           답변등록일  \\\n",
       "0  노동                    근로자성 판단기준을 알고 싶습니다  20090313152554  20231027153039   \n",
       "1  노동  인적사항을 알 수 없는 퇴직자에 대한 금품지급 시정지시의 처리방법  20090313152554  20090311154916   \n",
       "2  노동                    해고성립, 해고예고수당과 부당해고  20090313152554  20090311153429   \n",
       "3  노동                    임금일할계산방법, 연차와 평균임금  20090313152554  20090310182444   \n",
       "4  노동                                연차수당계산  20090313152554  20090310143729   \n",
       "\n",
       "  답변등록자                                                 답변      연번  \n",
       "0   김덕환  붙임 근로자성 판단기준 자료를 참고하여 주십시요.\\n붙임 근로자성 판단기준 자료를 ...  322002  \n",
       "1   김호병   [답변] 인적사항을 알 수 없는 퇴직자에 대한 금품지급 시정지시의 처리방법\\n사안...  322005  \n",
       "2   김성호  [답변] 해고성립, 해고예고수당과 부당해고\\n이번에도 앞서 답변하신 분과 다른 의견...  322003  \n",
       "3   김성호  [답변] 임금일할계산방법, 연차와 평균임금\\n참 어려운 문제입니다. 앞서 답변하신 ...  322004  \n",
       "4   김성호  [답변] 연차수당계산\\n최근에 입사한 직원분들은 '03년 근로기준법 개정사항에 대하...  322006  "
      ]
     },
     "execution_count": 312,
     "metadata": {},
     "output_type": "execute_result"
    }
   ],
   "source": [
    "df_답변댓글2.head()"
   ]
  },
  {
   "cell_type": "code",
   "execution_count": 385,
   "metadata": {},
   "outputs": [],
   "source": [
    "# '연번' 그룹별로 '답변등록일' 기준으로 오름차순으로 순서 매기기\n",
    "df_답변댓글2['답글순서'] = df_답변댓글2.groupby('연번')['답변등록일'].rank(method='first', ascending=True)"
   ]
  },
  {
   "cell_type": "code",
   "execution_count": 386,
   "metadata": {},
   "outputs": [],
   "source": [
    "# NaN 인 값에는 0을 입력하고 int로 변환한다.\n",
    "df_답변댓글2['답글순서'] = df_답변댓글2['답글순서'].fillna(0).astype(int)"
   ]
  },
  {
   "cell_type": "code",
   "execution_count": 387,
   "metadata": {},
   "outputs": [],
   "source": [
    "# 답글순서가 0 인 행은 삭제한다.\n",
    "df_답변댓글2 = df_답변댓글2[df_답변댓글2['답글순서'] != 0]"
   ]
  },
  {
   "cell_type": "code",
   "execution_count": 316,
   "metadata": {},
   "outputs": [
    {
     "data": {
      "text/plain": [
       "답글순서\n",
       "1     5748\n",
       "2     2442\n",
       "3     1098\n",
       "4      518\n",
       "5      243\n",
       "6      138\n",
       "7       77\n",
       "8       39\n",
       "9       21\n",
       "10      12\n",
       "11       7\n",
       "12       5\n",
       "13       4\n",
       "14       3\n",
       "17       1\n",
       "16       1\n",
       "15       1\n",
       "Name: count, dtype: int64"
      ]
     },
     "execution_count": 316,
     "metadata": {},
     "output_type": "execute_result"
    }
   ],
   "source": [
    "df_답변댓글2['답글순서'].value_counts()"
   ]
  },
  {
   "cell_type": "code",
   "execution_count": 388,
   "metadata": {},
   "outputs": [],
   "source": [
    "# 답변연번 컬럼을 추가하고, 10000 부터 1씩 증가하는 값을 입력한다.\n",
    "df_답변댓글2['답변연번'] = range(10000, 10000 + len(df_답변댓글2))"
   ]
  },
  {
   "cell_type": "code",
   "execution_count": 389,
   "metadata": {},
   "outputs": [
    {
     "name": "stdout",
     "output_type": "stream",
     "text": [
      "<class 'pandas.core.frame.DataFrame'>\n",
      "RangeIndex: 10353 entries, 0 to 10352\n",
      "Data columns (total 9 columns):\n",
      " #   Column  Non-Null Count  Dtype \n",
      "---  ------  --------------  ----- \n",
      " 0   분야      10353 non-null  object\n",
      " 1   질문명     10353 non-null  object\n",
      " 2   등록일     10353 non-null  object\n",
      " 3   답변등록일   10353 non-null  object\n",
      " 4   답변등록자   10353 non-null  object\n",
      " 5   답변      10353 non-null  object\n",
      " 6   연번      10353 non-null  int64 \n",
      " 7   답글순서    10353 non-null  int64 \n",
      " 8   답변연번    10353 non-null  int64 \n",
      "dtypes: int64(3), object(6)\n",
      "memory usage: 728.1+ KB\n"
     ]
    }
   ],
   "source": [
    "df_답변댓글2.info()"
   ]
  },
  {
   "cell_type": "code",
   "execution_count": 390,
   "metadata": {},
   "outputs": [],
   "source": [
    "# 컬럼 순서를 바꾸고 필요없는 컬럼은 버린다\n",
    "df_답변댓글2 = df_답변댓글2[['답변연번', '연번', '분야', '질문명', '등록일', '답변등록일', '답변등록자', '답글순서', '답변']]\n",
    "\n",
    "# 컬럼 이름을 바꾼다\n",
    "df_답변댓글2 = df_답변댓글2.rename(columns={'연번':'게시판일련번호'})"
   ]
  },
  {
   "cell_type": "code",
   "execution_count": 391,
   "metadata": {},
   "outputs": [],
   "source": [
    "df_답변댓글2.to_csv(\"통합_답변댓글.csv\", encoding=\"utf-8\", index=False)"
   ]
  }
 ],
 "metadata": {
  "kernelspec": {
   "display_name": "Python 3",
   "language": "python",
   "name": "python3"
  },
  "language_info": {
   "codemirror_mode": {
    "name": "ipython",
    "version": 3
   },
   "file_extension": ".py",
   "mimetype": "text/x-python",
   "name": "python",
   "nbconvert_exporter": "python",
   "pygments_lexer": "ipython3",
   "version": "3.12.6"
  }
 },
 "nbformat": 4,
 "nbformat_minor": 2
}
